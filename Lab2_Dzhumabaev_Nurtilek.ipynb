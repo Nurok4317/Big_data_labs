{
 "cells": [
  {
   "cell_type": "code",
   "execution_count": null,
   "outputs": [],
   "source": [
    "import numpy as np #Импортируем библиотеку Numpy\n",
    "my_array = np.arange(5, 101, 5) # создаём массив\n",
    "my_array #вывод массива"
   ],
   "metadata": {
    "collapsed": false
   },
   "id": "464403bced6b2734"
  },
  {
   "cell_type": "code",
   "execution_count": 2,
   "outputs": [
    {
     "data": {
      "text/plain": "array([ 10,  20,  30,  40,  50,  60,  70,  80,  90, 100])"
     },
     "execution_count": 2,
     "metadata": {},
     "output_type": "execute_result"
    }
   ],
   "source": [
    "my_array_10 = my_array[my_array % 10 == 0] #Массив кратный 10 из массива my_array\n",
    "my_array_10"
   ],
   "metadata": {
    "collapsed": false,
    "ExecuteTime": {
     "end_time": "2024-09-22T14:32:04.219148700Z",
     "start_time": "2024-09-22T14:32:04.176037300Z"
    }
   },
   "id": "ea32ada3f7b19645"
  },
  {
   "cell_type": "markdown",
   "source": [],
   "metadata": {
    "collapsed": false
   },
   "id": "829d3d873b0c6451"
  },
  {
   "cell_type": "code",
   "execution_count": 13,
   "outputs": [
    {
     "data": {
      "text/plain": "array([[  5,  10],\n       [ 15,  20],\n       [ 25,  30],\n       [ 35,  40],\n       [ 45,  50],\n       [ 55,  60],\n       [ 65,  70],\n       [ 75,  80],\n       [ 85,  90],\n       [ 95, 100]])"
     },
     "execution_count": 13,
     "metadata": {},
     "output_type": "execute_result"
    }
   ],
   "source": [
    "my_array_2d = my_array.reshape(-1, 2) # Создаём 2-мерный массив\n",
    "my_array_2d\n"
   ],
   "metadata": {
    "collapsed": false,
    "ExecuteTime": {
     "end_time": "2024-09-22T14:42:05.991659100Z",
     "start_time": "2024-09-22T14:42:05.966689400Z"
    }
   },
   "id": "50b69e099ef7e3d1"
  },
  {
   "cell_type": "code",
   "execution_count": 14,
   "outputs": [
    {
     "data": {
      "text/plain": "array([ 0,  5, 10, 15, 20, 25, 30, 35, 40, 45, 50, 55, 60, 65, 70, 75, 80,\n       85, 90, 95])"
     },
     "execution_count": 14,
     "metadata": {},
     "output_type": "execute_result"
    }
   ],
   "source": [
    "my_second_array = my_array - 5 #создаём второй массив с значения меньшими на 5 от my_arrray\n",
    "my_second_array"
   ],
   "metadata": {
    "collapsed": false,
    "ExecuteTime": {
     "end_time": "2024-09-22T14:42:09.129393100Z",
     "start_time": "2024-09-22T14:42:09.113217600Z"
    }
   },
   "id": "897186e74c08eee1"
  },
  {
   "cell_type": "code",
   "execution_count": 18,
   "outputs": [
    {
     "data": {
      "text/plain": "array([[  5,  15,  25,  35,  45,  55,  65,  75,  85,  95,   0,  10,  20,\n         30,  40,  50,  60,  70,  80,  90],\n       [ 10,  20,  30,  40,  50,  60,  70,  80,  90, 100,   5,  15,  25,\n         35,  45,  55,  65,  75,  85,  95]])"
     },
     "execution_count": 18,
     "metadata": {},
     "output_type": "execute_result"
    }
   ],
   "source": [
    "# Преобразуем массив my_second_array в двумерный и транспонируем\n",
    "my_second_array_2d = my_second_array.reshape(-1, 2)\n",
    "# Объединяем my_2d_array.T и my_second_array_2d по горизонтали\n",
    "combined_array = np.hstack((my_array_2d.T, my_second_array_2d.T))\n",
    "combined_array\n"
   ],
   "metadata": {
    "collapsed": false,
    "ExecuteTime": {
     "end_time": "2024-09-22T14:45:05.745299Z",
     "start_time": "2024-09-22T14:45:05.728301200Z"
    }
   },
   "id": "c439079cacc0bc7f"
  },
  {
   "cell_type": "code",
   "execution_count": 29,
   "outputs": [
    {
     "name": "stdout",
     "output_type": "stream",
     "text": [
      "Результат деления и транспонирования:\n",
      "[[3.         1.66666667]\n",
      " [2.         1.5       ]]\n"
     ]
    }
   ],
   "source": [
    "# Выделяем 4 верхние строки\n",
    "top_rows = my_array_2d[:4]\n",
    "\n",
    "# Выделяем 2 и 3 строки\n",
    "rows_to_divide = my_array_2d[1:3]  # это строки 1 и 2 (второй и третий элементы)\n",
    "\n",
    "# Делим 2-ю строку на 1-ю, 3-ю на 2-ю\n",
    "result = np.empty_like(rows_to_divide, dtype=float)\n",
    "result[0] = rows_to_divide[0] / top_rows[0]  # 2-я строка / 1-я\n",
    "result[1] = rows_to_divide[1] / top_rows[1]  # 3-я строка / 2-я\n",
    "\n",
    "# Транспонируем результат\n",
    "result_transposed = result.T\n",
    "\n",
    "print(\"Результат деления и транспонирования:\")\n",
    "print(result_transposed)\n"
   ],
   "metadata": {
    "collapsed": false,
    "ExecuteTime": {
     "end_time": "2024-09-22T14:53:25.032248600Z",
     "start_time": "2024-09-22T14:53:25.005478300Z"
    }
   },
   "id": "3ceec34262f04926"
  },
  {
   "cell_type": "code",
   "execution_count": 30,
   "outputs": [
    {
     "name": "stdout",
     "output_type": "stream",
     "text": [
      "Оставленные значения, которые не изменились после деления:\n",
      "[]\n"
     ]
    }
   ],
   "source": [
    "# Сравниваем результаты с исходными строками\n",
    "unchanged_values = np.where(result == rows_to_divide, result, np.nan)  # Заменяем изменённые значения на NaN\n",
    "\n",
    "# Удаляем NaN из результата\n",
    "unchanged_values = unchanged_values[~np.isnan(unchanged_values)]\n",
    "print(\"Оставленные значения, которые не изменились после деления:\")\n",
    "print(unchanged_values)"
   ],
   "metadata": {
    "collapsed": false,
    "ExecuteTime": {
     "end_time": "2024-09-22T14:53:27.857447100Z",
     "start_time": "2024-09-22T14:53:27.833835200Z"
    }
   },
   "id": "f5c70419807db970"
  },
  {
   "cell_type": "code",
   "execution_count": 32,
   "outputs": [
    {
     "data": {
      "text/plain": "array([[ 3.        ,  2.        ],\n       [15.        , 20.        ],\n       [ 5.        , 10.        ],\n       [ 1.66666667,  1.5       ]])"
     },
     "execution_count": 32,
     "metadata": {},
     "output_type": "execute_result"
    }
   ],
   "source": [
    "# Получаем трехстрочный массив (добавляем одну строку, чтобы получить 3)\n",
    "three_row_array = np.vstack((top_rows[:2], result))  # Выбираем 2 верхние строки и добавляем результат\n",
    "\n",
    "# Меняем местами первую и третью строки\n",
    "three_row_array[[0, 2]] = three_row_array[[2, 0]]\n",
    "\n",
    "three_row_array"
   ],
   "metadata": {
    "collapsed": false,
    "ExecuteTime": {
     "end_time": "2024-09-22T14:54:19.579280100Z",
     "start_time": "2024-09-22T14:54:19.551084700Z"
    }
   },
   "id": "b3b1eda7569e1798"
  },
  {
   "cell_type": "code",
   "execution_count": 34,
   "outputs": [
    {
     "data": {
      "text/plain": "array([0.5       , 2.5       , 2.5       , 0.08333333])"
     },
     "execution_count": 34,
     "metadata": {},
     "output_type": "execute_result"
    }
   ],
   "source": [
    "# Вычисляем среднее, медиану и стандартное отклонение для каждой строки\n",
    "mean_values = np.mean(three_row_array, axis=1)\n",
    "median_values = np.median(three_row_array, axis=1)\n",
    "std_values = np.std(three_row_array, axis=1)\n",
    "mean_values\n",
    "median_values\n",
    "std_values"
   ],
   "metadata": {
    "collapsed": false,
    "ExecuteTime": {
     "end_time": "2024-09-22T14:55:03.734249500Z",
     "start_time": "2024-09-22T14:55:03.713864300Z"
    }
   },
   "id": "a7c31b57dcd87a2"
  },
  {
   "cell_type": "code",
   "execution_count": 35,
   "outputs": [
    {
     "data": {
      "text/plain": "array([[1.        , 0.66666667],\n       [0.75      , 1.        ],\n       [0.5       , 1.        ],\n       [1.        , 0.9       ]])"
     },
     "execution_count": 35,
     "metadata": {},
     "output_type": "execute_result"
    }
   ],
   "source": [
    "# Нормализация на максимальное значение вдоль строк\n",
    "max_values = np.max(three_row_array, axis=1, keepdims=True)  # Получаем максимальные значения с сохранением размерности\n",
    "normalized_array = three_row_array / max_values  # Делим каждый элемент на максимальное значение\n",
    "normalized_array"
   ],
   "metadata": {
    "collapsed": false,
    "ExecuteTime": {
     "end_time": "2024-09-22T14:55:37.251238Z",
     "start_time": "2024-09-22T14:55:37.213262400Z"
    }
   },
   "id": "15370bd2a0204ee4"
  },
  {
   "cell_type": "code",
   "execution_count": 36,
   "outputs": [
    {
     "data": {
      "text/plain": "          Country  Year Total Population Urban Population Rural Population  \\\n0     Afghanistan  2017                -                -                -   \n1     Afghanistan  2018       36,686,784        9,353,296       27,333,488   \n2     Afghanistan  2019       37,769,499        9,727,157       28,042,342   \n3     Afghanistan  2020       38,972,230       10,142,913       28,829,317   \n4     Afghanistan  2021       40,099,462       10,551,772       29,547,690   \n...           ...   ...              ...              ...              ...   \n1068     Zimbabwe  2017                -                -                -   \n1069     Zimbabwe  2018       15,052,184        4,848,158       10,204,026   \n1070     Zimbabwe  2019       15,354,608        4,945,719       10,408,889   \n1071     Zimbabwe  2020       15,669,666        5,052,214       10,617,452   \n1072     Zimbabwe  2021       15,993,524        5,166,388       10,827,136   \n\n     Population Density Life Expectancy  Birth Rate  Death Rate  \\\n0                    55              63      37.342       7.027   \n1                    56              63      36.927       6.981   \n2                    58              64      36.466       6.791   \n3                    60              63      36.051       7.113   \n4                     -              62      35.842       7.344   \n...                 ...             ...         ...         ...   \n1068                 38              61      32.516       8.266   \n1069                 39              61      32.074       7.972   \n1070                 40              61      31.518       8.043   \n1071                 41              61      31.009       8.132   \n1072                  -              59      30.537       9.057   \n\n     Fertility Rate Infant Mortality Rate Growth Rate  \n0             5.129                  49.4           -  \n1             5.002                  47.8           3  \n2              4.87                  46.3           3  \n3              4.75                  44.8           3  \n4             4.643                  43.4           3  \n...             ...                   ...         ...  \n1068          3.706                  39.5           -  \n1069          3.659                    38           2  \n1070          3.599                  37.1           2  \n1071          3.545                  36.6           2  \n1072          3.491                  35.7           2  \n\n[1073 rows x 12 columns]",
      "text/html": "<div>\n<style scoped>\n    .dataframe tbody tr th:only-of-type {\n        vertical-align: middle;\n    }\n\n    .dataframe tbody tr th {\n        vertical-align: top;\n    }\n\n    .dataframe thead th {\n        text-align: right;\n    }\n</style>\n<table border=\"1\" class=\"dataframe\">\n  <thead>\n    <tr style=\"text-align: right;\">\n      <th></th>\n      <th>Country</th>\n      <th>Year</th>\n      <th>Total Population</th>\n      <th>Urban Population</th>\n      <th>Rural Population</th>\n      <th>Population Density</th>\n      <th>Life Expectancy</th>\n      <th>Birth Rate</th>\n      <th>Death Rate</th>\n      <th>Fertility Rate</th>\n      <th>Infant Mortality Rate</th>\n      <th>Growth Rate</th>\n    </tr>\n  </thead>\n  <tbody>\n    <tr>\n      <th>0</th>\n      <td>Afghanistan</td>\n      <td>2017</td>\n      <td>-</td>\n      <td>-</td>\n      <td>-</td>\n      <td>55</td>\n      <td>63</td>\n      <td>37.342</td>\n      <td>7.027</td>\n      <td>5.129</td>\n      <td>49.4</td>\n      <td>-</td>\n    </tr>\n    <tr>\n      <th>1</th>\n      <td>Afghanistan</td>\n      <td>2018</td>\n      <td>36,686,784</td>\n      <td>9,353,296</td>\n      <td>27,333,488</td>\n      <td>56</td>\n      <td>63</td>\n      <td>36.927</td>\n      <td>6.981</td>\n      <td>5.002</td>\n      <td>47.8</td>\n      <td>3</td>\n    </tr>\n    <tr>\n      <th>2</th>\n      <td>Afghanistan</td>\n      <td>2019</td>\n      <td>37,769,499</td>\n      <td>9,727,157</td>\n      <td>28,042,342</td>\n      <td>58</td>\n      <td>64</td>\n      <td>36.466</td>\n      <td>6.791</td>\n      <td>4.87</td>\n      <td>46.3</td>\n      <td>3</td>\n    </tr>\n    <tr>\n      <th>3</th>\n      <td>Afghanistan</td>\n      <td>2020</td>\n      <td>38,972,230</td>\n      <td>10,142,913</td>\n      <td>28,829,317</td>\n      <td>60</td>\n      <td>63</td>\n      <td>36.051</td>\n      <td>7.113</td>\n      <td>4.75</td>\n      <td>44.8</td>\n      <td>3</td>\n    </tr>\n    <tr>\n      <th>4</th>\n      <td>Afghanistan</td>\n      <td>2021</td>\n      <td>40,099,462</td>\n      <td>10,551,772</td>\n      <td>29,547,690</td>\n      <td>-</td>\n      <td>62</td>\n      <td>35.842</td>\n      <td>7.344</td>\n      <td>4.643</td>\n      <td>43.4</td>\n      <td>3</td>\n    </tr>\n    <tr>\n      <th>...</th>\n      <td>...</td>\n      <td>...</td>\n      <td>...</td>\n      <td>...</td>\n      <td>...</td>\n      <td>...</td>\n      <td>...</td>\n      <td>...</td>\n      <td>...</td>\n      <td>...</td>\n      <td>...</td>\n      <td>...</td>\n    </tr>\n    <tr>\n      <th>1068</th>\n      <td>Zimbabwe</td>\n      <td>2017</td>\n      <td>-</td>\n      <td>-</td>\n      <td>-</td>\n      <td>38</td>\n      <td>61</td>\n      <td>32.516</td>\n      <td>8.266</td>\n      <td>3.706</td>\n      <td>39.5</td>\n      <td>-</td>\n    </tr>\n    <tr>\n      <th>1069</th>\n      <td>Zimbabwe</td>\n      <td>2018</td>\n      <td>15,052,184</td>\n      <td>4,848,158</td>\n      <td>10,204,026</td>\n      <td>39</td>\n      <td>61</td>\n      <td>32.074</td>\n      <td>7.972</td>\n      <td>3.659</td>\n      <td>38</td>\n      <td>2</td>\n    </tr>\n    <tr>\n      <th>1070</th>\n      <td>Zimbabwe</td>\n      <td>2019</td>\n      <td>15,354,608</td>\n      <td>4,945,719</td>\n      <td>10,408,889</td>\n      <td>40</td>\n      <td>61</td>\n      <td>31.518</td>\n      <td>8.043</td>\n      <td>3.599</td>\n      <td>37.1</td>\n      <td>2</td>\n    </tr>\n    <tr>\n      <th>1071</th>\n      <td>Zimbabwe</td>\n      <td>2020</td>\n      <td>15,669,666</td>\n      <td>5,052,214</td>\n      <td>10,617,452</td>\n      <td>41</td>\n      <td>61</td>\n      <td>31.009</td>\n      <td>8.132</td>\n      <td>3.545</td>\n      <td>36.6</td>\n      <td>2</td>\n    </tr>\n    <tr>\n      <th>1072</th>\n      <td>Zimbabwe</td>\n      <td>2021</td>\n      <td>15,993,524</td>\n      <td>5,166,388</td>\n      <td>10,827,136</td>\n      <td>-</td>\n      <td>59</td>\n      <td>30.537</td>\n      <td>9.057</td>\n      <td>3.491</td>\n      <td>35.7</td>\n      <td>2</td>\n    </tr>\n  </tbody>\n</table>\n<p>1073 rows × 12 columns</p>\n</div>"
     },
     "execution_count": 36,
     "metadata": {},
     "output_type": "execute_result"
    }
   ],
   "source": [
    "import pandas as pd #Импортируем pandas\n",
    "df = pd.read_csv('Global Population Trends(2016-2022).csv') # Импортируем данные из файла Global Population Trends(2016-2022).csv\n",
    "df"
   ],
   "metadata": {
    "collapsed": false,
    "ExecuteTime": {
     "end_time": "2024-09-22T15:02:08.149336200Z",
     "start_time": "2024-09-22T15:02:08.098177Z"
    }
   },
   "id": "91ee9150dfb77fc8"
  },
  {
   "cell_type": "code",
   "execution_count": 37,
   "outputs": [
    {
     "data": {
      "text/plain": "       Country  Year Total Population Urban Population Rural Population  \\\n0  Afghanistan  2017                -                -                -   \n1  Afghanistan  2018       36,686,784        9,353,296       27,333,488   \n2  Afghanistan  2019       37,769,499        9,727,157       28,042,342   \n3  Afghanistan  2020       38,972,230       10,142,913       28,829,317   \n4  Afghanistan  2021       40,099,462       10,551,772       29,547,690   \n\n  Population Density Life Expectancy  Birth Rate  Death Rate Fertility Rate  \\\n0                 55              63      37.342       7.027          5.129   \n1                 56              63      36.927       6.981          5.002   \n2                 58              64      36.466       6.791           4.87   \n3                 60              63      36.051       7.113           4.75   \n4                  -              62      35.842       7.344          4.643   \n\n  Infant Mortality Rate Growth Rate  \n0                  49.4           -  \n1                  47.8           3  \n2                  46.3           3  \n3                  44.8           3  \n4                  43.4           3  ",
      "text/html": "<div>\n<style scoped>\n    .dataframe tbody tr th:only-of-type {\n        vertical-align: middle;\n    }\n\n    .dataframe tbody tr th {\n        vertical-align: top;\n    }\n\n    .dataframe thead th {\n        text-align: right;\n    }\n</style>\n<table border=\"1\" class=\"dataframe\">\n  <thead>\n    <tr style=\"text-align: right;\">\n      <th></th>\n      <th>Country</th>\n      <th>Year</th>\n      <th>Total Population</th>\n      <th>Urban Population</th>\n      <th>Rural Population</th>\n      <th>Population Density</th>\n      <th>Life Expectancy</th>\n      <th>Birth Rate</th>\n      <th>Death Rate</th>\n      <th>Fertility Rate</th>\n      <th>Infant Mortality Rate</th>\n      <th>Growth Rate</th>\n    </tr>\n  </thead>\n  <tbody>\n    <tr>\n      <th>0</th>\n      <td>Afghanistan</td>\n      <td>2017</td>\n      <td>-</td>\n      <td>-</td>\n      <td>-</td>\n      <td>55</td>\n      <td>63</td>\n      <td>37.342</td>\n      <td>7.027</td>\n      <td>5.129</td>\n      <td>49.4</td>\n      <td>-</td>\n    </tr>\n    <tr>\n      <th>1</th>\n      <td>Afghanistan</td>\n      <td>2018</td>\n      <td>36,686,784</td>\n      <td>9,353,296</td>\n      <td>27,333,488</td>\n      <td>56</td>\n      <td>63</td>\n      <td>36.927</td>\n      <td>6.981</td>\n      <td>5.002</td>\n      <td>47.8</td>\n      <td>3</td>\n    </tr>\n    <tr>\n      <th>2</th>\n      <td>Afghanistan</td>\n      <td>2019</td>\n      <td>37,769,499</td>\n      <td>9,727,157</td>\n      <td>28,042,342</td>\n      <td>58</td>\n      <td>64</td>\n      <td>36.466</td>\n      <td>6.791</td>\n      <td>4.87</td>\n      <td>46.3</td>\n      <td>3</td>\n    </tr>\n    <tr>\n      <th>3</th>\n      <td>Afghanistan</td>\n      <td>2020</td>\n      <td>38,972,230</td>\n      <td>10,142,913</td>\n      <td>28,829,317</td>\n      <td>60</td>\n      <td>63</td>\n      <td>36.051</td>\n      <td>7.113</td>\n      <td>4.75</td>\n      <td>44.8</td>\n      <td>3</td>\n    </tr>\n    <tr>\n      <th>4</th>\n      <td>Afghanistan</td>\n      <td>2021</td>\n      <td>40,099,462</td>\n      <td>10,551,772</td>\n      <td>29,547,690</td>\n      <td>-</td>\n      <td>62</td>\n      <td>35.842</td>\n      <td>7.344</td>\n      <td>4.643</td>\n      <td>43.4</td>\n      <td>3</td>\n    </tr>\n  </tbody>\n</table>\n</div>"
     },
     "execution_count": 37,
     "metadata": {},
     "output_type": "execute_result"
    }
   ],
   "source": [
    "df.head() # выводим несколько первых строк"
   ],
   "metadata": {
    "collapsed": false,
    "ExecuteTime": {
     "end_time": "2024-09-22T15:03:25.983550100Z",
     "start_time": "2024-09-22T15:03:25.917489200Z"
    }
   },
   "id": "4fc663d87d413db7"
  },
  {
   "cell_type": "code",
   "execution_count": 39,
   "outputs": [
    {
     "data": {
      "text/plain": "(1073, 12)"
     },
     "execution_count": 39,
     "metadata": {},
     "output_type": "execute_result"
    }
   ],
   "source": [
    "df.shape #Определяем размерность фрейма"
   ],
   "metadata": {
    "collapsed": false,
    "ExecuteTime": {
     "end_time": "2024-09-22T15:03:47.410691Z",
     "start_time": "2024-09-22T15:03:47.384097900Z"
    }
   },
   "id": "77fbd19a50485499"
  },
  {
   "cell_type": "code",
   "execution_count": 40,
   "outputs": [
    {
     "data": {
      "text/plain": "Index(['Country', 'Year', 'Total Population', 'Urban Population',\n       'Rural Population', 'Population Density', 'Life Expectancy',\n       'Birth Rate', 'Death Rate', 'Fertility Rate', 'Infant Mortality Rate',\n       'Growth Rate'],\n      dtype='object')"
     },
     "execution_count": 40,
     "metadata": {},
     "output_type": "execute_result"
    }
   ],
   "source": [
    "df.columns #Выводим название заголовков столбцов"
   ],
   "metadata": {
    "collapsed": false,
    "ExecuteTime": {
     "end_time": "2024-09-22T15:04:00.358182500Z",
     "start_time": "2024-09-22T15:04:00.312417500Z"
    }
   },
   "id": "9ef0e8de72523446"
  },
  {
   "cell_type": "code",
   "execution_count": 41,
   "outputs": [
    {
     "data": {
      "text/plain": "<bound method DataFrame.info of           Country  Year Total Population Urban Population Rural Population  \\\n0     Afghanistan  2017                -                -                -   \n1     Afghanistan  2018       36,686,784        9,353,296       27,333,488   \n2     Afghanistan  2019       37,769,499        9,727,157       28,042,342   \n3     Afghanistan  2020       38,972,230       10,142,913       28,829,317   \n4     Afghanistan  2021       40,099,462       10,551,772       29,547,690   \n...           ...   ...              ...              ...              ...   \n1068     Zimbabwe  2017                -                -                -   \n1069     Zimbabwe  2018       15,052,184        4,848,158       10,204,026   \n1070     Zimbabwe  2019       15,354,608        4,945,719       10,408,889   \n1071     Zimbabwe  2020       15,669,666        5,052,214       10,617,452   \n1072     Zimbabwe  2021       15,993,524        5,166,388       10,827,136   \n\n     Population Density Life Expectancy  Birth Rate  Death Rate  \\\n0                    55              63      37.342       7.027   \n1                    56              63      36.927       6.981   \n2                    58              64      36.466       6.791   \n3                    60              63      36.051       7.113   \n4                     -              62      35.842       7.344   \n...                 ...             ...         ...         ...   \n1068                 38              61      32.516       8.266   \n1069                 39              61      32.074       7.972   \n1070                 40              61      31.518       8.043   \n1071                 41              61      31.009       8.132   \n1072                  -              59      30.537       9.057   \n\n     Fertility Rate Infant Mortality Rate Growth Rate  \n0             5.129                  49.4           -  \n1             5.002                  47.8           3  \n2              4.87                  46.3           3  \n3              4.75                  44.8           3  \n4             4.643                  43.4           3  \n...             ...                   ...         ...  \n1068          3.706                  39.5           -  \n1069          3.659                    38           2  \n1070          3.599                  37.1           2  \n1071          3.545                  36.6           2  \n1072          3.491                  35.7           2  \n\n[1073 rows x 12 columns]>"
     },
     "execution_count": 41,
     "metadata": {},
     "output_type": "execute_result"
    }
   ],
   "source": [
    "df.info #Получаем описание всех переменных(полей)"
   ],
   "metadata": {
    "collapsed": false,
    "ExecuteTime": {
     "end_time": "2024-09-22T15:04:43.542626400Z",
     "start_time": "2024-09-22T15:04:43.496235300Z"
    }
   },
   "id": "92062e22695f7cd7"
  },
  {
   "cell_type": "code",
   "execution_count": 43,
   "outputs": [
    {
     "data": {
      "text/plain": "          Country  Year Total Population Urban Population Rural Population  \\\n1     Afghanistan  2018       36,686,784        9,353,296       27,333,488   \n2     Afghanistan  2019       37,769,499        9,727,157       28,042,342   \n3     Afghanistan  2020       38,972,230       10,142,913       28,829,317   \n4     Afghanistan  2021       40,099,462       10,551,772       29,547,690   \n6         Albania  2018        2,866,376        1,728,969        1,137,407   \n...           ...   ...              ...              ...              ...   \n1067       Zambia  2021       19,473,125        8,800,295       10,672,830   \n1069     Zimbabwe  2018       15,052,184        4,848,158       10,204,026   \n1070     Zimbabwe  2019       15,354,608        4,945,719       10,408,889   \n1071     Zimbabwe  2020       15,669,666        5,052,214       10,617,452   \n1072     Zimbabwe  2021       15,993,524        5,166,388       10,827,136   \n\n     Population Density Life Expectancy  Birth Rate  Death Rate  \\\n1                    56              63      36.927       6.981   \n2                    58              64      36.466       6.791   \n3                    60              63      36.051       7.113   \n4                     -              62      35.842       7.344   \n6                   105              79      10.517       8.308   \n...                 ...             ...         ...         ...   \n1067                  -              61      34.511       6.973   \n1069                 39              61      32.074       7.972   \n1070                 40              61      31.518       8.043   \n1071                 41              61      31.009       8.132   \n1072                  -              59      30.537       9.057   \n\n     Fertility Rate Infant Mortality Rate Growth Rate  \n1             5.002                  47.8           3  \n2              4.87                  46.3           3  \n3              4.75                  44.8           3  \n4             4.643                  43.4           3  \n6              1.44                   8.3           0  \n...             ...                   ...         ...  \n1067          4.308                  40.2           3  \n1069          3.659                    38           2  \n1070          3.599                  37.1           2  \n1071          3.545                  36.6           2  \n1072          3.491                  35.7           2  \n\n[864 rows x 12 columns]",
      "text/html": "<div>\n<style scoped>\n    .dataframe tbody tr th:only-of-type {\n        vertical-align: middle;\n    }\n\n    .dataframe tbody tr th {\n        vertical-align: top;\n    }\n\n    .dataframe thead th {\n        text-align: right;\n    }\n</style>\n<table border=\"1\" class=\"dataframe\">\n  <thead>\n    <tr style=\"text-align: right;\">\n      <th></th>\n      <th>Country</th>\n      <th>Year</th>\n      <th>Total Population</th>\n      <th>Urban Population</th>\n      <th>Rural Population</th>\n      <th>Population Density</th>\n      <th>Life Expectancy</th>\n      <th>Birth Rate</th>\n      <th>Death Rate</th>\n      <th>Fertility Rate</th>\n      <th>Infant Mortality Rate</th>\n      <th>Growth Rate</th>\n    </tr>\n  </thead>\n  <tbody>\n    <tr>\n      <th>1</th>\n      <td>Afghanistan</td>\n      <td>2018</td>\n      <td>36,686,784</td>\n      <td>9,353,296</td>\n      <td>27,333,488</td>\n      <td>56</td>\n      <td>63</td>\n      <td>36.927</td>\n      <td>6.981</td>\n      <td>5.002</td>\n      <td>47.8</td>\n      <td>3</td>\n    </tr>\n    <tr>\n      <th>2</th>\n      <td>Afghanistan</td>\n      <td>2019</td>\n      <td>37,769,499</td>\n      <td>9,727,157</td>\n      <td>28,042,342</td>\n      <td>58</td>\n      <td>64</td>\n      <td>36.466</td>\n      <td>6.791</td>\n      <td>4.87</td>\n      <td>46.3</td>\n      <td>3</td>\n    </tr>\n    <tr>\n      <th>3</th>\n      <td>Afghanistan</td>\n      <td>2020</td>\n      <td>38,972,230</td>\n      <td>10,142,913</td>\n      <td>28,829,317</td>\n      <td>60</td>\n      <td>63</td>\n      <td>36.051</td>\n      <td>7.113</td>\n      <td>4.75</td>\n      <td>44.8</td>\n      <td>3</td>\n    </tr>\n    <tr>\n      <th>4</th>\n      <td>Afghanistan</td>\n      <td>2021</td>\n      <td>40,099,462</td>\n      <td>10,551,772</td>\n      <td>29,547,690</td>\n      <td>-</td>\n      <td>62</td>\n      <td>35.842</td>\n      <td>7.344</td>\n      <td>4.643</td>\n      <td>43.4</td>\n      <td>3</td>\n    </tr>\n    <tr>\n      <th>6</th>\n      <td>Albania</td>\n      <td>2018</td>\n      <td>2,866,376</td>\n      <td>1,728,969</td>\n      <td>1,137,407</td>\n      <td>105</td>\n      <td>79</td>\n      <td>10.517</td>\n      <td>8.308</td>\n      <td>1.44</td>\n      <td>8.3</td>\n      <td>0</td>\n    </tr>\n    <tr>\n      <th>...</th>\n      <td>...</td>\n      <td>...</td>\n      <td>...</td>\n      <td>...</td>\n      <td>...</td>\n      <td>...</td>\n      <td>...</td>\n      <td>...</td>\n      <td>...</td>\n      <td>...</td>\n      <td>...</td>\n      <td>...</td>\n    </tr>\n    <tr>\n      <th>1067</th>\n      <td>Zambia</td>\n      <td>2021</td>\n      <td>19,473,125</td>\n      <td>8,800,295</td>\n      <td>10,672,830</td>\n      <td>-</td>\n      <td>61</td>\n      <td>34.511</td>\n      <td>6.973</td>\n      <td>4.308</td>\n      <td>40.2</td>\n      <td>3</td>\n    </tr>\n    <tr>\n      <th>1069</th>\n      <td>Zimbabwe</td>\n      <td>2018</td>\n      <td>15,052,184</td>\n      <td>4,848,158</td>\n      <td>10,204,026</td>\n      <td>39</td>\n      <td>61</td>\n      <td>32.074</td>\n      <td>7.972</td>\n      <td>3.659</td>\n      <td>38</td>\n      <td>2</td>\n    </tr>\n    <tr>\n      <th>1070</th>\n      <td>Zimbabwe</td>\n      <td>2019</td>\n      <td>15,354,608</td>\n      <td>4,945,719</td>\n      <td>10,408,889</td>\n      <td>40</td>\n      <td>61</td>\n      <td>31.518</td>\n      <td>8.043</td>\n      <td>3.599</td>\n      <td>37.1</td>\n      <td>2</td>\n    </tr>\n    <tr>\n      <th>1071</th>\n      <td>Zimbabwe</td>\n      <td>2020</td>\n      <td>15,669,666</td>\n      <td>5,052,214</td>\n      <td>10,617,452</td>\n      <td>41</td>\n      <td>61</td>\n      <td>31.009</td>\n      <td>8.132</td>\n      <td>3.545</td>\n      <td>36.6</td>\n      <td>2</td>\n    </tr>\n    <tr>\n      <th>1072</th>\n      <td>Zimbabwe</td>\n      <td>2021</td>\n      <td>15,993,524</td>\n      <td>5,166,388</td>\n      <td>10,827,136</td>\n      <td>-</td>\n      <td>59</td>\n      <td>30.537</td>\n      <td>9.057</td>\n      <td>3.491</td>\n      <td>35.7</td>\n      <td>2</td>\n    </tr>\n  </tbody>\n</table>\n<p>864 rows × 12 columns</p>\n</div>"
     },
     "execution_count": 43,
     "metadata": {},
     "output_type": "execute_result"
    }
   ],
   "source": [
    "df1=df[df['Total Population']!='-'] #Удаляем строки не содержащие значение в столбце Total Population\n",
    "df1\n"
   ],
   "metadata": {
    "collapsed": false,
    "ExecuteTime": {
     "end_time": "2024-09-22T15:05:09.179329300Z",
     "start_time": "2024-09-22T15:05:09.146463400Z"
    }
   },
   "id": "3e578e876ac2ac48"
  },
  {
   "cell_type": "code",
   "execution_count": 45,
   "outputs": [
    {
     "data": {
      "text/plain": "              Year   Birth Rate   Death Rate\ncount  1073.000000  1073.000000  1073.000000\nmean   2019.013048    18.801519     7.841907\nstd       1.410190     9.903449     2.973418\nmin    2017.000000     0.000000     0.000000\n25%    2018.000000    10.620000     6.067000\n50%    2019.000000    16.025000     7.396000\n75%    2020.000000    25.921000     9.313000\nmax    2021.000000    46.351000    21.700000",
      "text/html": "<div>\n<style scoped>\n    .dataframe tbody tr th:only-of-type {\n        vertical-align: middle;\n    }\n\n    .dataframe tbody tr th {\n        vertical-align: top;\n    }\n\n    .dataframe thead th {\n        text-align: right;\n    }\n</style>\n<table border=\"1\" class=\"dataframe\">\n  <thead>\n    <tr style=\"text-align: right;\">\n      <th></th>\n      <th>Year</th>\n      <th>Birth Rate</th>\n      <th>Death Rate</th>\n    </tr>\n  </thead>\n  <tbody>\n    <tr>\n      <th>count</th>\n      <td>1073.000000</td>\n      <td>1073.000000</td>\n      <td>1073.000000</td>\n    </tr>\n    <tr>\n      <th>mean</th>\n      <td>2019.013048</td>\n      <td>18.801519</td>\n      <td>7.841907</td>\n    </tr>\n    <tr>\n      <th>std</th>\n      <td>1.410190</td>\n      <td>9.903449</td>\n      <td>2.973418</td>\n    </tr>\n    <tr>\n      <th>min</th>\n      <td>2017.000000</td>\n      <td>0.000000</td>\n      <td>0.000000</td>\n    </tr>\n    <tr>\n      <th>25%</th>\n      <td>2018.000000</td>\n      <td>10.620000</td>\n      <td>6.067000</td>\n    </tr>\n    <tr>\n      <th>50%</th>\n      <td>2019.000000</td>\n      <td>16.025000</td>\n      <td>7.396000</td>\n    </tr>\n    <tr>\n      <th>75%</th>\n      <td>2020.000000</td>\n      <td>25.921000</td>\n      <td>9.313000</td>\n    </tr>\n    <tr>\n      <th>max</th>\n      <td>2021.000000</td>\n      <td>46.351000</td>\n      <td>21.700000</td>\n    </tr>\n  </tbody>\n</table>\n</div>"
     },
     "execution_count": 45,
     "metadata": {},
     "output_type": "execute_result"
    }
   ],
   "source": [
    "df.describe() #Получаем описательную информацию"
   ],
   "metadata": {
    "collapsed": false,
    "ExecuteTime": {
     "end_time": "2024-09-22T15:06:14.004498700Z",
     "start_time": "2024-09-22T15:06:13.973916600Z"
    }
   },
   "id": "f5155e64d6b99a1d"
  },
  {
   "cell_type": "code",
   "execution_count": 48,
   "outputs": [
    {
     "data": {
      "text/plain": "       Country  Year Total Population Urban Population Rural Population  \\\n425    Hungary  2021        9,709,891        7,014,911        2,694,980   \n420  Hong Kong  2021        7,413,100        7,413,100                -   \n445       Iran  2021       87,923,432       67,125,144       20,798,288   \n440  Indonesia  2021      273,753,191      156,833,203      116,919,988   \n435      India  2021    1,407,563,842      498,179,071      909,384,771   \n\n    Population Density Life Expectancy  Birth Rate  Death Rate Fertility Rate  \\\n425                  -              74       9.700      16.100           1.59   \n420                  -              85       5.000       6.900          0.772   \n445                  -              74      13.699       6.437          1.692   \n440                  -              68      16.425      10.065          2.175   \n435                  -              67      16.419       9.448          2.031   \n\n    Infant Mortality Rate Growth Rate  \n425                   3.3           0  \n420                     -          -1  \n445                  10.9           1  \n440                  18.9           1  \n435                  25.5           1  ",
      "text/html": "<div>\n<style scoped>\n    .dataframe tbody tr th:only-of-type {\n        vertical-align: middle;\n    }\n\n    .dataframe tbody tr th {\n        vertical-align: top;\n    }\n\n    .dataframe thead th {\n        text-align: right;\n    }\n</style>\n<table border=\"1\" class=\"dataframe\">\n  <thead>\n    <tr style=\"text-align: right;\">\n      <th></th>\n      <th>Country</th>\n      <th>Year</th>\n      <th>Total Population</th>\n      <th>Urban Population</th>\n      <th>Rural Population</th>\n      <th>Population Density</th>\n      <th>Life Expectancy</th>\n      <th>Birth Rate</th>\n      <th>Death Rate</th>\n      <th>Fertility Rate</th>\n      <th>Infant Mortality Rate</th>\n      <th>Growth Rate</th>\n    </tr>\n  </thead>\n  <tbody>\n    <tr>\n      <th>425</th>\n      <td>Hungary</td>\n      <td>2021</td>\n      <td>9,709,891</td>\n      <td>7,014,911</td>\n      <td>2,694,980</td>\n      <td>-</td>\n      <td>74</td>\n      <td>9.700</td>\n      <td>16.100</td>\n      <td>1.59</td>\n      <td>3.3</td>\n      <td>0</td>\n    </tr>\n    <tr>\n      <th>420</th>\n      <td>Hong Kong</td>\n      <td>2021</td>\n      <td>7,413,100</td>\n      <td>7,413,100</td>\n      <td>-</td>\n      <td>-</td>\n      <td>85</td>\n      <td>5.000</td>\n      <td>6.900</td>\n      <td>0.772</td>\n      <td>-</td>\n      <td>-1</td>\n    </tr>\n    <tr>\n      <th>445</th>\n      <td>Iran</td>\n      <td>2021</td>\n      <td>87,923,432</td>\n      <td>67,125,144</td>\n      <td>20,798,288</td>\n      <td>-</td>\n      <td>74</td>\n      <td>13.699</td>\n      <td>6.437</td>\n      <td>1.692</td>\n      <td>10.9</td>\n      <td>1</td>\n    </tr>\n    <tr>\n      <th>440</th>\n      <td>Indonesia</td>\n      <td>2021</td>\n      <td>273,753,191</td>\n      <td>156,833,203</td>\n      <td>116,919,988</td>\n      <td>-</td>\n      <td>68</td>\n      <td>16.425</td>\n      <td>10.065</td>\n      <td>2.175</td>\n      <td>18.9</td>\n      <td>1</td>\n    </tr>\n    <tr>\n      <th>435</th>\n      <td>India</td>\n      <td>2021</td>\n      <td>1,407,563,842</td>\n      <td>498,179,071</td>\n      <td>909,384,771</td>\n      <td>-</td>\n      <td>67</td>\n      <td>16.419</td>\n      <td>9.448</td>\n      <td>2.031</td>\n      <td>25.5</td>\n      <td>1</td>\n    </tr>\n  </tbody>\n</table>\n</div>"
     },
     "execution_count": 48,
     "metadata": {},
     "output_type": "execute_result"
    }
   ],
   "source": [
    "df2 = df.sort_values(by = 'Year', ascending=False) #Сортируем по годам\n",
    "df.head()"
   ],
   "metadata": {
    "collapsed": false,
    "ExecuteTime": {
     "end_time": "2024-09-22T15:09:58.574849300Z",
     "start_time": "2024-09-22T15:09:58.531020300Z"
    }
   },
   "id": "3982b408b6f6e7ad"
  },
  {
   "cell_type": "code",
   "execution_count": 49,
   "outputs": [
    {
     "data": {
      "text/plain": "'Seychelles'"
     },
     "execution_count": 49,
     "metadata": {},
     "output_type": "execute_result"
    }
   ],
   "source": [
    "max_population_country = df.loc[df['Total Population'].idxmax(), 'Country'] #Выводим страну с самым большим колиеством жителей\n",
    "max_population_country"
   ],
   "metadata": {
    "collapsed": false,
    "ExecuteTime": {
     "end_time": "2024-09-22T15:10:00.958292700Z",
     "start_time": "2024-09-22T15:10:00.946622200Z"
    }
   },
   "id": "6565eb0b2a66fd1b"
  },
  {
   "cell_type": "code",
   "execution_count": 51,
   "outputs": [
    {
     "data": {
      "text/plain": "'Albania'"
     },
     "execution_count": 51,
     "metadata": {},
     "output_type": "execute_result"
    }
   ],
   "source": [
    "min_population_country = df.loc[df['Total Population'].idxmin(), 'Country']#Выводим страну с самым меньшим колиеством жителей\n",
    "min_population_country"
   ],
   "metadata": {
    "collapsed": false,
    "ExecuteTime": {
     "end_time": "2024-09-22T15:10:37.461673400Z",
     "start_time": "2024-09-22T15:10:37.441110800Z"
    }
   },
   "id": "2c272faeb329a87a"
  },
  {
   "cell_type": "code",
   "execution_count": 52,
   "outputs": [],
   "source": [
    "df.to_excel(r'D:\\Projects\\Big_Data_5_semester\\GPT(2016-2022)_excel_version.xlsx') #Экспортируем фрейм в Excel"
   ],
   "metadata": {
    "collapsed": false,
    "ExecuteTime": {
     "end_time": "2024-09-22T15:15:09.887478100Z",
     "start_time": "2024-09-22T15:15:09.253841200Z"
    }
   },
   "id": "981bb85f06c56c7d"
  },
  {
   "cell_type": "code",
   "execution_count": null,
   "outputs": [],
   "source": [],
   "metadata": {
    "collapsed": false
   },
   "id": "9ebb6e38c0ec51cf"
  },
  {
   "cell_type": "markdown",
   "source": [],
   "metadata": {
    "collapsed": false
   },
   "id": "6ac1543f8d8102fb"
  }
 ],
 "metadata": {
  "kernelspec": {
   "display_name": "Python 3",
   "language": "python",
   "name": "python3"
  },
  "language_info": {
   "codemirror_mode": {
    "name": "ipython",
    "version": 2
   },
   "file_extension": ".py",
   "mimetype": "text/x-python",
   "name": "python",
   "nbconvert_exporter": "python",
   "pygments_lexer": "ipython2",
   "version": "2.7.6"
  }
 },
 "nbformat": 4,
 "nbformat_minor": 5
}
