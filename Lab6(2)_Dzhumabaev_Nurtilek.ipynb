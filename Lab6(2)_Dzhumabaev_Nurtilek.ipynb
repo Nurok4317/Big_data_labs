{
 "cells": [
  {
   "cell_type": "code",
   "execution_count": 3,
   "id": "initial_id",
   "metadata": {
    "collapsed": true,
    "ExecuteTime": {
     "end_time": "2024-12-08T18:06:11.823497300Z",
     "start_time": "2024-12-08T18:06:11.598589700Z"
    }
   },
   "outputs": [
    {
     "name": "stdout",
     "output_type": "stream",
     "text": [
      "Cross validation scores: [0.92982456 0.93859649 0.96491228 0.95614035 0.95575221]\n"
     ]
    },
    {
     "name": "stderr",
     "output_type": "stream",
     "text": [
      "D:\\Projects\\Big_Data_5_semester\\venv\\lib\\site-packages\\sklearn\\linear_model\\_logistic.py:469: ConvergenceWarning: lbfgs failed to converge (status=1):\n",
      "STOP: TOTAL NO. of ITERATIONS REACHED LIMIT.\n",
      "\n",
      "Increase the number of iterations (max_iter) or scale the data as shown in:\n",
      "    https://scikit-learn.org/stable/modules/preprocessing.html\n",
      "Please also refer to the documentation for alternative solver options:\n",
      "    https://scikit-learn.org/stable/modules/linear_model.html#logistic-regression\n",
      "  n_iter_i = _check_optimize_result(\n",
      "D:\\Projects\\Big_Data_5_semester\\venv\\lib\\site-packages\\sklearn\\linear_model\\_logistic.py:469: ConvergenceWarning: lbfgs failed to converge (status=1):\n",
      "STOP: TOTAL NO. of ITERATIONS REACHED LIMIT.\n",
      "\n",
      "Increase the number of iterations (max_iter) or scale the data as shown in:\n",
      "    https://scikit-learn.org/stable/modules/preprocessing.html\n",
      "Please also refer to the documentation for alternative solver options:\n",
      "    https://scikit-learn.org/stable/modules/linear_model.html#logistic-regression\n",
      "  n_iter_i = _check_optimize_result(\n",
      "D:\\Projects\\Big_Data_5_semester\\venv\\lib\\site-packages\\sklearn\\linear_model\\_logistic.py:469: ConvergenceWarning: lbfgs failed to converge (status=1):\n",
      "STOP: TOTAL NO. of ITERATIONS REACHED LIMIT.\n",
      "\n",
      "Increase the number of iterations (max_iter) or scale the data as shown in:\n",
      "    https://scikit-learn.org/stable/modules/preprocessing.html\n",
      "Please also refer to the documentation for alternative solver options:\n",
      "    https://scikit-learn.org/stable/modules/linear_model.html#logistic-regression\n",
      "  n_iter_i = _check_optimize_result(\n",
      "D:\\Projects\\Big_Data_5_semester\\venv\\lib\\site-packages\\sklearn\\linear_model\\_logistic.py:469: ConvergenceWarning: lbfgs failed to converge (status=1):\n",
      "STOP: TOTAL NO. of ITERATIONS REACHED LIMIT.\n",
      "\n",
      "Increase the number of iterations (max_iter) or scale the data as shown in:\n",
      "    https://scikit-learn.org/stable/modules/preprocessing.html\n",
      "Please also refer to the documentation for alternative solver options:\n",
      "    https://scikit-learn.org/stable/modules/linear_model.html#logistic-regression\n",
      "  n_iter_i = _check_optimize_result(\n",
      "D:\\Projects\\Big_Data_5_semester\\venv\\lib\\site-packages\\sklearn\\linear_model\\_logistic.py:469: ConvergenceWarning: lbfgs failed to converge (status=1):\n",
      "STOP: TOTAL NO. of ITERATIONS REACHED LIMIT.\n",
      "\n",
      "Increase the number of iterations (max_iter) or scale the data as shown in:\n",
      "    https://scikit-learn.org/stable/modules/preprocessing.html\n",
      "Please also refer to the documentation for alternative solver options:\n",
      "    https://scikit-learn.org/stable/modules/linear_model.html#logistic-regression\n",
      "  n_iter_i = _check_optimize_result(\n"
     ]
    }
   ],
   "source": [
    "from sklearn.datasets import load_breast_cancer\n",
    "from sklearn.model_selection import cross_val_score\n",
    "from sklearn.linear_model import LogisticRegression\n",
    "\n",
    "import numpy as np\n",
    "import mglearn\n",
    "cancer = load_breast_cancer()\n",
    "logreg = LogisticRegression(max_iter=100)\n",
    "scores = cross_val_score(logreg, cancer.data, cancer.target, cv = 5)\n",
    "print(\"Cross validation scores: {}\".format(scores))"
   ]
  },
  {
   "cell_type": "code",
   "execution_count": 4,
   "outputs": [
    {
     "name": "stdout",
     "output_type": "stream",
     "text": [
      "Значения правильности перекростной проверки: \n",
      "[0.9122807  0.93859649 0.97368421 0.95614035 0.95575221]\n"
     ]
    },
    {
     "name": "stderr",
     "output_type": "stream",
     "text": [
      "D:\\Projects\\Big_Data_5_semester\\venv\\lib\\site-packages\\sklearn\\linear_model\\_logistic.py:469: ConvergenceWarning: lbfgs failed to converge (status=1):\n",
      "STOP: TOTAL NO. of ITERATIONS REACHED LIMIT.\n",
      "\n",
      "Increase the number of iterations (max_iter) or scale the data as shown in:\n",
      "    https://scikit-learn.org/stable/modules/preprocessing.html\n",
      "Please also refer to the documentation for alternative solver options:\n",
      "    https://scikit-learn.org/stable/modules/linear_model.html#logistic-regression\n",
      "  n_iter_i = _check_optimize_result(\n",
      "D:\\Projects\\Big_Data_5_semester\\venv\\lib\\site-packages\\sklearn\\linear_model\\_logistic.py:469: ConvergenceWarning: lbfgs failed to converge (status=1):\n",
      "STOP: TOTAL NO. of ITERATIONS REACHED LIMIT.\n",
      "\n",
      "Increase the number of iterations (max_iter) or scale the data as shown in:\n",
      "    https://scikit-learn.org/stable/modules/preprocessing.html\n",
      "Please also refer to the documentation for alternative solver options:\n",
      "    https://scikit-learn.org/stable/modules/linear_model.html#logistic-regression\n",
      "  n_iter_i = _check_optimize_result(\n",
      "D:\\Projects\\Big_Data_5_semester\\venv\\lib\\site-packages\\sklearn\\linear_model\\_logistic.py:469: ConvergenceWarning: lbfgs failed to converge (status=1):\n",
      "STOP: TOTAL NO. of ITERATIONS REACHED LIMIT.\n",
      "\n",
      "Increase the number of iterations (max_iter) or scale the data as shown in:\n",
      "    https://scikit-learn.org/stable/modules/preprocessing.html\n",
      "Please also refer to the documentation for alternative solver options:\n",
      "    https://scikit-learn.org/stable/modules/linear_model.html#logistic-regression\n",
      "  n_iter_i = _check_optimize_result(\n",
      "D:\\Projects\\Big_Data_5_semester\\venv\\lib\\site-packages\\sklearn\\linear_model\\_logistic.py:469: ConvergenceWarning: lbfgs failed to converge (status=1):\n",
      "STOP: TOTAL NO. of ITERATIONS REACHED LIMIT.\n",
      "\n",
      "Increase the number of iterations (max_iter) or scale the data as shown in:\n",
      "    https://scikit-learn.org/stable/modules/preprocessing.html\n",
      "Please also refer to the documentation for alternative solver options:\n",
      "    https://scikit-learn.org/stable/modules/linear_model.html#logistic-regression\n",
      "  n_iter_i = _check_optimize_result(\n",
      "D:\\Projects\\Big_Data_5_semester\\venv\\lib\\site-packages\\sklearn\\linear_model\\_logistic.py:469: ConvergenceWarning: lbfgs failed to converge (status=1):\n",
      "STOP: TOTAL NO. of ITERATIONS REACHED LIMIT.\n",
      "\n",
      "Increase the number of iterations (max_iter) or scale the data as shown in:\n",
      "    https://scikit-learn.org/stable/modules/preprocessing.html\n",
      "Please also refer to the documentation for alternative solver options:\n",
      "    https://scikit-learn.org/stable/modules/linear_model.html#logistic-regression\n",
      "  n_iter_i = _check_optimize_result(\n"
     ]
    }
   ],
   "source": [
    "from sklearn.model_selection import KFold\n",
    "kfold = KFold(n_splits=5)\n",
    "print(\"Значения правильности перекростной проверки: \\n{}\".format(cross_val_score(logreg, cancer.data, cancer.target, cv=kfold)))\n"
   ],
   "metadata": {
    "collapsed": false,
    "ExecuteTime": {
     "end_time": "2024-12-08T18:06:12.728024700Z",
     "start_time": "2024-12-08T18:06:12.668942100Z"
    }
   },
   "id": "7f6100a2e176bb36"
  },
  {
   "cell_type": "code",
   "execution_count": 5,
   "outputs": [
    {
     "name": "stdout",
     "output_type": "stream",
     "text": [
      "Размер обучающего набора: 426 размер тестового набора: 143\n",
      "Наилучшее значение правильность: 0.93\n",
      "Наилушчее значение параметров: {'C': 1, 'gamma': 0.001}\n"
     ]
    }
   ],
   "source": [
    "from sklearn.svm import SVC\n",
    "from sklearn.model_selection import train_test_split\n",
    "X_train, X_test, y_train, y_test = train_test_split(cancer.data, cancer.target, random_state=0)\n",
    "print(\"Размер обучающего набора: {} размер тестового набора: {}\".format(X_train.shape[0], X_test.shape[0]))\n",
    "best_score = 0\n",
    "for gamma in [0.001, 0.01, 0.1, 1, 100]:\n",
    "    for C in [0.001, 0.01, 0.1, 1, 100]:\n",
    "        svm = SVC(gamma=gamma, C=C)\n",
    "        svm.fit(X_train, y_train)\n",
    "\n",
    "        score = svm.score(X_test, y_test)\n",
    "\n",
    "        if score > best_score:\n",
    "            best_score = score\n",
    "            best_parameters = {'C': C, 'gamma': gamma}\n",
    "svm = SVC(**best_parameters)\n",
    "svm.fit(X_train, y_train)\n",
    "test_score = svm.score(X_test, y_test)\n",
    "print(\"Наилучшее значение правильность: {:.2f}\".format(best_score))\n",
    "print(\"Наилушчее значение параметров: {}\".format(best_parameters))"
   ],
   "metadata": {
    "collapsed": false,
    "ExecuteTime": {
     "end_time": "2024-12-08T18:06:13.741418300Z",
     "start_time": "2024-12-08T18:06:13.346417Z"
    }
   },
   "id": "b7f61301eef04bbb"
  },
  {
   "cell_type": "code",
   "execution_count": 6,
   "outputs": [
    {
     "data": {
      "text/plain": "SVC(C=1, gamma=0.001)",
      "text/html": "<style>#sk-container-id-1 {\n  /* Definition of color scheme common for light and dark mode */\n  --sklearn-color-text: black;\n  --sklearn-color-line: gray;\n  /* Definition of color scheme for unfitted estimators */\n  --sklearn-color-unfitted-level-0: #fff5e6;\n  --sklearn-color-unfitted-level-1: #f6e4d2;\n  --sklearn-color-unfitted-level-2: #ffe0b3;\n  --sklearn-color-unfitted-level-3: chocolate;\n  /* Definition of color scheme for fitted estimators */\n  --sklearn-color-fitted-level-0: #f0f8ff;\n  --sklearn-color-fitted-level-1: #d4ebff;\n  --sklearn-color-fitted-level-2: #b3dbfd;\n  --sklearn-color-fitted-level-3: cornflowerblue;\n\n  /* Specific color for light theme */\n  --sklearn-color-text-on-default-background: var(--sg-text-color, var(--theme-code-foreground, var(--jp-content-font-color1, black)));\n  --sklearn-color-background: var(--sg-background-color, var(--theme-background, var(--jp-layout-color0, white)));\n  --sklearn-color-border-box: var(--sg-text-color, var(--theme-code-foreground, var(--jp-content-font-color1, black)));\n  --sklearn-color-icon: #696969;\n\n  @media (prefers-color-scheme: dark) {\n    /* Redefinition of color scheme for dark theme */\n    --sklearn-color-text-on-default-background: var(--sg-text-color, var(--theme-code-foreground, var(--jp-content-font-color1, white)));\n    --sklearn-color-background: var(--sg-background-color, var(--theme-background, var(--jp-layout-color0, #111)));\n    --sklearn-color-border-box: var(--sg-text-color, var(--theme-code-foreground, var(--jp-content-font-color1, white)));\n    --sklearn-color-icon: #878787;\n  }\n}\n\n#sk-container-id-1 {\n  color: var(--sklearn-color-text);\n}\n\n#sk-container-id-1 pre {\n  padding: 0;\n}\n\n#sk-container-id-1 input.sk-hidden--visually {\n  border: 0;\n  clip: rect(1px 1px 1px 1px);\n  clip: rect(1px, 1px, 1px, 1px);\n  height: 1px;\n  margin: -1px;\n  overflow: hidden;\n  padding: 0;\n  position: absolute;\n  width: 1px;\n}\n\n#sk-container-id-1 div.sk-dashed-wrapped {\n  border: 1px dashed var(--sklearn-color-line);\n  margin: 0 0.4em 0.5em 0.4em;\n  box-sizing: border-box;\n  padding-bottom: 0.4em;\n  background-color: var(--sklearn-color-background);\n}\n\n#sk-container-id-1 div.sk-container {\n  /* jupyter's `normalize.less` sets `[hidden] { display: none; }`\n     but bootstrap.min.css set `[hidden] { display: none !important; }`\n     so we also need the `!important` here to be able to override the\n     default hidden behavior on the sphinx rendered scikit-learn.org.\n     See: https://github.com/scikit-learn/scikit-learn/issues/21755 */\n  display: inline-block !important;\n  position: relative;\n}\n\n#sk-container-id-1 div.sk-text-repr-fallback {\n  display: none;\n}\n\ndiv.sk-parallel-item,\ndiv.sk-serial,\ndiv.sk-item {\n  /* draw centered vertical line to link estimators */\n  background-image: linear-gradient(var(--sklearn-color-text-on-default-background), var(--sklearn-color-text-on-default-background));\n  background-size: 2px 100%;\n  background-repeat: no-repeat;\n  background-position: center center;\n}\n\n/* Parallel-specific style estimator block */\n\n#sk-container-id-1 div.sk-parallel-item::after {\n  content: \"\";\n  width: 100%;\n  border-bottom: 2px solid var(--sklearn-color-text-on-default-background);\n  flex-grow: 1;\n}\n\n#sk-container-id-1 div.sk-parallel {\n  display: flex;\n  align-items: stretch;\n  justify-content: center;\n  background-color: var(--sklearn-color-background);\n  position: relative;\n}\n\n#sk-container-id-1 div.sk-parallel-item {\n  display: flex;\n  flex-direction: column;\n}\n\n#sk-container-id-1 div.sk-parallel-item:first-child::after {\n  align-self: flex-end;\n  width: 50%;\n}\n\n#sk-container-id-1 div.sk-parallel-item:last-child::after {\n  align-self: flex-start;\n  width: 50%;\n}\n\n#sk-container-id-1 div.sk-parallel-item:only-child::after {\n  width: 0;\n}\n\n/* Serial-specific style estimator block */\n\n#sk-container-id-1 div.sk-serial {\n  display: flex;\n  flex-direction: column;\n  align-items: center;\n  background-color: var(--sklearn-color-background);\n  padding-right: 1em;\n  padding-left: 1em;\n}\n\n\n/* Toggleable style: style used for estimator/Pipeline/ColumnTransformer box that is\nclickable and can be expanded/collapsed.\n- Pipeline and ColumnTransformer use this feature and define the default style\n- Estimators will overwrite some part of the style using the `sk-estimator` class\n*/\n\n/* Pipeline and ColumnTransformer style (default) */\n\n#sk-container-id-1 div.sk-toggleable {\n  /* Default theme specific background. It is overwritten whether we have a\n  specific estimator or a Pipeline/ColumnTransformer */\n  background-color: var(--sklearn-color-background);\n}\n\n/* Toggleable label */\n#sk-container-id-1 label.sk-toggleable__label {\n  cursor: pointer;\n  display: block;\n  width: 100%;\n  margin-bottom: 0;\n  padding: 0.5em;\n  box-sizing: border-box;\n  text-align: center;\n}\n\n#sk-container-id-1 label.sk-toggleable__label-arrow:before {\n  /* Arrow on the left of the label */\n  content: \"▸\";\n  float: left;\n  margin-right: 0.25em;\n  color: var(--sklearn-color-icon);\n}\n\n#sk-container-id-1 label.sk-toggleable__label-arrow:hover:before {\n  color: var(--sklearn-color-text);\n}\n\n/* Toggleable content - dropdown */\n\n#sk-container-id-1 div.sk-toggleable__content {\n  max-height: 0;\n  max-width: 0;\n  overflow: hidden;\n  text-align: left;\n  /* unfitted */\n  background-color: var(--sklearn-color-unfitted-level-0);\n}\n\n#sk-container-id-1 div.sk-toggleable__content.fitted {\n  /* fitted */\n  background-color: var(--sklearn-color-fitted-level-0);\n}\n\n#sk-container-id-1 div.sk-toggleable__content pre {\n  margin: 0.2em;\n  border-radius: 0.25em;\n  color: var(--sklearn-color-text);\n  /* unfitted */\n  background-color: var(--sklearn-color-unfitted-level-0);\n}\n\n#sk-container-id-1 div.sk-toggleable__content.fitted pre {\n  /* unfitted */\n  background-color: var(--sklearn-color-fitted-level-0);\n}\n\n#sk-container-id-1 input.sk-toggleable__control:checked~div.sk-toggleable__content {\n  /* Expand drop-down */\n  max-height: 200px;\n  max-width: 100%;\n  overflow: auto;\n}\n\n#sk-container-id-1 input.sk-toggleable__control:checked~label.sk-toggleable__label-arrow:before {\n  content: \"▾\";\n}\n\n/* Pipeline/ColumnTransformer-specific style */\n\n#sk-container-id-1 div.sk-label input.sk-toggleable__control:checked~label.sk-toggleable__label {\n  color: var(--sklearn-color-text);\n  background-color: var(--sklearn-color-unfitted-level-2);\n}\n\n#sk-container-id-1 div.sk-label.fitted input.sk-toggleable__control:checked~label.sk-toggleable__label {\n  background-color: var(--sklearn-color-fitted-level-2);\n}\n\n/* Estimator-specific style */\n\n/* Colorize estimator box */\n#sk-container-id-1 div.sk-estimator input.sk-toggleable__control:checked~label.sk-toggleable__label {\n  /* unfitted */\n  background-color: var(--sklearn-color-unfitted-level-2);\n}\n\n#sk-container-id-1 div.sk-estimator.fitted input.sk-toggleable__control:checked~label.sk-toggleable__label {\n  /* fitted */\n  background-color: var(--sklearn-color-fitted-level-2);\n}\n\n#sk-container-id-1 div.sk-label label.sk-toggleable__label,\n#sk-container-id-1 div.sk-label label {\n  /* The background is the default theme color */\n  color: var(--sklearn-color-text-on-default-background);\n}\n\n/* On hover, darken the color of the background */\n#sk-container-id-1 div.sk-label:hover label.sk-toggleable__label {\n  color: var(--sklearn-color-text);\n  background-color: var(--sklearn-color-unfitted-level-2);\n}\n\n/* Label box, darken color on hover, fitted */\n#sk-container-id-1 div.sk-label.fitted:hover label.sk-toggleable__label.fitted {\n  color: var(--sklearn-color-text);\n  background-color: var(--sklearn-color-fitted-level-2);\n}\n\n/* Estimator label */\n\n#sk-container-id-1 div.sk-label label {\n  font-family: monospace;\n  font-weight: bold;\n  display: inline-block;\n  line-height: 1.2em;\n}\n\n#sk-container-id-1 div.sk-label-container {\n  text-align: center;\n}\n\n/* Estimator-specific */\n#sk-container-id-1 div.sk-estimator {\n  font-family: monospace;\n  border: 1px dotted var(--sklearn-color-border-box);\n  border-radius: 0.25em;\n  box-sizing: border-box;\n  margin-bottom: 0.5em;\n  /* unfitted */\n  background-color: var(--sklearn-color-unfitted-level-0);\n}\n\n#sk-container-id-1 div.sk-estimator.fitted {\n  /* fitted */\n  background-color: var(--sklearn-color-fitted-level-0);\n}\n\n/* on hover */\n#sk-container-id-1 div.sk-estimator:hover {\n  /* unfitted */\n  background-color: var(--sklearn-color-unfitted-level-2);\n}\n\n#sk-container-id-1 div.sk-estimator.fitted:hover {\n  /* fitted */\n  background-color: var(--sklearn-color-fitted-level-2);\n}\n\n/* Specification for estimator info (e.g. \"i\" and \"?\") */\n\n/* Common style for \"i\" and \"?\" */\n\n.sk-estimator-doc-link,\na:link.sk-estimator-doc-link,\na:visited.sk-estimator-doc-link {\n  float: right;\n  font-size: smaller;\n  line-height: 1em;\n  font-family: monospace;\n  background-color: var(--sklearn-color-background);\n  border-radius: 1em;\n  height: 1em;\n  width: 1em;\n  text-decoration: none !important;\n  margin-left: 1ex;\n  /* unfitted */\n  border: var(--sklearn-color-unfitted-level-1) 1pt solid;\n  color: var(--sklearn-color-unfitted-level-1);\n}\n\n.sk-estimator-doc-link.fitted,\na:link.sk-estimator-doc-link.fitted,\na:visited.sk-estimator-doc-link.fitted {\n  /* fitted */\n  border: var(--sklearn-color-fitted-level-1) 1pt solid;\n  color: var(--sklearn-color-fitted-level-1);\n}\n\n/* On hover */\ndiv.sk-estimator:hover .sk-estimator-doc-link:hover,\n.sk-estimator-doc-link:hover,\ndiv.sk-label-container:hover .sk-estimator-doc-link:hover,\n.sk-estimator-doc-link:hover {\n  /* unfitted */\n  background-color: var(--sklearn-color-unfitted-level-3);\n  color: var(--sklearn-color-background);\n  text-decoration: none;\n}\n\ndiv.sk-estimator.fitted:hover .sk-estimator-doc-link.fitted:hover,\n.sk-estimator-doc-link.fitted:hover,\ndiv.sk-label-container:hover .sk-estimator-doc-link.fitted:hover,\n.sk-estimator-doc-link.fitted:hover {\n  /* fitted */\n  background-color: var(--sklearn-color-fitted-level-3);\n  color: var(--sklearn-color-background);\n  text-decoration: none;\n}\n\n/* Span, style for the box shown on hovering the info icon */\n.sk-estimator-doc-link span {\n  display: none;\n  z-index: 9999;\n  position: relative;\n  font-weight: normal;\n  right: .2ex;\n  padding: .5ex;\n  margin: .5ex;\n  width: min-content;\n  min-width: 20ex;\n  max-width: 50ex;\n  color: var(--sklearn-color-text);\n  box-shadow: 2pt 2pt 4pt #999;\n  /* unfitted */\n  background: var(--sklearn-color-unfitted-level-0);\n  border: .5pt solid var(--sklearn-color-unfitted-level-3);\n}\n\n.sk-estimator-doc-link.fitted span {\n  /* fitted */\n  background: var(--sklearn-color-fitted-level-0);\n  border: var(--sklearn-color-fitted-level-3);\n}\n\n.sk-estimator-doc-link:hover span {\n  display: block;\n}\n\n/* \"?\"-specific style due to the `<a>` HTML tag */\n\n#sk-container-id-1 a.estimator_doc_link {\n  float: right;\n  font-size: 1rem;\n  line-height: 1em;\n  font-family: monospace;\n  background-color: var(--sklearn-color-background);\n  border-radius: 1rem;\n  height: 1rem;\n  width: 1rem;\n  text-decoration: none;\n  /* unfitted */\n  color: var(--sklearn-color-unfitted-level-1);\n  border: var(--sklearn-color-unfitted-level-1) 1pt solid;\n}\n\n#sk-container-id-1 a.estimator_doc_link.fitted {\n  /* fitted */\n  border: var(--sklearn-color-fitted-level-1) 1pt solid;\n  color: var(--sklearn-color-fitted-level-1);\n}\n\n/* On hover */\n#sk-container-id-1 a.estimator_doc_link:hover {\n  /* unfitted */\n  background-color: var(--sklearn-color-unfitted-level-3);\n  color: var(--sklearn-color-background);\n  text-decoration: none;\n}\n\n#sk-container-id-1 a.estimator_doc_link.fitted:hover {\n  /* fitted */\n  background-color: var(--sklearn-color-fitted-level-3);\n}\n</style><div id=\"sk-container-id-1\" class=\"sk-top-container\"><div class=\"sk-text-repr-fallback\"><pre>SVC(C=1, gamma=0.001)</pre><b>In a Jupyter environment, please rerun this cell to show the HTML representation or trust the notebook. <br />On GitHub, the HTML representation is unable to render, please try loading this page with nbviewer.org.</b></div><div class=\"sk-container\" hidden><div class=\"sk-item\"><div class=\"sk-estimator fitted sk-toggleable\"><input class=\"sk-toggleable__control sk-hidden--visually\" id=\"sk-estimator-id-1\" type=\"checkbox\" checked><label for=\"sk-estimator-id-1\" class=\"sk-toggleable__label fitted sk-toggleable__label-arrow fitted\">&nbsp;&nbsp;SVC<a class=\"sk-estimator-doc-link fitted\" rel=\"noreferrer\" target=\"_blank\" href=\"https://scikit-learn.org/1.5/modules/generated/sklearn.svm.SVC.html\">?<span>Documentation for SVC</span></a><span class=\"sk-estimator-doc-link fitted\">i<span>Fitted</span></span></label><div class=\"sk-toggleable__content fitted\"><pre>SVC(C=1, gamma=0.001)</pre></div> </div></div></div></div>"
     },
     "execution_count": 6,
     "metadata": {},
     "output_type": "execute_result"
    }
   ],
   "source": [
    "#Решетчетый поиск с перекрестной проверкой\n",
    "import numpy as np\n",
    "for gamma in [0.001, 0.01, 0.1, 1, 100]:\n",
    "    for C in [0.001, 0.01, 0.1, 1, 100]:\n",
    "        svm = SVC(gamma=gamma, C=C)\n",
    "        scores = cross_val_score(svm, X_train, y_train, cv=5)\n",
    "        score = np.mean(scores)\n",
    "\n",
    "\n",
    "        if score > best_score:\n",
    "            best_score = score\n",
    "            best_parameters = {'C': C, 'gamma': gamma}\n",
    "\n",
    "svm = SVC(**best_parameters)\n",
    "svm.fit(X_train, y_train)\n"
   ],
   "metadata": {
    "collapsed": false,
    "ExecuteTime": {
     "end_time": "2024-12-08T18:06:15.720431Z",
     "start_time": "2024-12-08T18:06:14.379054200Z"
    }
   },
   "id": "c33d13a1dfe6cc1e"
  },
  {
   "cell_type": "code",
   "execution_count": 7,
   "outputs": [
    {
     "data": {
      "text/plain": "<Figure size 1000x300 with 1 Axes>",
      "image/png": "[encoded data removed]"
     },
     "metadata": {},
     "output_type": "display_data"
    }
   ],
   "source": [
    "mglearn.plots.plot_cross_val_selection()"
   ],
   "metadata": {
    "collapsed": false,
    "ExecuteTime": {
     "end_time": "2024-12-08T18:06:17.640281800Z",
     "start_time": "2024-12-08T18:06:16.798704500Z"
    }
   },
   "id": "ef185b97cb2b1274"
  },
  {
   "cell_type": "code",
   "execution_count": 8,
   "outputs": [
    {
     "name": "stdout",
     "output_type": "stream",
     "text": [
      "Сетка параметров:\n",
      "{'C': [0.001, 0.01, 0.1, 1, 10, 100], 'gamma': [0.001, 0.01, 0.1, 1, 10, 100]}\n"
     ]
    }
   ],
   "source": [
    "param_grid = {'C': [0.001, 0.01, 0.1, 1, 10, 100],\n",
    "              'gamma': [0.001, 0.01, 0.1, 1, 10, 100]}\n",
    "print(\"Сетка параметров:\\n{}\".format(param_grid))"
   ],
   "metadata": {
    "collapsed": false,
    "ExecuteTime": {
     "end_time": "2024-12-08T18:06:18.382231500Z",
     "start_time": "2024-12-08T18:06:18.350969600Z"
    }
   },
   "id": "9f57d7274ee7e519"
  },
  {
   "cell_type": "code",
   "execution_count": 9,
   "outputs": [],
   "source": [
    "from sklearn.model_selection import GridSearchCV\n",
    "from sklearn.svm import SVC\n",
    "grid_search = GridSearchCV(SVC(), param_grid, cv=5)"
   ],
   "metadata": {
    "collapsed": false,
    "ExecuteTime": {
     "end_time": "2024-12-08T18:06:21.102206300Z",
     "start_time": "2024-12-08T18:06:21.086562800Z"
    }
   },
   "id": "d00a6cb4b7936c79"
  },
  {
   "cell_type": "code",
   "execution_count": 10,
   "outputs": [],
   "source": [
    "X_train, X_test, y_test, y_test = train_test_split(cancer.data, cancer.target, random_state=0)"
   ],
   "metadata": {
    "collapsed": false,
    "ExecuteTime": {
     "end_time": "2024-12-08T18:06:26.088056400Z",
     "start_time": "2024-12-08T18:06:26.068760100Z"
    }
   },
   "id": "18071d7f8b778877"
  },
  {
   "cell_type": "code",
   "execution_count": 11,
   "outputs": [
    {
     "data": {
      "text/plain": "GridSearchCV(cv=5, estimator=SVC(),\n             param_grid={'C': [0.001, 0.01, 0.1, 1, 10, 100],\n                         'gamma': [0.001, 0.01, 0.1, 1, 10, 100]})",
      "text/html": "<style>#sk-container-id-2 {\n  /* Definition of color scheme common for light and dark mode */\n  --sklearn-color-text: black;\n  --sklearn-color-line: gray;\n  /* Definition of color scheme for unfitted estimators */\n  --sklearn-color-unfitted-level-0: #fff5e6;\n  --sklearn-color-unfitted-level-1: #f6e4d2;\n  --sklearn-color-unfitted-level-2: #ffe0b3;\n  --sklearn-color-unfitted-level-3: chocolate;\n  /* Definition of color scheme for fitted estimators */\n  --sklearn-color-fitted-level-0: #f0f8ff;\n  --sklearn-color-fitted-level-1: #d4ebff;\n  --sklearn-color-fitted-level-2: #b3dbfd;\n  --sklearn-color-fitted-level-3: cornflowerblue;\n\n  /* Specific color for light theme */\n  --sklearn-color-text-on-default-background: var(--sg-text-color, var(--theme-code-foreground, var(--jp-content-font-color1, black)));\n  --sklearn-color-background: var(--sg-background-color, var(--theme-background, var(--jp-layout-color0, white)));\n  --sklearn-color-border-box: var(--sg-text-color, var(--theme-code-foreground, var(--jp-content-font-color1, black)));\n  --sklearn-color-icon: #696969;\n\n  @media (prefers-color-scheme: dark) {\n    /* Redefinition of color scheme for dark theme */\n    --sklearn-color-text-on-default-background: var(--sg-text-color, var(--theme-code-foreground, var(--jp-content-font-color1, white)));\n    --sklearn-color-background: var(--sg-background-color, var(--theme-background, var(--jp-layout-color0, #111)));\n    --sklearn-color-border-box: var(--sg-text-color, var(--theme-code-foreground, var(--jp-content-font-color1, white)));\n    --sklearn-color-icon: #878787;\n  }\n}\n\n#sk-container-id-2 {\n  color: var(--sklearn-color-text);\n}\n\n#sk-container-id-2 pre {\n  padding: 0;\n}\n\n#sk-container-id-2 input.sk-hidden--visually {\n  border: 0;\n  clip: rect(1px 1px 1px 1px);\n  clip: rect(1px, 1px, 1px, 1px);\n  height: 1px;\n  margin: -1px;\n  overflow: hidden;\n  padding: 0;\n  position: absolute;\n  width: 1px;\n}\n\n#sk-container-id-2 div.sk-dashed-wrapped {\n  border: 1px dashed var(--sklearn-color-line);\n  margin: 0 0.4em 0.5em 0.4em;\n  box-sizing: border-box;\n  padding-bottom: 0.4em;\n  background-color: var(--sklearn-color-background);\n}\n\n#sk-container-id-2 div.sk-container {\n  /* jupyter's `normalize.less` sets `[hidden] { display: none; }`\n     but bootstrap.min.css set `[hidden] { display: none !important; }`\n     so we also need the `!important` here to be able to override the\n     default hidden behavior on the sphinx rendered scikit-learn.org.\n     See: https://github.com/scikit-learn/scikit-learn/issues/21755 */\n  display: inline-block !important;\n  position: relative;\n}\n\n#sk-container-id-2 div.sk-text-repr-fallback {\n  display: none;\n}\n\ndiv.sk-parallel-item,\ndiv.sk-serial,\ndiv.sk-item {\n  /* draw centered vertical line to link estimators */\n  background-image: linear-gradient(var(--sklearn-color-text-on-default-background), var(--sklearn-color-text-on-default-background));\n  background-size: 2px 100%;\n  background-repeat: no-repeat;\n  background-position: center center;\n}\n\n/* Parallel-specific style estimator block */\n\n#sk-container-id-2 div.sk-parallel-item::after {\n  content: \"\";\n  width: 100%;\n  border-bottom: 2px solid var(--sklearn-color-text-on-default-background);\n  flex-grow: 1;\n}\n\n#sk-container-id-2 div.sk-parallel {\n  display: flex;\n  align-items: stretch;\n  justify-content: center;\n  background-color: var(--sklearn-color-background);\n  position: relative;\n}\n\n#sk-container-id-2 div.sk-parallel-item {\n  display: flex;\n  flex-direction: column;\n}\n\n#sk-container-id-2 div.sk-parallel-item:first-child::after {\n  align-self: flex-end;\n  width: 50%;\n}\n\n#sk-container-id-2 div.sk-parallel-item:last-child::after {\n  align-self: flex-start;\n  width: 50%;\n}\n\n#sk-container-id-2 div.sk-parallel-item:only-child::after {\n  width: 0;\n}\n\n/* Serial-specific style estimator block */\n\n#sk-container-id-2 div.sk-serial {\n  display: flex;\n  flex-direction: column;\n  align-items: center;\n  background-color: var(--sklearn-color-background);\n  padding-right: 1em;\n  padding-left: 1em;\n}\n\n\n/* Toggleable style: style used for estimator/Pipeline/ColumnTransformer box that is\nclickable and can be expanded/collapsed.\n- Pipeline and ColumnTransformer use this feature and define the default style\n- Estimators will overwrite some part of the style using the `sk-estimator` class\n*/\n\n/* Pipeline and ColumnTransformer style (default) */\n\n#sk-container-id-2 div.sk-toggleable {\n  /* Default theme specific background. It is overwritten whether we have a\n  specific estimator or a Pipeline/ColumnTransformer */\n  background-color: var(--sklearn-color-background);\n}\n\n/* Toggleable label */\n#sk-container-id-2 label.sk-toggleable__label {\n  cursor: pointer;\n  display: block;\n  width: 100%;\n  margin-bottom: 0;\n  padding: 0.5em;\n  box-sizing: border-box;\n  text-align: center;\n}\n\n#sk-container-id-2 label.sk-toggleable__label-arrow:before {\n  /* Arrow on the left of the label */\n  content: \"▸\";\n  float: left;\n  margin-right: 0.25em;\n  color: var(--sklearn-color-icon);\n}\n\n#sk-container-id-2 label.sk-toggleable__label-arrow:hover:before {\n  color: var(--sklearn-color-text);\n}\n\n/* Toggleable content - dropdown */\n\n#sk-container-id-2 div.sk-toggleable__content {\n  max-height: 0;\n  max-width: 0;\n  overflow: hidden;\n  text-align: left;\n  /* unfitted */\n  background-color: var(--sklearn-color-unfitted-level-0);\n}\n\n#sk-container-id-2 div.sk-toggleable__content.fitted {\n  /* fitted */\n  background-color: var(--sklearn-color-fitted-level-0);\n}\n\n#sk-container-id-2 div.sk-toggleable__content pre {\n  margin: 0.2em;\n  border-radius: 0.25em;\n  color: var(--sklearn-color-text);\n  /* unfitted */\n  background-color: var(--sklearn-color-unfitted-level-0);\n}\n\n#sk-container-id-2 div.sk-toggleable__content.fitted pre {\n  /* unfitted */\n  background-color: var(--sklearn-color-fitted-level-0);\n}\n\n#sk-container-id-2 input.sk-toggleable__control:checked~div.sk-toggleable__content {\n  /* Expand drop-down */\n  max-height: 200px;\n  max-width: 100%;\n  overflow: auto;\n}\n\n#sk-container-id-2 input.sk-toggleable__control:checked~label.sk-toggleable__label-arrow:before {\n  content: \"▾\";\n}\n\n/* Pipeline/ColumnTransformer-specific style */\n\n#sk-container-id-2 div.sk-label input.sk-toggleable__control:checked~label.sk-toggleable__label {\n  color: var(--sklearn-color-text);\n  background-color: var(--sklearn-color-unfitted-level-2);\n}\n\n#sk-container-id-2 div.sk-label.fitted input.sk-toggleable__control:checked~label.sk-toggleable__label {\n  background-color: var(--sklearn-color-fitted-level-2);\n}\n\n/* Estimator-specific style */\n\n/* Colorize estimator box */\n#sk-container-id-2 div.sk-estimator input.sk-toggleable__control:checked~label.sk-toggleable__label {\n  /* unfitted */\n  background-color: var(--sklearn-color-unfitted-level-2);\n}\n\n#sk-container-id-2 div.sk-estimator.fitted input.sk-toggleable__control:checked~label.sk-toggleable__label {\n  /* fitted */\n  background-color: var(--sklearn-color-fitted-level-2);\n}\n\n#sk-container-id-2 div.sk-label label.sk-toggleable__label,\n#sk-container-id-2 div.sk-label label {\n  /* The background is the default theme color */\n  color: var(--sklearn-color-text-on-default-background);\n}\n\n/* On hover, darken the color of the background */\n#sk-container-id-2 div.sk-label:hover label.sk-toggleable__label {\n  color: var(--sklearn-color-text);\n  background-color: var(--sklearn-color-unfitted-level-2);\n}\n\n/* Label box, darken color on hover, fitted */\n#sk-container-id-2 div.sk-label.fitted:hover label.sk-toggleable__label.fitted {\n  color: var(--sklearn-color-text);\n  background-color: var(--sklearn-color-fitted-level-2);\n}\n\n/* Estimator label */\n\n#sk-container-id-2 div.sk-label label {\n  font-family: monospace;\n  font-weight: bold;\n  display: inline-block;\n  line-height: 1.2em;\n}\n\n#sk-container-id-2 div.sk-label-container {\n  text-align: center;\n}\n\n/* Estimator-specific */\n#sk-container-id-2 div.sk-estimator {\n  font-family: monospace;\n  border: 1px dotted var(--sklearn-color-border-box);\n  border-radius: 0.25em;\n  box-sizing: border-box;\n  margin-bottom: 0.5em;\n  /* unfitted */\n  background-color: var(--sklearn-color-unfitted-level-0);\n}\n\n#sk-container-id-2 div.sk-estimator.fitted {\n  /* fitted */\n  background-color: var(--sklearn-color-fitted-level-0);\n}\n\n/* on hover */\n#sk-container-id-2 div.sk-estimator:hover {\n  /* unfitted */\n  background-color: var(--sklearn-color-unfitted-level-2);\n}\n\n#sk-container-id-2 div.sk-estimator.fitted:hover {\n  /* fitted */\n  background-color: var(--sklearn-color-fitted-level-2);\n}\n\n/* Specification for estimator info (e.g. \"i\" and \"?\") */\n\n/* Common style for \"i\" and \"?\" */\n\n.sk-estimator-doc-link,\na:link.sk-estimator-doc-link,\na:visited.sk-estimator-doc-link {\n  float: right;\n  font-size: smaller;\n  line-height: 1em;\n  font-family: monospace;\n  background-color: var(--sklearn-color-background);\n  border-radius: 1em;\n  height: 1em;\n  width: 1em;\n  text-decoration: none !important;\n  margin-left: 1ex;\n  /* unfitted */\n  border: var(--sklearn-color-unfitted-level-1) 1pt solid;\n  color: var(--sklearn-color-unfitted-level-1);\n}\n\n.sk-estimator-doc-link.fitted,\na:link.sk-estimator-doc-link.fitted,\na:visited.sk-estimator-doc-link.fitted {\n  /* fitted */\n  border: var(--sklearn-color-fitted-level-1) 1pt solid;\n  color: var(--sklearn-color-fitted-level-1);\n}\n\n/* On hover */\ndiv.sk-estimator:hover .sk-estimator-doc-link:hover,\n.sk-estimator-doc-link:hover,\ndiv.sk-label-container:hover .sk-estimator-doc-link:hover,\n.sk-estimator-doc-link:hover {\n  /* unfitted */\n  background-color: var(--sklearn-color-unfitted-level-3);\n  color: var(--sklearn-color-background);\n  text-decoration: none;\n}\n\ndiv.sk-estimator.fitted:hover .sk-estimator-doc-link.fitted:hover,\n.sk-estimator-doc-link.fitted:hover,\ndiv.sk-label-container:hover .sk-estimator-doc-link.fitted:hover,\n.sk-estimator-doc-link.fitted:hover {\n  /* fitted */\n  background-color: var(--sklearn-color-fitted-level-3);\n  color: var(--sklearn-color-background);\n  text-decoration: none;\n}\n\n/* Span, style for the box shown on hovering the info icon */\n.sk-estimator-doc-link span {\n  display: none;\n  z-index: 9999;\n  position: relative;\n  font-weight: normal;\n  right: .2ex;\n  padding: .5ex;\n  margin: .5ex;\n  width: min-content;\n  min-width: 20ex;\n  max-width: 50ex;\n  color: var(--sklearn-color-text);\n  box-shadow: 2pt 2pt 4pt #999;\n  /* unfitted */\n  background: var(--sklearn-color-unfitted-level-0);\n  border: .5pt solid var(--sklearn-color-unfitted-level-3);\n}\n\n.sk-estimator-doc-link.fitted span {\n  /* fitted */\n  background: var(--sklearn-color-fitted-level-0);\n  border: var(--sklearn-color-fitted-level-3);\n}\n\n.sk-estimator-doc-link:hover span {\n  display: block;\n}\n\n/* \"?\"-specific style due to the `<a>` HTML tag */\n\n#sk-container-id-2 a.estimator_doc_link {\n  float: right;\n  font-size: 1rem;\n  line-height: 1em;\n  font-family: monospace;\n  background-color: var(--sklearn-color-background);\n  border-radius: 1rem;\n  height: 1rem;\n  width: 1rem;\n  text-decoration: none;\n  /* unfitted */\n  color: var(--sklearn-color-unfitted-level-1);\n  border: var(--sklearn-color-unfitted-level-1) 1pt solid;\n}\n\n#sk-container-id-2 a.estimator_doc_link.fitted {\n  /* fitted */\n  border: var(--sklearn-color-fitted-level-1) 1pt solid;\n  color: var(--sklearn-color-fitted-level-1);\n}\n\n/* On hover */\n#sk-container-id-2 a.estimator_doc_link:hover {\n  /* unfitted */\n  background-color: var(--sklearn-color-unfitted-level-3);\n  color: var(--sklearn-color-background);\n  text-decoration: none;\n}\n\n#sk-container-id-2 a.estimator_doc_link.fitted:hover {\n  /* fitted */\n  background-color: var(--sklearn-color-fitted-level-3);\n}\n</style><div id=\"sk-container-id-2\" class=\"sk-top-container\"><div class=\"sk-text-repr-fallback\"><pre>GridSearchCV(cv=5, estimator=SVC(),\n             param_grid={&#x27;C&#x27;: [0.001, 0.01, 0.1, 1, 10, 100],\n                         &#x27;gamma&#x27;: [0.001, 0.01, 0.1, 1, 10, 100]})</pre><b>In a Jupyter environment, please rerun this cell to show the HTML representation or trust the notebook. <br />On GitHub, the HTML representation is unable to render, please try loading this page with nbviewer.org.</b></div><div class=\"sk-container\" hidden><div class=\"sk-item sk-dashed-wrapped\"><div class=\"sk-label-container\"><div class=\"sk-label fitted sk-toggleable\"><input class=\"sk-toggleable__control sk-hidden--visually\" id=\"sk-estimator-id-2\" type=\"checkbox\" ><label for=\"sk-estimator-id-2\" class=\"sk-toggleable__label fitted sk-toggleable__label-arrow fitted\">&nbsp;&nbsp;GridSearchCV<a class=\"sk-estimator-doc-link fitted\" rel=\"noreferrer\" target=\"_blank\" href=\"https://scikit-learn.org/1.5/modules/generated/sklearn.model_selection.GridSearchCV.html\">?<span>Documentation for GridSearchCV</span></a><span class=\"sk-estimator-doc-link fitted\">i<span>Fitted</span></span></label><div class=\"sk-toggleable__content fitted\"><pre>GridSearchCV(cv=5, estimator=SVC(),\n             param_grid={&#x27;C&#x27;: [0.001, 0.01, 0.1, 1, 10, 100],\n                         &#x27;gamma&#x27;: [0.001, 0.01, 0.1, 1, 10, 100]})</pre></div> </div></div><div class=\"sk-parallel\"><div class=\"sk-parallel-item\"><div class=\"sk-item\"><div class=\"sk-label-container\"><div class=\"sk-label fitted sk-toggleable\"><input class=\"sk-toggleable__control sk-hidden--visually\" id=\"sk-estimator-id-3\" type=\"checkbox\" ><label for=\"sk-estimator-id-3\" class=\"sk-toggleable__label fitted sk-toggleable__label-arrow fitted\">best_estimator_: SVC</label><div class=\"sk-toggleable__content fitted\"><pre>SVC(C=1, gamma=0.001)</pre></div> </div></div><div class=\"sk-serial\"><div class=\"sk-item\"><div class=\"sk-estimator fitted sk-toggleable\"><input class=\"sk-toggleable__control sk-hidden--visually\" id=\"sk-estimator-id-4\" type=\"checkbox\" ><label for=\"sk-estimator-id-4\" class=\"sk-toggleable__label fitted sk-toggleable__label-arrow fitted\">&nbsp;SVC<a class=\"sk-estimator-doc-link fitted\" rel=\"noreferrer\" target=\"_blank\" href=\"https://scikit-learn.org/1.5/modules/generated/sklearn.svm.SVC.html\">?<span>Documentation for SVC</span></a></label><div class=\"sk-toggleable__content fitted\"><pre>SVC(C=1, gamma=0.001)</pre></div> </div></div></div></div></div></div></div></div></div>"
     },
     "execution_count": 11,
     "metadata": {},
     "output_type": "execute_result"
    }
   ],
   "source": [
    "grid_search.fit(X_train, y_train)"
   ],
   "metadata": {
    "collapsed": false,
    "ExecuteTime": {
     "end_time": "2024-12-08T18:06:28.890523600Z",
     "start_time": "2024-12-08T18:06:27.116678800Z"
    }
   },
   "id": "5b46261441b47719"
  },
  {
   "cell_type": "code",
   "execution_count": 12,
   "outputs": [
    {
     "name": "stdout",
     "output_type": "stream",
     "text": [
      "Правильность на тестовом наборе: 0.93\n"
     ]
    }
   ],
   "source": [
    "print(\"Правильность на тестовом наборе: {:.2f}\".format(grid_search.score(X_test, y_test)))"
   ],
   "metadata": {
    "collapsed": false,
    "ExecuteTime": {
     "end_time": "2024-12-08T18:06:29.523277900Z",
     "start_time": "2024-12-08T18:06:29.491906500Z"
    }
   },
   "id": "ac950b24abf93e83"
  },
  {
   "cell_type": "code",
   "execution_count": 13,
   "outputs": [
    {
     "name": "stdout",
     "output_type": "stream",
     "text": [
      "{'C': 1, 'gamma': 0.001}\n",
      "0.9223803009575923\n"
     ]
    }
   ],
   "source": [
    "print(grid_search.best_params_)\n",
    "print(grid_search.best_score_)"
   ],
   "metadata": {
    "collapsed": false,
    "ExecuteTime": {
     "end_time": "2024-12-08T18:06:32.239089800Z",
     "start_time": "2024-12-08T18:06:32.223571Z"
    }
   },
   "id": "2e95ec8173cf0a6"
  },
  {
   "cell_type": "code",
   "execution_count": 14,
   "outputs": [
    {
     "name": "stdout",
     "output_type": "stream",
     "text": [
      "Наилучшая модель:\n",
      "SVC(C=1, gamma=0.001)\n"
     ]
    }
   ],
   "source": [
    "print(\"Наилучшая модель:\\n{}\".format(grid_search.best_estimator_))"
   ],
   "metadata": {
    "collapsed": false,
    "ExecuteTime": {
     "end_time": "2024-12-08T18:06:33.340966900Z",
     "start_time": "2024-12-08T18:06:33.325296500Z"
    }
   },
   "id": "3506002cebe1abc8"
  },
  {
   "cell_type": "code",
   "execution_count": 15,
   "outputs": [
    {
     "data": {
      "text/plain": "   mean_fit_time  std_fit_time  mean_score_time  std_score_time  param_C  \\\n0       0.003104      0.006208         0.005307        0.006686    0.001   \n1       0.005199      0.001472         0.002800        0.000751    0.001   \n2       0.005729      0.005754         0.000645        0.001291    0.001   \n3       0.006250      0.007654         0.000000        0.000000    0.001   \n4       0.009375      0.007655         0.001301        0.002603    0.001   \n\n   param_gamma                        params  split0_test_score  \\\n0        0.001  {'C': 0.001, 'gamma': 0.001}           0.627907   \n1        0.010   {'C': 0.001, 'gamma': 0.01}           0.627907   \n2        0.100    {'C': 0.001, 'gamma': 0.1}           0.627907   \n3        1.000      {'C': 0.001, 'gamma': 1}           0.627907   \n4       10.000     {'C': 0.001, 'gamma': 10}           0.627907   \n\n   split1_test_score  split2_test_score  split3_test_score  split4_test_score  \\\n0           0.635294           0.623529           0.623529           0.623529   \n1           0.635294           0.623529           0.623529           0.623529   \n2           0.635294           0.623529           0.623529           0.623529   \n3           0.635294           0.623529           0.623529           0.623529   \n4           0.635294           0.623529           0.623529           0.623529   \n\n   mean_test_score  std_test_score  rank_test_score  \n0         0.626758        0.004593                6  \n1         0.626758        0.004593                6  \n2         0.626758        0.004593                6  \n3         0.626758        0.004593                6  \n4         0.626758        0.004593                6  ",
      "text/html": "<div>\n<style scoped>\n    .dataframe tbody tr th:only-of-type {\n        vertical-align: middle;\n    }\n\n    .dataframe tbody tr th {\n        vertical-align: top;\n    }\n\n    .dataframe thead th {\n        text-align: right;\n    }\n</style>\n<table border=\"1\" class=\"dataframe\">\n  <thead>\n    <tr style=\"text-align: right;\">\n      <th></th>\n      <th>mean_fit_time</th>\n      <th>std_fit_time</th>\n      <th>mean_score_time</th>\n      <th>std_score_time</th>\n      <th>param_C</th>\n      <th>param_gamma</th>\n      <th>params</th>\n      <th>split0_test_score</th>\n      <th>split1_test_score</th>\n      <th>split2_test_score</th>\n      <th>split3_test_score</th>\n      <th>split4_test_score</th>\n      <th>mean_test_score</th>\n      <th>std_test_score</th>\n      <th>rank_test_score</th>\n    </tr>\n  </thead>\n  <tbody>\n    <tr>\n      <th>0</th>\n      <td>0.003104</td>\n      <td>0.006208</td>\n      <td>0.005307</td>\n      <td>0.006686</td>\n      <td>0.001</td>\n      <td>0.001</td>\n      <td>{'C': 0.001, 'gamma': 0.001}</td>\n      <td>0.627907</td>\n      <td>0.635294</td>\n      <td>0.623529</td>\n      <td>0.623529</td>\n      <td>0.623529</td>\n      <td>0.626758</td>\n      <td>0.004593</td>\n      <td>6</td>\n    </tr>\n    <tr>\n      <th>1</th>\n      <td>0.005199</td>\n      <td>0.001472</td>\n      <td>0.002800</td>\n      <td>0.000751</td>\n      <td>0.001</td>\n      <td>0.010</td>\n      <td>{'C': 0.001, 'gamma': 0.01}</td>\n      <td>0.627907</td>\n      <td>0.635294</td>\n      <td>0.623529</td>\n      <td>0.623529</td>\n      <td>0.623529</td>\n      <td>0.626758</td>\n      <td>0.004593</td>\n      <td>6</td>\n    </tr>\n    <tr>\n      <th>2</th>\n      <td>0.005729</td>\n      <td>0.005754</td>\n      <td>0.000645</td>\n      <td>0.001291</td>\n      <td>0.001</td>\n      <td>0.100</td>\n      <td>{'C': 0.001, 'gamma': 0.1}</td>\n      <td>0.627907</td>\n      <td>0.635294</td>\n      <td>0.623529</td>\n      <td>0.623529</td>\n      <td>0.623529</td>\n      <td>0.626758</td>\n      <td>0.004593</td>\n      <td>6</td>\n    </tr>\n    <tr>\n      <th>3</th>\n      <td>0.006250</td>\n      <td>0.007654</td>\n      <td>0.000000</td>\n      <td>0.000000</td>\n      <td>0.001</td>\n      <td>1.000</td>\n      <td>{'C': 0.001, 'gamma': 1}</td>\n      <td>0.627907</td>\n      <td>0.635294</td>\n      <td>0.623529</td>\n      <td>0.623529</td>\n      <td>0.623529</td>\n      <td>0.626758</td>\n      <td>0.004593</td>\n      <td>6</td>\n    </tr>\n    <tr>\n      <th>4</th>\n      <td>0.009375</td>\n      <td>0.007655</td>\n      <td>0.001301</td>\n      <td>0.002603</td>\n      <td>0.001</td>\n      <td>10.000</td>\n      <td>{'C': 0.001, 'gamma': 10}</td>\n      <td>0.627907</td>\n      <td>0.635294</td>\n      <td>0.623529</td>\n      <td>0.623529</td>\n      <td>0.623529</td>\n      <td>0.626758</td>\n      <td>0.004593</td>\n      <td>6</td>\n    </tr>\n  </tbody>\n</table>\n</div>"
     },
     "metadata": {},
     "output_type": "display_data"
    }
   ],
   "source": [
    "import pandas as pd\n",
    "results = pd.DataFrame(grid_search.cv_results_)\n",
    "display(results.head())"
   ],
   "metadata": {
    "collapsed": false,
    "ExecuteTime": {
     "end_time": "2024-12-08T18:06:34.659361900Z",
     "start_time": "2024-12-08T18:06:34.612510800Z"
    }
   },
   "id": "5fcd3de9660f329"
  },
  {
   "cell_type": "code",
   "execution_count": 16,
   "outputs": [
    {
     "data": {
      "text/plain": "<Figure size 640x480 with 2 Axes>",
      "image/png": "[encoded data removed]"
     },
     "metadata": {},
     "output_type": "display_data"
    }
   ],
   "source": [
    "import seaborn as sns\n",
    "import matplotlib.pyplot as plt\n",
    "scores = np.array(results.mean_test_score).reshape(6, 6)\n",
    "\n",
    "ax = sns.heatmap(scores, annot=True, xticklabels=param_grid['gamma'], yticklabels=param_grid['C'],cmap='hsv')\n",
    "ax.set(xlabel=\"gamma\", ylabel=\"C\")\n",
    "ax.xaxis.tick_top()\n",
    "plt.show()"
   ],
   "metadata": {
    "collapsed": false,
    "ExecuteTime": {
     "end_time": "2024-12-08T18:06:38.268710700Z",
     "start_time": "2024-12-08T18:06:38.105664600Z"
    }
   },
   "id": "d89fcdfa5f4126e6"
  },
  {
   "cell_type": "code",
   "execution_count": 17,
   "outputs": [
    {
     "name": "stdout",
     "output_type": "stream",
     "text": [
      "List of grids:\n",
      "[{'kernel': ['rbf'], 'C': [0.001, 0.01, 0.1, 1, 10, 100], 'gamma': [0.001, 0.01, 0.1, 1, 10, 100]}, {'kernel': ['linear'], 'C': [0.001, 0.01, 0.1, 1, 10, 100]}]\n"
     ]
    }
   ],
   "source": [
    "param_grid = [{'kernel': ['rbf'],\n",
    "               'C': [0.001, 0.01, 0.1, 1, 10, 100],\n",
    "              'gamma': [0.001, 0.01, 0.1, 1, 10, 100]},\n",
    "              {'kernel': ['linear'],\n",
    "               'C': [0.001, 0.01, 0.1, 1, 10, 100]}]\n",
    "print(\"List of grids:\\n{}\".format(param_grid))"
   ],
   "metadata": {
    "collapsed": false,
    "ExecuteTime": {
     "end_time": "2024-12-08T18:06:46.712582300Z",
     "start_time": "2024-12-08T18:06:46.681261100Z"
    }
   },
   "id": "351acde501042772"
  },
  {
   "cell_type": "code",
   "execution_count": 18,
   "outputs": [
    {
     "name": "stdout",
     "output_type": "stream",
     "text": [
      "Наилучшие значения параметров: {'C': 0.1, 'kernel': 'linear'}\n",
      "Наилучшее значение кросс-валидац. правильности: 0.96\n"
     ]
    }
   ],
   "source": [
    "grid_search = GridSearchCV(SVC(), param_grid, cv=5)\n",
    "grid_search.fit(X_train, y_train)\n",
    "print(\"Наилучшие значения параметров: {}\".format(grid_search.best_params_))\n",
    "print(\"Наилучшее значение кросс-валидац. правильности: {:.2f}\".format(grid_search.best_score_))"
   ],
   "metadata": {
    "collapsed": false,
    "ExecuteTime": {
     "end_time": "2024-12-08T18:07:15.038286300Z",
     "start_time": "2024-12-08T18:06:47.417076700Z"
    }
   },
   "id": "eacec5ccc9675335"
  },
  {
   "cell_type": "code",
   "execution_count": 18,
   "outputs": [],
   "source": [
    "results = pd.DataFrame(grid_search.cv_results_)"
   ],
   "metadata": {
    "collapsed": false,
    "ExecuteTime": {
     "end_time": "2024-12-08T16:20:03.893637700Z",
     "start_time": "2024-12-08T16:20:03.833735800Z"
    }
   },
   "id": "3a8cf50e64781ac1"
  },
  {
   "cell_type": "code",
   "execution_count": 19,
   "outputs": [
    {
     "data": {
      "text/plain": "    mean_fit_time  std_fit_time  mean_score_time  std_score_time  param_C  \\\n0        0.004434      0.006119         0.000000        0.000000    0.001   \n1        0.007581      0.007007         0.000669        0.001338    0.001   \n2        0.006276      0.007687         0.000000        0.000000    0.001   \n3        0.003123      0.006246         0.002427        0.004854    0.001   \n4        0.000000      0.000000         0.006251        0.007656    0.001   \n5        0.009375      0.007655         0.000000        0.000000    0.001   \n6        0.004733      0.003753         0.000000        0.000000    0.010   \n7        0.004322      0.004321         0.002303        0.003960    0.010   \n8        0.008667      0.007784         0.002112        0.003220    0.010   \n9        0.010646      0.002335         0.007598        0.005218    0.010   \n10       0.010215      0.001244         0.004722        0.003222    0.010   \n11       0.009215      0.003957         0.000875        0.001750    0.010   \n12       0.004568      0.004757         0.001673        0.003270    0.100   \n13       0.005841      0.004000         0.002074        0.003164    0.100   \n14       0.007850      0.004216         0.002545        0.003043    0.100   \n15       0.007165      0.004989         0.001626        0.003251    0.100   \n16       0.006259      0.004503         0.002100        0.003164    0.100   \n17       0.005773      0.003929         0.002099        0.003225    0.100   \n18       0.006243      0.005098         0.000503        0.000916    1.000   \n19       0.005837      0.003886         0.002564        0.002972    1.000   \n20       0.005093      0.004387         0.001631        0.003262    1.000   \n21       0.002067      0.003169         0.005800        0.003926    1.000   \n22       0.010364      0.001333         0.000460        0.000920    1.000   \n23       0.006172      0.005211         0.001661        0.003322    1.000   \n24       0.003116      0.006231         0.003150        0.006300   10.000   \n25       0.006263      0.007670         0.000000        0.000000   10.000   \n26       0.008227      0.007986         0.000424        0.000848   10.000   \n27       0.000241      0.000481         0.006277        0.007688   10.000   \n28       0.006684      0.007342         0.002862        0.005723   10.000   \n29       0.005845      0.004852         0.004220        0.004366   10.000   \n30       0.004198      0.003405         0.000461        0.000923  100.000   \n31       0.004213      0.004397         0.004121        0.005217  100.000   \n32       0.007927      0.004258         0.002112        0.003194  100.000   \n33       0.006300      0.003403         0.002546        0.002972  100.000   \n34       0.006644      0.004731         0.001662        0.003323  100.000   \n35       0.005832      0.003962         0.002548        0.003006  100.000   \n36       0.002128      0.003218         0.000000        0.000000    0.001   \n37       0.007285      0.003821         0.000664        0.000869    0.010   \n38       0.046968      0.014255         0.001302        0.002604    0.100   \n39       0.265431      0.137509         0.003126        0.006252    1.000   \n40       1.735212      0.841537         0.000000        0.000000   10.000   \n41       2.978224      1.550026         0.000000        0.000000  100.000   \n\n    param_gamma param_kernel                                         params  \\\n0         0.001          rbf  {'C': 0.001, 'gamma': 0.001, 'kernel': 'rbf'}   \n1         0.010          rbf   {'C': 0.001, 'gamma': 0.01, 'kernel': 'rbf'}   \n2         0.100          rbf    {'C': 0.001, 'gamma': 0.1, 'kernel': 'rbf'}   \n3         1.000          rbf      {'C': 0.001, 'gamma': 1, 'kernel': 'rbf'}   \n4        10.000          rbf     {'C': 0.001, 'gamma': 10, 'kernel': 'rbf'}   \n5       100.000          rbf    {'C': 0.001, 'gamma': 100, 'kernel': 'rbf'}   \n6         0.001          rbf   {'C': 0.01, 'gamma': 0.001, 'kernel': 'rbf'}   \n7         0.010          rbf    {'C': 0.01, 'gamma': 0.01, 'kernel': 'rbf'}   \n8         0.100          rbf     {'C': 0.01, 'gamma': 0.1, 'kernel': 'rbf'}   \n9         1.000          rbf       {'C': 0.01, 'gamma': 1, 'kernel': 'rbf'}   \n10       10.000          rbf      {'C': 0.01, 'gamma': 10, 'kernel': 'rbf'}   \n11      100.000          rbf     {'C': 0.01, 'gamma': 100, 'kernel': 'rbf'}   \n12        0.001          rbf    {'C': 0.1, 'gamma': 0.001, 'kernel': 'rbf'}   \n13        0.010          rbf     {'C': 0.1, 'gamma': 0.01, 'kernel': 'rbf'}   \n14        0.100          rbf      {'C': 0.1, 'gamma': 0.1, 'kernel': 'rbf'}   \n15        1.000          rbf        {'C': 0.1, 'gamma': 1, 'kernel': 'rbf'}   \n16       10.000          rbf       {'C': 0.1, 'gamma': 10, 'kernel': 'rbf'}   \n17      100.000          rbf      {'C': 0.1, 'gamma': 100, 'kernel': 'rbf'}   \n18        0.001          rbf      {'C': 1, 'gamma': 0.001, 'kernel': 'rbf'}   \n19        0.010          rbf       {'C': 1, 'gamma': 0.01, 'kernel': 'rbf'}   \n20        0.100          rbf        {'C': 1, 'gamma': 0.1, 'kernel': 'rbf'}   \n21        1.000          rbf          {'C': 1, 'gamma': 1, 'kernel': 'rbf'}   \n22       10.000          rbf         {'C': 1, 'gamma': 10, 'kernel': 'rbf'}   \n23      100.000          rbf        {'C': 1, 'gamma': 100, 'kernel': 'rbf'}   \n24        0.001          rbf     {'C': 10, 'gamma': 0.001, 'kernel': 'rbf'}   \n25        0.010          rbf      {'C': 10, 'gamma': 0.01, 'kernel': 'rbf'}   \n26        0.100          rbf       {'C': 10, 'gamma': 0.1, 'kernel': 'rbf'}   \n27        1.000          rbf         {'C': 10, 'gamma': 1, 'kernel': 'rbf'}   \n28       10.000          rbf        {'C': 10, 'gamma': 10, 'kernel': 'rbf'}   \n29      100.000          rbf       {'C': 10, 'gamma': 100, 'kernel': 'rbf'}   \n30        0.001          rbf    {'C': 100, 'gamma': 0.001, 'kernel': 'rbf'}   \n31        0.010          rbf     {'C': 100, 'gamma': 0.01, 'kernel': 'rbf'}   \n32        0.100          rbf      {'C': 100, 'gamma': 0.1, 'kernel': 'rbf'}   \n33        1.000          rbf        {'C': 100, 'gamma': 1, 'kernel': 'rbf'}   \n34       10.000          rbf       {'C': 100, 'gamma': 10, 'kernel': 'rbf'}   \n35      100.000          rbf      {'C': 100, 'gamma': 100, 'kernel': 'rbf'}   \n36          NaN       linear               {'C': 0.001, 'kernel': 'linear'}   \n37          NaN       linear                {'C': 0.01, 'kernel': 'linear'}   \n38          NaN       linear                 {'C': 0.1, 'kernel': 'linear'}   \n39          NaN       linear                   {'C': 1, 'kernel': 'linear'}   \n40          NaN       linear                  {'C': 10, 'kernel': 'linear'}   \n41          NaN       linear                 {'C': 100, 'kernel': 'linear'}   \n\n    split0_test_score  split1_test_score  split2_test_score  \\\n0            0.627907           0.635294           0.623529   \n1            0.627907           0.635294           0.623529   \n2            0.627907           0.635294           0.623529   \n3            0.627907           0.635294           0.623529   \n4            0.627907           0.635294           0.623529   \n5            0.627907           0.635294           0.623529   \n6            0.627907           0.635294           0.623529   \n7            0.627907           0.635294           0.623529   \n8            0.627907           0.635294           0.623529   \n9            0.627907           0.635294           0.623529   \n10           0.627907           0.635294           0.623529   \n11           0.627907           0.635294           0.623529   \n12           0.627907           0.635294           0.623529   \n13           0.627907           0.635294           0.623529   \n14           0.627907           0.635294           0.623529   \n15           0.627907           0.635294           0.623529   \n16           0.627907           0.635294           0.623529   \n17           0.627907           0.635294           0.623529   \n18           0.988372           0.894118           0.894118   \n19           0.627907           0.635294           0.623529   \n20           0.627907           0.635294           0.623529   \n21           0.627907           0.635294           0.623529   \n22           0.627907           0.635294           0.623529   \n23           0.627907           0.635294           0.623529   \n24           0.953488           0.905882           0.882353   \n25           0.627907           0.647059           0.623529   \n26           0.627907           0.635294           0.623529   \n27           0.627907           0.635294           0.623529   \n28           0.627907           0.635294           0.623529   \n29           0.627907           0.635294           0.623529   \n30           0.953488           0.905882           0.882353   \n31           0.627907           0.647059           0.623529   \n32           0.627907           0.635294           0.623529   \n33           0.627907           0.635294           0.623529   \n34           0.627907           0.635294           0.623529   \n35           0.627907           0.635294           0.623529   \n36           0.976744           0.894118           0.917647   \n37           0.976744           0.929412           0.905882   \n38           0.976744           0.941176           0.929412   \n39           0.988372           0.941176           0.894118   \n40           0.965116           0.929412           0.917647   \n41           0.953488           0.952941           0.894118   \n\n    split3_test_score  split4_test_score  mean_test_score  std_test_score  \\\n0            0.623529           0.623529         0.626758        0.004593   \n1            0.623529           0.623529         0.626758        0.004593   \n2            0.623529           0.623529         0.626758        0.004593   \n3            0.623529           0.623529         0.626758        0.004593   \n4            0.623529           0.623529         0.626758        0.004593   \n5            0.623529           0.623529         0.626758        0.004593   \n6            0.623529           0.623529         0.626758        0.004593   \n7            0.623529           0.623529         0.626758        0.004593   \n8            0.623529           0.623529         0.626758        0.004593   \n9            0.623529           0.623529         0.626758        0.004593   \n10           0.623529           0.623529         0.626758        0.004593   \n11           0.623529           0.623529         0.626758        0.004593   \n12           0.623529           0.623529         0.626758        0.004593   \n13           0.623529           0.623529         0.626758        0.004593   \n14           0.623529           0.623529         0.626758        0.004593   \n15           0.623529           0.623529         0.626758        0.004593   \n16           0.623529           0.623529         0.626758        0.004593   \n17           0.623529           0.623529         0.626758        0.004593   \n18           0.905882           0.929412         0.922380        0.035423   \n19           0.623529           0.623529         0.626758        0.004593   \n20           0.623529           0.623529         0.626758        0.004593   \n21           0.623529           0.623529         0.626758        0.004593   \n22           0.623529           0.623529         0.626758        0.004593   \n23           0.623529           0.623529         0.626758        0.004593   \n24           0.929412           0.917647         0.917756        0.023694   \n25           0.635294           0.611765         0.629111        0.011780   \n26           0.623529           0.623529         0.626758        0.004593   \n27           0.623529           0.623529         0.626758        0.004593   \n28           0.623529           0.623529         0.626758        0.004593   \n29           0.623529           0.623529         0.626758        0.004593   \n30           0.929412           0.917647         0.917756        0.023694   \n31           0.635294           0.611765         0.629111        0.011780   \n32           0.623529           0.623529         0.626758        0.004593   \n33           0.623529           0.623529         0.626758        0.004593   \n34           0.623529           0.623529         0.626758        0.004593   \n35           0.623529           0.623529         0.626758        0.004593   \n36           0.964706           0.964706         0.943584        0.031973   \n37           0.976471           0.964706         0.950643        0.028286   \n38           0.976471           0.964706         0.957702        0.019170   \n39           0.976471           0.964706         0.952969        0.033305   \n40           0.964706           0.964706         0.948317        0.020579   \n41           0.964706           0.976471         0.948345        0.028450   \n\n    rank_test_score  \n0                12  \n1                12  \n2                12  \n3                12  \n4                12  \n5                12  \n6                12  \n7                12  \n8                12  \n9                12  \n10               12  \n11               12  \n12               12  \n13               12  \n14               12  \n15               12  \n16               12  \n17               12  \n18                7  \n19               12  \n20               12  \n21               12  \n22               12  \n23               12  \n24                8  \n25               10  \n26               12  \n27               12  \n28               12  \n29               12  \n30                8  \n31               10  \n32               12  \n33               12  \n34               12  \n35               12  \n36                6  \n37                3  \n38                1  \n39                2  \n40                5  \n41                4  ",
      "text/html": "<div>\n<style scoped>\n    .dataframe tbody tr th:only-of-type {\n        vertical-align: middle;\n    }\n\n    .dataframe tbody tr th {\n        vertical-align: top;\n    }\n\n    .dataframe thead th {\n        text-align: right;\n    }\n</style>\n<table border=\"1\" class=\"dataframe\">\n  <thead>\n    <tr style=\"text-align: right;\">\n      <th></th>\n      <th>mean_fit_time</th>\n      <th>std_fit_time</th>\n      <th>mean_score_time</th>\n      <th>std_score_time</th>\n      <th>param_C</th>\n      <th>param_gamma</th>\n      <th>param_kernel</th>\n      <th>params</th>\n      <th>split0_test_score</th>\n      <th>split1_test_score</th>\n      <th>split2_test_score</th>\n      <th>split3_test_score</th>\n      <th>split4_test_score</th>\n      <th>mean_test_score</th>\n      <th>std_test_score</th>\n      <th>rank_test_score</th>\n    </tr>\n  </thead>\n  <tbody>\n    <tr>\n      <th>0</th>\n      <td>0.004434</td>\n      <td>0.006119</td>\n      <td>0.000000</td>\n      <td>0.000000</td>\n      <td>0.001</td>\n      <td>0.001</td>\n      <td>rbf</td>\n      <td>{'C': 0.001, 'gamma': 0.001, 'kernel': 'rbf'}</td>\n      <td>0.627907</td>\n      <td>0.635294</td>\n      <td>0.623529</td>\n      <td>0.623529</td>\n      <td>0.623529</td>\n      <td>0.626758</td>\n      <td>0.004593</td>\n      <td>12</td>\n    </tr>\n    <tr>\n      <th>1</th>\n      <td>0.007581</td>\n      <td>0.007007</td>\n      <td>0.000669</td>\n      <td>0.001338</td>\n      <td>0.001</td>\n      <td>0.010</td>\n      <td>rbf</td>\n      <td>{'C': 0.001, 'gamma': 0.01, 'kernel': 'rbf'}</td>\n      <td>0.627907</td>\n      <td>0.635294</td>\n      <td>0.623529</td>\n      <td>0.623529</td>\n      <td>0.623529</td>\n      <td>0.626758</td>\n      <td>0.004593</td>\n      <td>12</td>\n    </tr>\n    <tr>\n      <th>2</th>\n      <td>0.006276</td>\n      <td>0.007687</td>\n      <td>0.000000</td>\n      <td>0.000000</td>\n      <td>0.001</td>\n      <td>0.100</td>\n      <td>rbf</td>\n      <td>{'C': 0.001, 'gamma': 0.1, 'kernel': 'rbf'}</td>\n      <td>0.627907</td>\n      <td>0.635294</td>\n      <td>0.623529</td>\n      <td>0.623529</td>\n      <td>0.623529</td>\n      <td>0.626758</td>\n      <td>0.004593</td>\n      <td>12</td>\n    </tr>\n    <tr>\n      <th>3</th>\n      <td>0.003123</td>\n      <td>0.006246</td>\n      <td>0.002427</td>\n      <td>0.004854</td>\n      <td>0.001</td>\n      <td>1.000</td>\n      <td>rbf</td>\n      <td>{'C': 0.001, 'gamma': 1, 'kernel': 'rbf'}</td>\n      <td>0.627907</td>\n      <td>0.635294</td>\n      <td>0.623529</td>\n      <td>0.623529</td>\n      <td>0.623529</td>\n      <td>0.626758</td>\n      <td>0.004593</td>\n      <td>12</td>\n    </tr>\n    <tr>\n      <th>4</th>\n      <td>0.000000</td>\n      <td>0.000000</td>\n      <td>0.006251</td>\n      <td>0.007656</td>\n      <td>0.001</td>\n      <td>10.000</td>\n      <td>rbf</td>\n      <td>{'C': 0.001, 'gamma': 10, 'kernel': 'rbf'}</td>\n      <td>0.627907</td>\n      <td>0.635294</td>\n      <td>0.623529</td>\n      <td>0.623529</td>\n      <td>0.623529</td>\n      <td>0.626758</td>\n      <td>0.004593</td>\n      <td>12</td>\n    </tr>\n    <tr>\n      <th>5</th>\n      <td>0.009375</td>\n      <td>0.007655</td>\n      <td>0.000000</td>\n      <td>0.000000</td>\n      <td>0.001</td>\n      <td>100.000</td>\n      <td>rbf</td>\n      <td>{'C': 0.001, 'gamma': 100, 'kernel': 'rbf'}</td>\n      <td>0.627907</td>\n      <td>0.635294</td>\n      <td>0.623529</td>\n      <td>0.623529</td>\n      <td>0.623529</td>\n      <td>0.626758</td>\n      <td>0.004593</td>\n      <td>12</td>\n    </tr>\n    <tr>\n      <th>6</th>\n      <td>0.004733</td>\n      <td>0.003753</td>\n      <td>0.000000</td>\n      <td>0.000000</td>\n      <td>0.010</td>\n      <td>0.001</td>\n      <td>rbf</td>\n      <td>{'C': 0.01, 'gamma': 0.001, 'kernel': 'rbf'}</td>\n      <td>0.627907</td>\n      <td>0.635294</td>\n      <td>0.623529</td>\n      <td>0.623529</td>\n      <td>0.623529</td>\n      <td>0.626758</td>\n      <td>0.004593</td>\n      <td>12</td>\n    </tr>\n    <tr>\n      <th>7</th>\n      <td>0.004322</td>\n      <td>0.004321</td>\n      <td>0.002303</td>\n      <td>0.003960</td>\n      <td>0.010</td>\n      <td>0.010</td>\n      <td>rbf</td>\n      <td>{'C': 0.01, 'gamma': 0.01, 'kernel': 'rbf'}</td>\n      <td>0.627907</td>\n      <td>0.635294</td>\n      <td>0.623529</td>\n      <td>0.623529</td>\n      <td>0.623529</td>\n      <td>0.626758</td>\n      <td>0.004593</td>\n      <td>12</td>\n    </tr>\n    <tr>\n      <th>8</th>\n      <td>0.008667</td>\n      <td>0.007784</td>\n      <td>0.002112</td>\n      <td>0.003220</td>\n      <td>0.010</td>\n      <td>0.100</td>\n      <td>rbf</td>\n      <td>{'C': 0.01, 'gamma': 0.1, 'kernel': 'rbf'}</td>\n      <td>0.627907</td>\n      <td>0.635294</td>\n      <td>0.623529</td>\n      <td>0.623529</td>\n      <td>0.623529</td>\n      <td>0.626758</td>\n      <td>0.004593</td>\n      <td>12</td>\n    </tr>\n    <tr>\n      <th>9</th>\n      <td>0.010646</td>\n      <td>0.002335</td>\n      <td>0.007598</td>\n      <td>0.005218</td>\n      <td>0.010</td>\n      <td>1.000</td>\n      <td>rbf</td>\n      <td>{'C': 0.01, 'gamma': 1, 'kernel': 'rbf'}</td>\n      <td>0.627907</td>\n      <td>0.635294</td>\n      <td>0.623529</td>\n      <td>0.623529</td>\n      <td>0.623529</td>\n      <td>0.626758</td>\n      <td>0.004593</td>\n      <td>12</td>\n    </tr>\n    <tr>\n      <th>10</th>\n      <td>0.010215</td>\n      <td>0.001244</td>\n      <td>0.004722</td>\n      <td>0.003222</td>\n      <td>0.010</td>\n      <td>10.000</td>\n      <td>rbf</td>\n      <td>{'C': 0.01, 'gamma': 10, 'kernel': 'rbf'}</td>\n      <td>0.627907</td>\n      <td>0.635294</td>\n      <td>0.623529</td>\n      <td>0.623529</td>\n      <td>0.623529</td>\n      <td>0.626758</td>\n      <td>0.004593</td>\n      <td>12</td>\n    </tr>\n    <tr>\n      <th>11</th>\n      <td>0.009215</td>\n      <td>0.003957</td>\n      <td>0.000875</td>\n      <td>0.001750</td>\n      <td>0.010</td>\n      <td>100.000</td>\n      <td>rbf</td>\n      <td>{'C': 0.01, 'gamma': 100, 'kernel': 'rbf'}</td>\n      <td>0.627907</td>\n      <td>0.635294</td>\n      <td>0.623529</td>\n      <td>0.623529</td>\n      <td>0.623529</td>\n      <td>0.626758</td>\n      <td>0.004593</td>\n      <td>12</td>\n    </tr>\n    <tr>\n      <th>12</th>\n      <td>0.004568</td>\n      <td>0.004757</td>\n      <td>0.001673</td>\n      <td>0.003270</td>\n      <td>0.100</td>\n      <td>0.001</td>\n      <td>rbf</td>\n      <td>{'C': 0.1, 'gamma': 0.001, 'kernel': 'rbf'}</td>\n      <td>0.627907</td>\n      <td>0.635294</td>\n      <td>0.623529</td>\n      <td>0.623529</td>\n      <td>0.623529</td>\n      <td>0.626758</td>\n      <td>0.004593</td>\n      <td>12</td>\n    </tr>\n    <tr>\n      <th>13</th>\n      <td>0.005841</td>\n      <td>0.004000</td>\n      <td>0.002074</td>\n      <td>0.003164</td>\n      <td>0.100</td>\n      <td>0.010</td>\n      <td>rbf</td>\n      <td>{'C': 0.1, 'gamma': 0.01, 'kernel': 'rbf'}</td>\n      <td>0.627907</td>\n      <td>0.635294</td>\n      <td>0.623529</td>\n      <td>0.623529</td>\n      <td>0.623529</td>\n      <td>0.626758</td>\n      <td>0.004593</td>\n      <td>12</td>\n    </tr>\n    <tr>\n      <th>14</th>\n      <td>0.007850</td>\n      <td>0.004216</td>\n      <td>0.002545</td>\n      <td>0.003043</td>\n      <td>0.100</td>\n      <td>0.100</td>\n      <td>rbf</td>\n      <td>{'C': 0.1, 'gamma': 0.1, 'kernel': 'rbf'}</td>\n      <td>0.627907</td>\n      <td>0.635294</td>\n      <td>0.623529</td>\n      <td>0.623529</td>\n      <td>0.623529</td>\n      <td>0.626758</td>\n      <td>0.004593</td>\n      <td>12</td>\n    </tr>\n    <tr>\n      <th>15</th>\n      <td>0.007165</td>\n      <td>0.004989</td>\n      <td>0.001626</td>\n      <td>0.003251</td>\n      <td>0.100</td>\n      <td>1.000</td>\n      <td>rbf</td>\n      <td>{'C': 0.1, 'gamma': 1, 'kernel': 'rbf'}</td>\n      <td>0.627907</td>\n      <td>0.635294</td>\n      <td>0.623529</td>\n      <td>0.623529</td>\n      <td>0.623529</td>\n      <td>0.626758</td>\n      <td>0.004593</td>\n      <td>12</td>\n    </tr>\n    <tr>\n      <th>16</th>\n      <td>0.006259</td>\n      <td>0.004503</td>\n      <td>0.002100</td>\n      <td>0.003164</td>\n      <td>0.100</td>\n      <td>10.000</td>\n      <td>rbf</td>\n      <td>{'C': 0.1, 'gamma': 10, 'kernel': 'rbf'}</td>\n      <td>0.627907</td>\n      <td>0.635294</td>\n      <td>0.623529</td>\n      <td>0.623529</td>\n      <td>0.623529</td>\n      <td>0.626758</td>\n      <td>0.004593</td>\n      <td>12</td>\n    </tr>\n    <tr>\n      <th>17</th>\n      <td>0.005773</td>\n      <td>0.003929</td>\n      <td>0.002099</td>\n      <td>0.003225</td>\n      <td>0.100</td>\n      <td>100.000</td>\n      <td>rbf</td>\n      <td>{'C': 0.1, 'gamma': 100, 'kernel': 'rbf'}</td>\n      <td>0.627907</td>\n      <td>0.635294</td>\n      <td>0.623529</td>\n      <td>0.623529</td>\n      <td>0.623529</td>\n      <td>0.626758</td>\n      <td>0.004593</td>\n      <td>12</td>\n    </tr>\n    <tr>\n      <th>18</th>\n      <td>0.006243</td>\n      <td>0.005098</td>\n      <td>0.000503</td>\n      <td>0.000916</td>\n      <td>1.000</td>\n      <td>0.001</td>\n      <td>rbf</td>\n      <td>{'C': 1, 'gamma': 0.001, 'kernel': 'rbf'}</td>\n      <td>0.988372</td>\n      <td>0.894118</td>\n      <td>0.894118</td>\n      <td>0.905882</td>\n      <td>0.929412</td>\n      <td>0.922380</td>\n      <td>0.035423</td>\n      <td>7</td>\n    </tr>\n    <tr>\n      <th>19</th>\n      <td>0.005837</td>\n      <td>0.003886</td>\n      <td>0.002564</td>\n      <td>0.002972</td>\n      <td>1.000</td>\n      <td>0.010</td>\n      <td>rbf</td>\n      <td>{'C': 1, 'gamma': 0.01, 'kernel': 'rbf'}</td>\n      <td>0.627907</td>\n      <td>0.635294</td>\n      <td>0.623529</td>\n      <td>0.623529</td>\n      <td>0.623529</td>\n      <td>0.626758</td>\n      <td>0.004593</td>\n      <td>12</td>\n    </tr>\n    <tr>\n      <th>20</th>\n      <td>0.005093</td>\n      <td>0.004387</td>\n      <td>0.001631</td>\n      <td>0.003262</td>\n      <td>1.000</td>\n      <td>0.100</td>\n      <td>rbf</td>\n      <td>{'C': 1, 'gamma': 0.1, 'kernel': 'rbf'}</td>\n      <td>0.627907</td>\n      <td>0.635294</td>\n      <td>0.623529</td>\n      <td>0.623529</td>\n      <td>0.623529</td>\n      <td>0.626758</td>\n      <td>0.004593</td>\n      <td>12</td>\n    </tr>\n    <tr>\n      <th>21</th>\n      <td>0.002067</td>\n      <td>0.003169</td>\n      <td>0.005800</td>\n      <td>0.003926</td>\n      <td>1.000</td>\n      <td>1.000</td>\n      <td>rbf</td>\n      <td>{'C': 1, 'gamma': 1, 'kernel': 'rbf'}</td>\n      <td>0.627907</td>\n      <td>0.635294</td>\n      <td>0.623529</td>\n      <td>0.623529</td>\n      <td>0.623529</td>\n      <td>0.626758</td>\n      <td>0.004593</td>\n      <td>12</td>\n    </tr>\n    <tr>\n      <th>22</th>\n      <td>0.010364</td>\n      <td>0.001333</td>\n      <td>0.000460</td>\n      <td>0.000920</td>\n      <td>1.000</td>\n      <td>10.000</td>\n      <td>rbf</td>\n      <td>{'C': 1, 'gamma': 10, 'kernel': 'rbf'}</td>\n      <td>0.627907</td>\n      <td>0.635294</td>\n      <td>0.623529</td>\n      <td>0.623529</td>\n      <td>0.623529</td>\n      <td>0.626758</td>\n      <td>0.004593</td>\n      <td>12</td>\n    </tr>\n    <tr>\n      <th>23</th>\n      <td>0.006172</td>\n      <td>0.005211</td>\n      <td>0.001661</td>\n      <td>0.003322</td>\n      <td>1.000</td>\n      <td>100.000</td>\n      <td>rbf</td>\n      <td>{'C': 1, 'gamma': 100, 'kernel': 'rbf'}</td>\n      <td>0.627907</td>\n      <td>0.635294</td>\n      <td>0.623529</td>\n      <td>0.623529</td>\n      <td>0.623529</td>\n      <td>0.626758</td>\n      <td>0.004593</td>\n      <td>12</td>\n    </tr>\n    <tr>\n      <th>24</th>\n      <td>0.003116</td>\n      <td>0.006231</td>\n      <td>0.003150</td>\n      <td>0.006300</td>\n      <td>10.000</td>\n      <td>0.001</td>\n      <td>rbf</td>\n      <td>{'C': 10, 'gamma': 0.001, 'kernel': 'rbf'}</td>\n      <td>0.953488</td>\n      <td>0.905882</td>\n      <td>0.882353</td>\n      <td>0.929412</td>\n      <td>0.917647</td>\n      <td>0.917756</td>\n      <td>0.023694</td>\n      <td>8</td>\n    </tr>\n    <tr>\n      <th>25</th>\n      <td>0.006263</td>\n      <td>0.007670</td>\n      <td>0.000000</td>\n      <td>0.000000</td>\n      <td>10.000</td>\n      <td>0.010</td>\n      <td>rbf</td>\n      <td>{'C': 10, 'gamma': 0.01, 'kernel': 'rbf'}</td>\n      <td>0.627907</td>\n      <td>0.647059</td>\n      <td>0.623529</td>\n      <td>0.635294</td>\n      <td>0.611765</td>\n      <td>0.629111</td>\n      <td>0.011780</td>\n      <td>10</td>\n    </tr>\n    <tr>\n      <th>26</th>\n      <td>0.008227</td>\n      <td>0.007986</td>\n      <td>0.000424</td>\n      <td>0.000848</td>\n      <td>10.000</td>\n      <td>0.100</td>\n      <td>rbf</td>\n      <td>{'C': 10, 'gamma': 0.1, 'kernel': 'rbf'}</td>\n      <td>0.627907</td>\n      <td>0.635294</td>\n      <td>0.623529</td>\n      <td>0.623529</td>\n      <td>0.623529</td>\n      <td>0.626758</td>\n      <td>0.004593</td>\n      <td>12</td>\n    </tr>\n    <tr>\n      <th>27</th>\n      <td>0.000241</td>\n      <td>0.000481</td>\n      <td>0.006277</td>\n      <td>0.007688</td>\n      <td>10.000</td>\n      <td>1.000</td>\n      <td>rbf</td>\n      <td>{'C': 10, 'gamma': 1, 'kernel': 'rbf'}</td>\n      <td>0.627907</td>\n      <td>0.635294</td>\n      <td>0.623529</td>\n      <td>0.623529</td>\n      <td>0.623529</td>\n      <td>0.626758</td>\n      <td>0.004593</td>\n      <td>12</td>\n    </tr>\n    <tr>\n      <th>28</th>\n      <td>0.006684</td>\n      <td>0.007342</td>\n      <td>0.002862</td>\n      <td>0.005723</td>\n      <td>10.000</td>\n      <td>10.000</td>\n      <td>rbf</td>\n      <td>{'C': 10, 'gamma': 10, 'kernel': 'rbf'}</td>\n      <td>0.627907</td>\n      <td>0.635294</td>\n      <td>0.623529</td>\n      <td>0.623529</td>\n      <td>0.623529</td>\n      <td>0.626758</td>\n      <td>0.004593</td>\n      <td>12</td>\n    </tr>\n    <tr>\n      <th>29</th>\n      <td>0.005845</td>\n      <td>0.004852</td>\n      <td>0.004220</td>\n      <td>0.004366</td>\n      <td>10.000</td>\n      <td>100.000</td>\n      <td>rbf</td>\n      <td>{'C': 10, 'gamma': 100, 'kernel': 'rbf'}</td>\n      <td>0.627907</td>\n      <td>0.635294</td>\n      <td>0.623529</td>\n      <td>0.623529</td>\n      <td>0.623529</td>\n      <td>0.626758</td>\n      <td>0.004593</td>\n      <td>12</td>\n    </tr>\n    <tr>\n      <th>30</th>\n      <td>0.004198</td>\n      <td>0.003405</td>\n      <td>0.000461</td>\n      <td>0.000923</td>\n      <td>100.000</td>\n      <td>0.001</td>\n      <td>rbf</td>\n      <td>{'C': 100, 'gamma': 0.001, 'kernel': 'rbf'}</td>\n      <td>0.953488</td>\n      <td>0.905882</td>\n      <td>0.882353</td>\n      <td>0.929412</td>\n      <td>0.917647</td>\n      <td>0.917756</td>\n      <td>0.023694</td>\n      <td>8</td>\n    </tr>\n    <tr>\n      <th>31</th>\n      <td>0.004213</td>\n      <td>0.004397</td>\n      <td>0.004121</td>\n      <td>0.005217</td>\n      <td>100.000</td>\n      <td>0.010</td>\n      <td>rbf</td>\n      <td>{'C': 100, 'gamma': 0.01, 'kernel': 'rbf'}</td>\n      <td>0.627907</td>\n      <td>0.647059</td>\n      <td>0.623529</td>\n      <td>0.635294</td>\n      <td>0.611765</td>\n      <td>0.629111</td>\n      <td>0.011780</td>\n      <td>10</td>\n    </tr>\n    <tr>\n      <th>32</th>\n      <td>0.007927</td>\n      <td>0.004258</td>\n      <td>0.002112</td>\n      <td>0.003194</td>\n      <td>100.000</td>\n      <td>0.100</td>\n      <td>rbf</td>\n      <td>{'C': 100, 'gamma': 0.1, 'kernel': 'rbf'}</td>\n      <td>0.627907</td>\n      <td>0.635294</td>\n      <td>0.623529</td>\n      <td>0.623529</td>\n      <td>0.623529</td>\n      <td>0.626758</td>\n      <td>0.004593</td>\n      <td>12</td>\n    </tr>\n    <tr>\n      <th>33</th>\n      <td>0.006300</td>\n      <td>0.003403</td>\n      <td>0.002546</td>\n      <td>0.002972</td>\n      <td>100.000</td>\n      <td>1.000</td>\n      <td>rbf</td>\n      <td>{'C': 100, 'gamma': 1, 'kernel': 'rbf'}</td>\n      <td>0.627907</td>\n      <td>0.635294</td>\n      <td>0.623529</td>\n      <td>0.623529</td>\n      <td>0.623529</td>\n      <td>0.626758</td>\n      <td>0.004593</td>\n      <td>12</td>\n    </tr>\n    <tr>\n      <th>34</th>\n      <td>0.006644</td>\n      <td>0.004731</td>\n      <td>0.001662</td>\n      <td>0.003323</td>\n      <td>100.000</td>\n      <td>10.000</td>\n      <td>rbf</td>\n      <td>{'C': 100, 'gamma': 10, 'kernel': 'rbf'}</td>\n      <td>0.627907</td>\n      <td>0.635294</td>\n      <td>0.623529</td>\n      <td>0.623529</td>\n      <td>0.623529</td>\n      <td>0.626758</td>\n      <td>0.004593</td>\n      <td>12</td>\n    </tr>\n    <tr>\n      <th>35</th>\n      <td>0.005832</td>\n      <td>0.003962</td>\n      <td>0.002548</td>\n      <td>0.003006</td>\n      <td>100.000</td>\n      <td>100.000</td>\n      <td>rbf</td>\n      <td>{'C': 100, 'gamma': 100, 'kernel': 'rbf'}</td>\n      <td>0.627907</td>\n      <td>0.635294</td>\n      <td>0.623529</td>\n      <td>0.623529</td>\n      <td>0.623529</td>\n      <td>0.626758</td>\n      <td>0.004593</td>\n      <td>12</td>\n    </tr>\n    <tr>\n      <th>36</th>\n      <td>0.002128</td>\n      <td>0.003218</td>\n      <td>0.000000</td>\n      <td>0.000000</td>\n      <td>0.001</td>\n      <td>NaN</td>\n      <td>linear</td>\n      <td>{'C': 0.001, 'kernel': 'linear'}</td>\n      <td>0.976744</td>\n      <td>0.894118</td>\n      <td>0.917647</td>\n      <td>0.964706</td>\n      <td>0.964706</td>\n      <td>0.943584</td>\n      <td>0.031973</td>\n      <td>6</td>\n    </tr>\n    <tr>\n      <th>37</th>\n      <td>0.007285</td>\n      <td>0.003821</td>\n      <td>0.000664</td>\n      <td>0.000869</td>\n      <td>0.010</td>\n      <td>NaN</td>\n      <td>linear</td>\n      <td>{'C': 0.01, 'kernel': 'linear'}</td>\n      <td>0.976744</td>\n      <td>0.929412</td>\n      <td>0.905882</td>\n      <td>0.976471</td>\n      <td>0.964706</td>\n      <td>0.950643</td>\n      <td>0.028286</td>\n      <td>3</td>\n    </tr>\n    <tr>\n      <th>38</th>\n      <td>0.046968</td>\n      <td>0.014255</td>\n      <td>0.001302</td>\n      <td>0.002604</td>\n      <td>0.100</td>\n      <td>NaN</td>\n      <td>linear</td>\n      <td>{'C': 0.1, 'kernel': 'linear'}</td>\n      <td>0.976744</td>\n      <td>0.941176</td>\n      <td>0.929412</td>\n      <td>0.976471</td>\n      <td>0.964706</td>\n      <td>0.957702</td>\n      <td>0.019170</td>\n      <td>1</td>\n    </tr>\n    <tr>\n      <th>39</th>\n      <td>0.265431</td>\n      <td>0.137509</td>\n      <td>0.003126</td>\n      <td>0.006252</td>\n      <td>1.000</td>\n      <td>NaN</td>\n      <td>linear</td>\n      <td>{'C': 1, 'kernel': 'linear'}</td>\n      <td>0.988372</td>\n      <td>0.941176</td>\n      <td>0.894118</td>\n      <td>0.976471</td>\n      <td>0.964706</td>\n      <td>0.952969</td>\n      <td>0.033305</td>\n      <td>2</td>\n    </tr>\n    <tr>\n      <th>40</th>\n      <td>1.735212</td>\n      <td>0.841537</td>\n      <td>0.000000</td>\n      <td>0.000000</td>\n      <td>10.000</td>\n      <td>NaN</td>\n      <td>linear</td>\n      <td>{'C': 10, 'kernel': 'linear'}</td>\n      <td>0.965116</td>\n      <td>0.929412</td>\n      <td>0.917647</td>\n      <td>0.964706</td>\n      <td>0.964706</td>\n      <td>0.948317</td>\n      <td>0.020579</td>\n      <td>5</td>\n    </tr>\n    <tr>\n      <th>41</th>\n      <td>2.978224</td>\n      <td>1.550026</td>\n      <td>0.000000</td>\n      <td>0.000000</td>\n      <td>100.000</td>\n      <td>NaN</td>\n      <td>linear</td>\n      <td>{'C': 100, 'kernel': 'linear'}</td>\n      <td>0.953488</td>\n      <td>0.952941</td>\n      <td>0.894118</td>\n      <td>0.964706</td>\n      <td>0.976471</td>\n      <td>0.948345</td>\n      <td>0.028450</td>\n      <td>4</td>\n    </tr>\n  </tbody>\n</table>\n</div>"
     },
     "execution_count": 19,
     "metadata": {},
     "output_type": "execute_result"
    }
   ],
   "source": [
    "results"
   ],
   "metadata": {
    "collapsed": false,
    "ExecuteTime": {
     "end_time": "2024-12-08T16:20:03.909168900Z",
     "start_time": "2024-12-08T16:20:03.852204100Z"
    }
   },
   "id": "8ef2e202af19c755"
  },
  {
   "cell_type": "code",
   "execution_count": null,
   "outputs": [],
   "source": [
    "scores = cross_val_score(GridSearchCV(SVC(), param_grid, cv=5), cancer.data, cancer.target, cv=5)\n",
    "print(\"Значение правильности перекрестной проверки: \", scores)\n",
    "print(\"Среднее значение правильности перекрестной проверки: \", scores.mean())"
   ],
   "metadata": {
    "collapsed": false,
    "is_executing": true,
    "ExecuteTime": {
     "start_time": "2024-12-08T18:03:40.372839900Z"
    }
   },
   "id": "482911322cbc423e"
  },
  {
   "cell_type": "code",
   "execution_count": 19,
   "outputs": [],
   "source": [
    "def nested_cv(X, y, inner_cv, outer_cv, Classifier, parameter_grid):\n",
    "    outer_scores = []\n",
    "    # для каждого разбиения данных во внешней перекрестной проверке \n",
    "    # (метод split возвращает индексы)   \n",
    "    for training_samples, test_samples in outer_cv.split(X, y):\n",
    "        # находим наилучшие параметры с помощью внутренней перекрестной проверки  \n",
    "        best_parms = {}\n",
    "        best_score = -np.inf\n",
    "        # итерируем по параметрам   \n",
    "        for parameters in parameter_grid:\n",
    "             # собираем значения правильности по всем внутренним разбиениям \n",
    "            cv_scores = []\n",
    "             # итерируем по разбиениям внутренней перекрестной проверки \n",
    "            for inner_train, inner_test in inner_cv.split(\n",
    "                    X[training_samples], y[training_samples]):\n",
    "                # строим классификатор с данными параметрами на внутреннем обучающем наборе\n",
    "                clf = Classifier(**parameters)\n",
    "                clf.fit(X[inner_train], y[inner_train])\n",
    "               # оцениваем качество на внутреннем тестовом наборе\n",
    "                score = clf.score(X[inner_test], y[inner_test])\n",
    "                cv_scores.append(score)\n",
    "            # вычисляем среднее значение правильности по внутренним блокам\n",
    "            mean_score = np.mean(cv_scores)\n",
    "            if mean_score > best_score:\n",
    "                # если лучше, чем предыдущие, запоминаем параметры \n",
    "                best_score = mean_score\n",
    "                best_params = parameters\n",
    "        # строим классификатор с лучшими параметрами на внешнем обучающем наборе\n",
    "        clf = Classifier(**best_params)\n",
    "        clf.fit(X[training_samples], y[training_samples])\n",
    "        # оцениваем качество на внешнем тестовом наборе \n",
    "        outer_scores.append(clf.score(X[test_samples], y[test_samples]))\n",
    "    return np.array(outer_scores)\n"
   ],
   "metadata": {
    "collapsed": false,
    "ExecuteTime": {
     "end_time": "2024-12-08T18:07:28.093276700Z",
     "start_time": "2024-12-08T18:07:28.077665300Z"
    }
   },
   "id": "2616239a290398a8"
  },
  {
   "cell_type": "code",
   "execution_count": 20,
   "outputs": [
    {
     "name": "stdout",
     "output_type": "stream",
     "text": [
      "Значения правильности перекростной проверки: [0.93859649 0.93859649 0.97368421 0.94736842 0.95575221]\n"
     ]
    }
   ],
   "source": [
    "from sklearn.model_selection import ParameterGrid, StratifiedKFold\n",
    "scores = nested_cv(cancer.data, cancer.target, StratifiedKFold(5), StratifiedKFold(5), SVC, ParameterGrid(param_grid))\n",
    "print(\"Значения правильности перекростной проверки: {}\".format(scores))"
   ],
   "metadata": {
    "collapsed": false,
    "ExecuteTime": {
     "end_time": "2024-12-08T18:09:46.178786100Z",
     "start_time": "2024-12-08T18:07:30.633960900Z"
    }
   },
   "id": "1e658ebefac4242e"
  },
  {
   "cell_type": "code",
   "execution_count": 21,
   "outputs": [
    {
     "name": "stdout",
     "output_type": "stream",
     "text": [
      "правильность dummy: 0.63\n",
      "правильность logreg: 0.94\n",
      "правильность tree: 0.92\n"
     ]
    },
    {
     "name": "stderr",
     "output_type": "stream",
     "text": [
      "D:\\Projects\\Big_Data_5_semester\\venv\\lib\\site-packages\\sklearn\\linear_model\\_logistic.py:469: ConvergenceWarning: lbfgs failed to converge (status=1):\n",
      "STOP: TOTAL NO. of ITERATIONS REACHED LIMIT.\n",
      "\n",
      "Increase the number of iterations (max_iter) or scale the data as shown in:\n",
      "    https://scikit-learn.org/stable/modules/preprocessing.html\n",
      "Please also refer to the documentation for alternative solver options:\n",
      "    https://scikit-learn.org/stable/modules/linear_model.html#logistic-regression\n",
      "  n_iter_i = _check_optimize_result(\n"
     ]
    }
   ],
   "source": [
    "from sklearn.dummy import DummyClassifier\n",
    "from sklearn.linear_model import LogisticRegression\n",
    "from sklearn.tree import DecisionTreeClassifier\n",
    "dummy = DummyClassifier().fit(X_train, y_train)\n",
    "pred_dummy = dummy.predict(X_test)\n",
    "print(\"правильность dummy: {:.2f}\".format(dummy.score(X_test, y_test)))\n",
    "logreg = LogisticRegression(C=1, max_iter=100).fit(X_train, y_train)\n",
    "pred_logreg = logreg.predict(X_test)\n",
    "print(\"правильность logreg: {:.2f}\".format(logreg.score(X_test, y_test)))\n",
    "tree = DecisionTreeClassifier(max_depth=2).fit(X_train, y_train)\n",
    "pred_tree = tree.predict(X_test)\n",
    "print(\"правильность tree: {:.2f}\".format(tree.score(X_test, y_test)))"
   ],
   "metadata": {
    "collapsed": false,
    "ExecuteTime": {
     "end_time": "2024-12-08T18:09:59.954924800Z",
     "start_time": "2024-12-08T18:09:59.898049800Z"
    }
   },
   "id": "93b33d3e1eb6185"
  },
  {
   "cell_type": "markdown",
   "source": [
    "Как видим из вывода, Логическая регрессия и Tree Classifier лучше классифицируют рак, нежели случайный Dummy."
   ],
   "metadata": {
    "collapsed": false
   },
   "id": "777c09114914134d"
  },
  {
   "cell_type": "code",
   "execution_count": 22,
   "outputs": [
    {
     "name": "stdout",
     "output_type": "stream",
     "text": [
      "Confusion logreg matrix:\n",
      " [[51  2]\n",
      " [ 6 84]]\n",
      "Confusion dummy matrix:\n",
      " [[ 0 53]\n",
      " [ 0 90]]\n",
      "Confusion tree matrix:\n",
      " [[47  6]\n",
      " [ 5 85]]\n"
     ]
    }
   ],
   "source": [
    "from sklearn.metrics import confusion_matrix\n",
    "confusion = confusion_matrix(y_test, pred_logreg)\n",
    "print(\"Confusion logreg matrix:\\n {}\".format(confusion))\n",
    "confusion = confusion_matrix(y_test, pred_dummy)\n",
    "print(\"Confusion dummy matrix:\\n {}\".format(confusion))\n",
    "confusion = confusion_matrix(y_test, pred_tree)\n",
    "print(\"Confusion tree matrix:\\n {}\".format(confusion))"
   ],
   "metadata": {
    "collapsed": false,
    "ExecuteTime": {
     "end_time": "2024-12-08T18:10:07.264503900Z",
     "start_time": "2024-12-08T18:10:07.233660400Z"
    }
   },
   "id": "a84a0f6464ee156f"
  },
  {
   "cell_type": "markdown",
   "source": [
    "Опять видим результат, что Logreg и Tree работают лучше, чем Dummy(кто бы удивлялся). Также можно увидеть, что Logreg определяет чуть больше истинно негативных, а tree чуть больше истинно позитивных результатов."
   ],
   "metadata": {
    "collapsed": false
   },
   "id": "7261fed8fcd9d126"
  },
  {
   "cell_type": "code",
   "execution_count": 23,
   "outputs": [
    {
     "name": "stdout",
     "output_type": "stream",
     "text": [
      "f1-мера дамми: 0.77\n",
      "f1-мера дерево: 0.94\n",
      "f1-мера лог. рег.: 0.95\n"
     ]
    }
   ],
   "source": [
    "from sklearn.metrics import f1_score\n",
    "print(\"f1-мера дамми: {:.2f}\".format(f1_score(y_test, pred_dummy)))\n",
    "print(\"f1-мера дерево: {:.2f}\".format(f1_score(y_test, pred_tree)))\n",
    "print(\"f1-мера лог. рег.: {:.2f}\".format(f1_score(y_test, pred_logreg)))"
   ],
   "metadata": {
    "collapsed": false,
    "ExecuteTime": {
     "end_time": "2024-12-08T18:10:13.271170400Z",
     "start_time": "2024-12-08T18:10:13.239258200Z"
    }
   },
   "id": "9be9ab7e16b07714"
  },
  {
   "cell_type": "markdown",
   "source": [
    "Здесь мы видим, что опять дамми внизу списка, а дерево и logreg почти одинаковы. Но на удивление у dummy не плохая."
   ],
   "metadata": {
    "collapsed": false
   },
   "id": "c261e0a431be6c02"
  },
  {
   "cell_type": "code",
   "execution_count": 24,
   "outputs": [
    {
     "name": "stdout",
     "output_type": "stream",
     "text": [
      "              precision    recall  f1-score   support\n",
      "\n",
      " Have cancer       0.89      0.96      0.93        53\n",
      "   No cancer       0.98      0.93      0.95        90\n",
      "\n",
      "    accuracy                           0.94       143\n",
      "   macro avg       0.94      0.95      0.94       143\n",
      "weighted avg       0.95      0.94      0.94       143\n"
     ]
    }
   ],
   "source": [
    "from sklearn.metrics import classification_report\n",
    "print(classification_report(y_test, pred_logreg, target_names=[\"Have cancer\", \"No cancer\"]))"
   ],
   "metadata": {
    "collapsed": false,
    "ExecuteTime": {
     "end_time": "2024-12-08T18:10:18.554545200Z",
     "start_time": "2024-12-08T18:10:18.523085400Z"
    }
   },
   "id": "a83f84e23589d006"
  },
  {
   "cell_type": "code",
   "execution_count": 25,
   "outputs": [
    {
     "name": "stdout",
     "output_type": "stream",
     "text": [
      "              precision    recall  f1-score   support\n",
      "\n",
      " Have cancer       0.90      0.89      0.90        53\n",
      "   No cancer       0.93      0.94      0.94        90\n",
      "\n",
      "    accuracy                           0.92       143\n",
      "   macro avg       0.92      0.92      0.92       143\n",
      "weighted avg       0.92      0.92      0.92       143\n"
     ]
    }
   ],
   "source": [
    "from sklearn.metrics import classification_report\n",
    "print(classification_report(y_test, pred_tree, target_names=[\"Have cancer\", \"No cancer\"]))"
   ],
   "metadata": {
    "collapsed": false,
    "ExecuteTime": {
     "end_time": "2024-12-08T18:10:19.485997700Z",
     "start_time": "2024-12-08T18:10:19.441399100Z"
    }
   },
   "id": "f075e4560557124"
  },
  {
   "cell_type": "code",
   "execution_count": 26,
   "outputs": [
    {
     "name": "stdout",
     "output_type": "stream",
     "text": [
      "              precision    recall  f1-score   support\n",
      "\n",
      " Have cancer       0.00      0.00      0.00        53\n",
      "   No cancer       0.63      1.00      0.77        90\n",
      "\n",
      "    accuracy                           0.63       143\n",
      "   macro avg       0.31      0.50      0.39       143\n",
      "weighted avg       0.40      0.63      0.49       143\n"
     ]
    },
    {
     "name": "stderr",
     "output_type": "stream",
     "text": [
      "D:\\Projects\\Big_Data_5_semester\\venv\\lib\\site-packages\\sklearn\\metrics\\_classification.py:1531: UndefinedMetricWarning: Precision is ill-defined and being set to 0.0 in labels with no predicted samples. Use `zero_division` parameter to control this behavior.\n",
      "  _warn_prf(average, modifier, f\"{metric.capitalize()} is\", len(result))\n",
      "D:\\Projects\\Big_Data_5_semester\\venv\\lib\\site-packages\\sklearn\\metrics\\_classification.py:1531: UndefinedMetricWarning: Precision is ill-defined and being set to 0.0 in labels with no predicted samples. Use `zero_division` parameter to control this behavior.\n",
      "  _warn_prf(average, modifier, f\"{metric.capitalize()} is\", len(result))\n",
      "D:\\Projects\\Big_Data_5_semester\\venv\\lib\\site-packages\\sklearn\\metrics\\_classification.py:1531: UndefinedMetricWarning: Precision is ill-defined and being set to 0.0 in labels with no predicted samples. Use `zero_division` parameter to control this behavior.\n",
      "  _warn_prf(average, modifier, f\"{metric.capitalize()} is\", len(result))\n"
     ]
    }
   ],
   "source": [
    "from sklearn.metrics import classification_report\n",
    "print(classification_report(y_test, pred_dummy, target_names=[\"Have cancer\", \"No cancer\"]))"
   ],
   "metadata": {
    "collapsed": false,
    "ExecuteTime": {
     "end_time": "2024-12-08T18:10:20.333144800Z",
     "start_time": "2024-12-08T18:10:20.270601900Z"
    }
   },
   "id": "cddfc8a74020fb1b"
  },
  {
   "cell_type": "markdown",
   "source": [
    "Здесь мы можем увидеть, что обе модели очень схожи по результатам, а dummy вообще не рабочий."
   ],
   "metadata": {
    "collapsed": false
   },
   "id": "b86648e2f510f79"
  },
  {
   "cell_type": "code",
   "execution_count": 37,
   "outputs": [],
   "source": [
    "# from mglearn.datasets import make_blobs\n",
    "# X, y = make_blobs(n_samples=(400, 50), cluster_std=[7.0, 2], random_state=22)\n",
    "# X_train, X_test, y_train, y_test = train_test_split(X, y, random_state=0)\n",
    "# svc = SVC(gamma=.05).fit(X_train, y_train)\n",
    "# from sklearn.metrics import precision_recall_curve\n",
    "# precision, recall, threshholds = precision_recall_curve(y_test, svc.decision_function(X_test))"
   ],
   "metadata": {
    "collapsed": false,
    "ExecuteTime": {
     "end_time": "2024-12-08T17:49:06.400318400Z",
     "start_time": "2024-12-08T17:49:06.359511400Z"
    }
   },
   "id": "44eef610ea6d1d4c"
  },
  {
   "cell_type": "code",
   "execution_count": 27,
   "outputs": [
    {
     "data": {
      "text/plain": "<matplotlib.legend.Legend at 0x28adc21d2e0>"
     },
     "execution_count": 27,
     "metadata": {},
     "output_type": "execute_result"
    },
    {
     "data": {
      "text/plain": "<Figure size 640x480 with 1 Axes>",
      "image/png": "[encoded data removed]"
     },
     "metadata": {},
     "output_type": "display_data"
    }
   ],
   "source": [
    "from sklearn.metrics import precision_recall_curve\n",
    "from mglearn.datasets import make_blobs\n",
    "X, y = make_blobs(n_samples=(4000, 50), cluster_std=[7.0, 2],\n",
    "                  random_state=22)\n",
    "X_train, X_test, y_train, y_test = train_test_split(X, y, random_state=0)\n",
    "svc =SVC(gamma=.05).fit(X_train, y_train)\n",
    "precision, recall, thresholds = precision_recall_curve(y_test, svc.decision_function(X_test))\n",
    "\n",
    "close_zero = np.argmin(np.abs(thresholds))\n",
    "plt.plot(precision[close_zero], recall[close_zero], 'o', markersize=10, label=\"порог 0\",\n",
    "         fillstyle=\"none\", c='k', mew=2)\n",
    "plt.plot(precision, recall, label = \"кривая точности-полноты\")\n",
    "plt.xlabel(\"Точность\")\n",
    "plt.ylabel(\"Полнота\")\n",
    "plt.legend(loc=\"best\")"
   ],
   "metadata": {
    "collapsed": false,
    "ExecuteTime": {
     "end_time": "2024-12-08T18:10:24.761150500Z",
     "start_time": "2024-12-08T18:10:24.613740600Z"
    }
   },
   "id": "4de9f08244a96f4a"
  },
  {
   "cell_type": "markdown",
   "source": [
    "Порог 0 получается странным, я не понял почему. На графике видим, что что-то не сработало правильно. При точности около 0.17 мы получаем полноту более менее 0.5. Метрики для мультиклассовой проверки проводить не будем, так как в датасете только 2 класса. Тут имеет смысл использовать только метрику бинарной классификации, так как человек имеет рак, или нет"
   ],
   "metadata": {
    "collapsed": false
   },
   "id": "be92050777db778c"
  },
  {
   "cell_type": "code",
   "execution_count": 30,
   "outputs": [
    {
     "name": "stdout",
     "output_type": "stream",
     "text": [
      "Метрика качества по умолчанию: [0.85087719 0.89473684 0.92982456 0.94736842 0.9380531 ]\n",
      "Метрика качества AUC: [0.95447101 0.97772683 0.98148148 0.97189153 0.98423877]\n"
     ]
    }
   ],
   "source": [
    "print(\"Метрика качества по умолчанию: {}\".format(cross_val_score(SVC(), cancer.data, cancer.target)))\n",
    "# explicit_accuracy = cross_val_score(SVC(), cancer.data, cancer.data, scoring=\"accuracy\")\n",
    "# print(\"Метрика качесьва явно заданная правильность: {}\".format(explicit_accuracy))\n",
    "# Наш датасет не подходит для scoring = accuracy, при запуске кода выдаёт ошибку\n",
    "roc_auc = cross_val_score(SVC(), cancer.data, cancer.target, scoring=\"roc_auc\")\n",
    "print(\"Метрика качества AUC: {}\".format(roc_auc))"
   ],
   "metadata": {
    "collapsed": false,
    "ExecuteTime": {
     "end_time": "2024-12-08T18:20:45.883495300Z",
     "start_time": "2024-12-08T18:20:45.830059400Z"
    }
   },
   "id": "e102c07e5116a91a"
  },
  {
   "cell_type": "code",
   "execution_count": 34,
   "outputs": [
    {
     "name": "stdout",
     "output_type": "stream",
     "text": [
      "Решатчатый поиск с использованием правильности\n",
      "Наилучшие параметры:  {'gamma': 0.0001}\n",
      "Наилучшее значение перекр проверки(Правильность)): 0.939\n",
      "AUC на тестовом наборе: 0.969\n",
      "Правильность на тестовом наборе: 0.944\n"
     ]
    }
   ],
   "source": [
    "from sklearn.metrics import roc_auc_score\n",
    "X_train, X_test, y_train, y_test = train_test_split(cancer.data, cancer.target, random_state=0)\n",
    "\n",
    "param_grid = {'gamma':[0.0001, 0.01, 0.1, 1, 10]}\n",
    "\n",
    "grid = GridSearchCV(SVC(), param_grid=param_grid)\n",
    "grid.fit(X_train, y_train)\n",
    "print(\"Решатчатый поиск с использованием правильности\")\n",
    "print(\"Наилучшие параметры: \", grid.best_params_)\n",
    "print(\"Наилучшее значение перекр проверки(Правильность)): {:.3f}\".format(grid.best_score_))\n",
    "print(\"AUC на тестовом наборе: {:.3f}\".format(roc_auc_score(y_test, grid.decision_function(X_test))))\n",
    "print(\"Правильность на тестовом наборе: {:.3f}\".format(grid.score(X_test, y_test)))"
   ],
   "metadata": {
    "collapsed": false,
    "ExecuteTime": {
     "end_time": "2024-12-08T18:28:36.754201100Z",
     "start_time": "2024-12-08T18:28:36.518845500Z"
    }
   },
   "id": "d56db99c7b091c9f"
  },
  {
   "cell_type": "code",
   "execution_count": 35,
   "outputs": [
    {
     "name": "stdout",
     "output_type": "stream",
     "text": [
      "Решатчатый поиск с использованием AUC\n",
      "Наилучшие параметры:  {'gamma': 0.0001}\n",
      "Наилучшее значение перекр проверки(AUC)): 0.975\n",
      "AUC на тестовом наборе: 0.969\n",
      "Правильность на тестовом наборе: 0.969\n"
     ]
    }
   ],
   "source": [
    "grid = GridSearchCV(SVC(), param_grid = param_grid, scoring =\"roc_auc\")\n",
    "grid.fit(X_train, y_train)\n",
    "print(\"Решатчатый поиск с использованием AUC\")\n",
    "print(\"Наилучшие параметры: \", grid.best_params_)\n",
    "print(\"Наилучшее значение перекр проверки(AUC)): {:.3f}\".format(grid.best_score_))\n",
    "print(\"AUC на тестовом наборе: {:.3f}\".format(roc_auc_score(y_test, grid.decision_function(X_test))))\n",
    "print(\"Правильность на тестовом наборе: {:.3f}\".format(grid.score(X_test, y_test)))"
   ],
   "metadata": {
    "collapsed": false,
    "ExecuteTime": {
     "end_time": "2024-12-08T18:28:40.231928400Z",
     "start_time": "2024-12-08T18:28:39.983030300Z"
    }
   },
   "id": "b12a41fe2aff8c13"
  },
  {
   "cell_type": "markdown",
   "source": [
    "Итого: при том что gamma использовалась одна и та же в обоих случаях(Правильность, AUC), но видим, что модель улучшилась, чему мы очень рады."
   ],
   "metadata": {
    "collapsed": false
   },
   "id": "c99af562de7c2199"
  },
  {
   "cell_type": "code",
   "execution_count": 54,
   "outputs": [
    {
     "name": "stdout",
     "output_type": "stream",
     "text": [
      "Размер обучающей выборки X_train: (800, 12)\n",
      "Размер тестовой выборки X_test: (200, 12)\n",
      "Точность модели: 0.2500\n",
      "Матрица ошибок:\n",
      " [[81  1  5  2]\n",
      " [37  2  0  2]\n",
      " [31  2  2  2]\n",
      " [31  0  1  1]]\n",
      "\n",
      "Классификационный отчет:\n",
      "               precision    recall  f1-score   support\n",
      "\n",
      "           0       0.45      0.91      0.60        89\n",
      "           1       0.40      0.05      0.09        41\n",
      "           2       0.25      0.05      0.09        37\n",
      "           3       0.14      0.03      0.05        33\n",
      "\n",
      "    accuracy                           0.43       200\n",
      "   macro avg       0.31      0.26      0.21       200\n",
      "weighted avg       0.35      0.43      0.31       200\n"
     ]
    }
   ],
   "source": [
    "import random\n",
    "import pandas as pd\n",
    "\n",
    "# Генерация данных\n",
    "cities = ['Bishkek', 'Almaty', 'Moscow', 'London', 'New York']\n",
    "vacation_types = ['Shopping', 'Beach holiday', 'Adventure', 'Cultural']\n",
    "transport_types = ['auto', 'plane', 'train', 'bus']\n",
    "target_cities = ['London', 'Moscow', 'Dubai', 'Tokyo', 'Paris']\n",
    "\n",
    "# Создаем список значений для каждого столбца\n",
    "data = []\n",
    "for _ in range(1000):\n",
    "    salary = random.randint(30000, 150000)  # Зарплата от 30k до 150k\n",
    "    city = random.choice(cities)  # Город проживания\n",
    "    age = random.randint(18, 65)  # Возраст от 18 до 65\n",
    "    vacation_prefer = random.choice(vacation_types)  # Предпочтения в отпуске\n",
    "    transport_prefer = random.choice(transport_types)  # Предпочтения в транспорте\n",
    "    target = random.choice(target_cities)  # Город для отпуска\n",
    "    \n",
    "    data.append([salary, city, age, vacation_prefer, transport_prefer, target])\n",
    "\n",
    "# Преобразуем в DataFrame\n",
    "df = pd.DataFrame(data, columns=['salary', 'city', 'age', 'vacation_prefer', 'transport_prefer', 'target'])\n",
    "\n",
    "# Преобразуем категориальные данные в числовые с помощью get_dummies\n",
    "df_encoded = pd.get_dummies(df, columns=['city', 'vacation_prefer', 'transport_prefer', 'target'], drop_first=True)\n",
    "from sklearn.model_selection import train_test_split\n",
    "\n",
    "# Определяем признаки (все столбцы, кроме целевой переменной)\n",
    "X = df_encoded.drop(columns=['target_London', 'target_Moscow', 'target_Paris', 'target_Tokyo'])  # Убираем столбцы целевой переменной\n",
    "\n",
    "# Определяем целевую переменную (используем один или несколько бинарных столбцов для городов)\n",
    "y = df_encoded[['target_London', 'target_Moscow', 'target_Paris', 'target_Tokyo']]  # Это будет целевая переменная\n",
    "\n",
    "# Разделяем данные на обучающую и тестовую выборки (80%/20%)\n",
    "X_train, X_test, y_train, y_test = train_test_split(X, y, test_size=0.2, random_state=42)\n",
    "\n",
    "# Выводим размеры выборок для проверки\n",
    "print(f'Размер обучающей выборки X_train: {X_train.shape}')\n",
    "print(f'Размер тестовой выборки X_test: {X_test.shape}')\n",
    "\n",
    "from sklearn.ensemble import RandomForestClassifier\n",
    "from sklearn.metrics import accuracy_score\n",
    "\n",
    "# Создаем модель RandomForestClassifier\n",
    "model = RandomForestClassifier(random_state=42)\n",
    "\n",
    "# Обучаем модель на обучающих данных\n",
    "model.fit(X_train, y_train)\n",
    "\n",
    "# Делаем предсказания на тестовой выборке\n",
    "y_pred = model.predict(X_test)\n",
    "\n",
    "# Оцениваем точность модели\n",
    "accuracy = accuracy_score(y_test, y_pred)\n",
    "\n",
    "# Выводим точность\n",
    "print(f'Точность модели: {accuracy:.4f}')\n",
    "\n",
    "from sklearn.metrics import confusion_matrix, classification_report\n",
    "\n",
    "# Получаем матрицу ошибок для модели\n",
    "# Используем argmax для получения метки класса из многоклассового представления\n",
    "y_test_max = y_test.values.argmax(axis=1)\n",
    "y_pred_max = y_pred.argmax(axis=1)\n",
    "\n",
    "conf_matrix = confusion_matrix(y_test_max, y_pred_max)\n",
    "\n",
    "# Получаем классификационный отчет\n",
    "class_report = classification_report(y_test_max, y_pred_max)\n",
    "\n",
    "print(\"Матрица ошибок:\\n\", conf_matrix)\n",
    "print(\"\\nКлассификационный отчет:\\n\", class_report)\n",
    "\n"
   ],
   "metadata": {
    "collapsed": false,
    "ExecuteTime": {
     "end_time": "2024-12-08T19:06:20.051211200Z",
     "start_time": "2024-12-08T19:06:19.858437200Z"
    }
   },
   "id": "7cf857bb21749bee"
  },
  {
   "cell_type": "code",
   "execution_count": 55,
   "outputs": [
    {
     "name": "stdout",
     "output_type": "stream",
     "text": [
      "Предсказание для случайных данных: [[False False False False]]\n"
     ]
    }
   ],
   "source": [
    "import numpy as np\n",
    "\n",
    "# Генерация случайных данных\n",
    "random_data = {\n",
    "    'salary': [random.randint(30000, 150000)],\n",
    "    'age': [random.randint(18, 65)],\n",
    "    'city_Bishkek': [random.choice([0, 1])],\n",
    "    'city_London': [random.choice([0, 1])],\n",
    "    'city_Moscow': [random.choice([0, 1])],\n",
    "    'city_New York': [random.choice([0, 1])],\n",
    "    'vacation_prefer_Beach holiday': [random.choice([0, 1])],\n",
    "    'vacation_prefer_Cultural': [random.choice([0, 1])],\n",
    "    'vacation_prefer_Shopping': [random.choice([0, 1])],\n",
    "    'transport_prefer_bus': [random.choice([0, 1])],\n",
    "    'transport_prefer_plane': [random.choice([0, 1])],\n",
    "    'transport_prefer_train': [random.choice([0, 1])],\n",
    "}\n",
    "\n",
    "# Создаем DataFrame для случайных данных\n",
    "random_df = pd.DataFrame(random_data)\n",
    "\n",
    "# Делаем предсказание для случайных данных\n",
    "random_pred = model.predict(random_df)\n",
    "\n",
    "# Печатаем предсказания\n",
    "print(\"Предсказание для случайных данных:\", random_pred)\n"
   ],
   "metadata": {
    "collapsed": false,
    "ExecuteTime": {
     "end_time": "2024-12-08T19:06:40.680228500Z",
     "start_time": "2024-12-08T19:06:40.640290200Z"
    }
   },
   "id": "b7e8244191d9d6b4"
  },
  {
   "cell_type": "code",
   "execution_count": 56,
   "outputs": [
    {
     "name": "stdout",
     "output_type": "stream",
     "text": [
      "Вероятности для случайных данных: [array([[0.97, 0.03]]), array([[0.86, 0.14]]), array([[0.89, 0.11]]), array([[0.74, 0.26]])]\n"
     ]
    }
   ],
   "source": [
    "# Получаем вероятности для случайных данных\n",
    "random_proba = model.predict_proba(random_df)\n",
    "\n",
    "# Печатаем вероятности для каждого класса\n",
    "print(\"Вероятности для случайных данных:\", random_proba)\n"
   ],
   "metadata": {
    "collapsed": false,
    "ExecuteTime": {
     "end_time": "2024-12-08T19:07:45.794956200Z",
     "start_time": "2024-12-08T19:07:45.706396300Z"
    }
   },
   "id": "eae76f687a9da6dc"
  },
  {
   "cell_type": "code",
   "execution_count": 69,
   "outputs": [
    {
     "name": "stdout",
     "output_type": "stream",
     "text": [
      "Точность Logistic Regression: 0.455\n",
      "Классификационный отчет Logistic Regression:\n",
      "               precision    recall  f1-score   support\n",
      "\n",
      "           0       0.46      0.97      0.63        89\n",
      "           1       0.50      0.02      0.05        41\n",
      "           2       0.33      0.11      0.16        37\n",
      "           3       0.00      0.00      0.00        33\n",
      "\n",
      "    accuracy                           0.46       200\n",
      "   macro avg       0.32      0.27      0.21       200\n",
      "weighted avg       0.37      0.46      0.32       200\n",
      "\n",
      "Точность Decision Tree: 0.255\n",
      "Классификационный отчет Decision Tree:\n",
      "               precision    recall  f1-score   support\n",
      "\n",
      "           0       0.34      0.31      0.33        89\n",
      "           1       0.20      0.17      0.18        41\n",
      "           2       0.20      0.24      0.22        37\n",
      "           3       0.19      0.21      0.20        33\n",
      "\n",
      "    accuracy                           0.26       200\n",
      "   macro avg       0.23      0.24      0.23       200\n",
      "weighted avg       0.26      0.26      0.26       200\n",
      "Cross-validation для Logistic Regression: 0.40800000000000003\n",
      "Лучшие параметры для Decision Tree: {'max_depth': 10, 'min_samples_leaf': 1, 'min_samples_split': 5}\n",
      "Лучшие параметры для Decision Tree с RandomizedSearchCV: {'max_depth': 10, 'min_samples_leaf': 2, 'min_samples_split': 3}\n",
      "Точность с лучшими параметрами: 0.305\n",
      "Классификационный отчет с лучшими параметрами:\n",
      "               precision    recall  f1-score   support\n",
      "\n",
      "           0       0.39      0.51      0.44        89\n",
      "           1       0.22      0.17      0.19        41\n",
      "           2       0.19      0.14      0.16        37\n",
      "           3       0.16      0.12      0.14        33\n",
      "\n",
      "    accuracy                           0.30       200\n",
      "   macro avg       0.24      0.23      0.23       200\n",
      "weighted avg       0.28      0.30      0.29       200\n",
      "\n",
      "AUC с лучшими параметрами: 0.45066033377194026\n"
     ]
    }
   ],
   "source": [
    "import numpy as np\n",
    "from sklearn.linear_model import LogisticRegression\n",
    "from sklearn.tree import DecisionTreeClassifier\n",
    "from sklearn.metrics import accuracy_score, classification_report\n",
    "from sklearn.model_selection import GridSearchCV, RandomizedSearchCV, cross_val_score\n",
    "from scipy.stats import randint\n",
    "\n",
    "# Преобразуем y в одномерный массив (индексы классов)\n",
    "y_train_max = np.argmax(y_train.to_numpy(), axis=1)  # Используем np.argmax\n",
    "y_test_max = np.argmax(y_test.to_numpy(), axis=1)  # Используем np.argmax\n",
    "\n",
    "# 1. Logistic Regression\n",
    "logreg = LogisticRegression(max_iter=20000, random_state=42)\n",
    "logreg.fit(X_train, y_train_max)  # Обучаем модель на одномерных метках\n",
    "logreg_pred = logreg.predict(X_test)\n",
    "\n",
    "# Оценка модели Logistic Regression\n",
    "print(\"Точность Logistic Regression:\", accuracy_score(y_test_max, logreg_pred))\n",
    "print(\"Классификационный отчет Logistic Regression:\\n\", classification_report(y_test_max, logreg_pred))\n",
    "\n",
    "# 2. Decision Tree Classifier\n",
    "tree = DecisionTreeClassifier(random_state=42)\n",
    "tree.fit(X_train, y_train_max)  # Обучаем модель на одномерных метках\n",
    "tree_pred = tree.predict(X_test)\n",
    "\n",
    "# Оценка модели Decision Tree Classifier\n",
    "print(\"Точность Decision Tree:\", accuracy_score(y_test_max, tree_pred))\n",
    "print(\"Классификационный отчет Decision Tree:\\n\", classification_report(y_test_max, tree_pred))\n",
    "\n",
    "# 3. Перекрестная проверка (cross-validation) для модели Logistic Regression\n",
    "cross_val_scores = cross_val_score(logreg, X, np.argmax(y, axis=1), cv=5)\n",
    "print(\"Cross-validation для Logistic Regression:\", cross_val_scores.mean())\n",
    "\n",
    "# 4. Поиск гиперпараметров с GridSearchCV\n",
    "param_grid = {\n",
    "    'max_depth': [None, 10, 20, 30],\n",
    "    'min_samples_split': [2, 5, 10],\n",
    "    'min_samples_leaf': [1, 2, 4]\n",
    "}\n",
    "grid_search = GridSearchCV(DecisionTreeClassifier(random_state=42), param_grid, cv=5, n_jobs=-1)\n",
    "grid_search.fit(X_train, y_train_max)\n",
    "print(\"Лучшие параметры для Decision Tree:\", grid_search.best_params_)\n",
    "\n",
    "# 5. Поиск гиперпараметров с RandomizedSearchCV\n",
    "param_dist = {\n",
    "    'max_depth': [None, 10, 20, 30],\n",
    "    'min_samples_split': randint(2, 10),\n",
    "    'min_samples_leaf': randint(1, 10)\n",
    "}\n",
    "random_search = RandomizedSearchCV(DecisionTreeClassifier(random_state=42), param_dist, n_iter=100, cv=5, n_jobs=-1, random_state=42)\n",
    "random_search.fit(X_train, y_train_max)\n",
    "print(\"Лучшие параметры для Decision Tree с RandomizedSearchCV:\", random_search.best_params_)\n",
    "\n",
    "# 6. Оценка модели с лучшими гиперпараметрами (GridSearchCV или RandomizedSearchCV)\n",
    "best_tree = grid_search.best_estimator_  # Используем лучший классификатор из GridSearchCV\n",
    "best_tree_pred = best_tree.predict(X_test)\n",
    "best_tree_pred_proba = best_tree.predict_proba(X_test)  # Для AUC нужен прогноз вероятностей\n",
    "\n",
    "print(\"Точность с лучшими параметрами:\", accuracy_score(y_test_max, best_tree_pred))\n",
    "print(\"Классификационный отчет с лучшими параметрами:\\n\", classification_report(y_test_max, best_tree_pred))\n",
    "best_tree_auc = roc_auc_score(y_test_max, best_tree_pred_proba, multi_class='ovr', average='weighted')\n",
    "print(\"AUC с лучшими параметрами:\", best_tree_auc)\n"
   ],
   "metadata": {
    "collapsed": false,
    "ExecuteTime": {
     "end_time": "2024-12-08T19:22:56.058990300Z",
     "start_time": "2024-12-08T19:22:49.368090200Z"
    }
   },
   "id": "d6aa4ead5105144c"
  },
  {
   "cell_type": "markdown",
   "source": [
    "### Вывод:\n",
    "\n",
    "Поскольку данные в нашем наборе случайно сгенерированы, качество моделей остается низким. Это объясняется тем, что нет реальной зависимости между входными переменными и целевой переменной, что приводит к плохим результатам как для модели **Logistic Regression**, так и для **Decision Tree**. Таким образом, метрики точности и AUC остаются низкими, а классификационные отчеты показывают слабые показатели для всех классов.\n",
    "\n",
    "**Основные моменты работы:**\n",
    "\n",
    "1. **Построение случайного набора данных:**\n",
    "   Мы создали случайный датасет с 1000 строк, содержащий 5 признаков (`salary`, `city`, `age`, `vacation_prefer`, `transport_prefer`) и целевую переменную `target`, которая представляет собой город, в котором человек хочет провести отпуск. Для генерации данных использовались случайные выборки с использованием библиотеки `random`.\n",
    "\n",
    "2. **Преобразование категориальных данных:**\n",
    "   Все категориальные признаки были преобразованы в числовой формат с помощью `pd.get_dummies`, что позволило создать бинарные признаки для каждого значения категорий. Это является необходимым шагом, чтобы классификаторы могли работать с этими данными.\n",
    "\n",
    "3. **Разделение данных на обучающую и тестовую выборки:**\n",
    "   Данные были разделены на обучающую (80%) и тестовую (20%) выборки для дальнейшего обучения модели и оценки ее производительности.\n",
    "\n",
    "4. **Обучение моделей:**\n",
    "   Мы использовали две модели классификации: **Logistic Regression** и **Decision Tree**. Каждая модель была обучена на преобразованных данных с использованием соответствующих методов.\n",
    "\n",
    "5. **Оценка моделей:**\n",
    "   Для оценки качества моделей мы использовали метрики точности (accuracy) и AUC (Area Under the Curve). Мы также применили **кросс-валидацию** и **поиск гиперпараметров** с помощью методов `GridSearchCV` и `RandomizedSearchCV` для нахождения лучших параметров модели.\n",
    "\n",
    "6. **Результаты:**\n",
    "   - **Logistic Regression** показала точность 45.5%, с наилучшей производительностью в классе 0 (отпуск в Лондоне), но очень слабые результаты для других классов.\n",
    "   - **Decision Tree** показала точность 25.5%, и результаты по классам также были очень низкими.\n",
    "   - Оценка AUC для модели с лучшими гиперпараметрами составила **0.45**, что также указывает на низкое качество модели.\n",
    "   \n",
    "7. **Заключение:**\n",
    "   Из-за случайного характера данных, метрики качества моделей оказались низкими. Это подчеркивает важность использования реальных, сбалансированных данных для построения и оценки моделей машинного обучения. Полученные результаты подтверждают, что для эффективной работы моделей необходимо наличие явных зависимостей в данных, которых в данном случае нет.\n",
    "\n",
    "Таким образом, основная цель работы была продемонстрировать подходы к обучению моделей и оценке их качества, но результат не является отражением реальных способностей модели из-за случайности данных."
   ],
   "metadata": {
    "collapsed": false
   },
   "id": "3f68553fb38599d8"
  },
  {
   "cell_type": "markdown",
   "source": [
    "Также я хорошо провёл время делая первую часть этой лабараторной работы(Включить музыку и потихоньку читать-переписывать код с документа), но так как она достаточно объёмная, вторая часть уже получалась через силу(особенно последний пункт задания). Мне нравится машинное обучение, хоть я и мало в нём понимаю. Спасибо Вам за такую подробную и информативную лабараторную работу."
   ],
   "metadata": {
    "collapsed": false
   },
   "id": "4c036a18051ce6cd"
  },
  {
   "cell_type": "code",
   "execution_count": null,
   "outputs": [],
   "source": [],
   "metadata": {
    "collapsed": false
   },
   "id": "675fce8a5853e4aa"
  }
 ],
 "metadata": {
  "kernelspec": {
   "display_name": "Python 3",
   "language": "python",
   "name": "python3"
  },
  "language_info": {
   "codemirror_mode": {
    "name": "ipython",
    "version": 2
   },
   "file_extension": ".py",
   "mimetype": "text/x-python",
   "name": "python",
   "nbconvert_exporter": "python",
   "pygments_lexer": "ipython2",
   "version": "2.7.6"
  }
 },
 "nbformat": 4,
 "nbformat_minor": 5
}
