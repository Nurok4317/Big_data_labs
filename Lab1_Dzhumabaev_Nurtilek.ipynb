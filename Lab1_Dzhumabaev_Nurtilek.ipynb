{
 "cells": [
  {
   "cell_type": "code",
   "execution_count": 2,
   "id": "initial_id",
   "metadata": {
    "collapsed": true,
    "ExecuteTime": {
     "end_time": "2024-09-05T11:24:07.221576900Z",
     "start_time": "2024-09-05T11:24:07.195775500Z"
    }
   },
   "outputs": [
    {
     "name": "stdout",
     "output_type": "stream",
     "text": [
      "Hello\n"
     ]
    }
   ],
   "source": [
    "print('Hello')"
   ]
  },
  {
   "cell_type": "markdown",
   "source": [
    "# Getting start with Jupiter Python\n",
    "## We have done\n",
    "* Install[Python](https://www.python.org/downloads/) 3.12\n",
    "* Install Jupyter Python in PyCharm\n",
    "\n",
    "# Raw NBConvert\n",
    "45 + 49"
   ],
   "metadata": {
    "collapsed": false
   },
   "id": "c3adc8d0e52c0bff"
  },
  {
   "cell_type": "code",
   "execution_count": 3,
   "outputs": [
    {
     "data": {
      "text/plain": "int"
     },
     "execution_count": 3,
     "metadata": {},
     "output_type": "execute_result"
    }
   ],
   "source": [
    "i = 5\n",
    "type(i)"
   ],
   "metadata": {
    "collapsed": false,
    "ExecuteTime": {
     "end_time": "2024-09-05T11:27:14.372914500Z",
     "start_time": "2024-09-05T11:27:14.339606Z"
    }
   },
   "id": "e166bd8655ce983e"
  },
  {
   "cell_type": "code",
   "execution_count": 4,
   "outputs": [
    {
     "data": {
      "text/plain": "float"
     },
     "execution_count": 4,
     "metadata": {},
     "output_type": "execute_result"
    }
   ],
   "source": [
    "f = 3.12\n",
    "type(f)"
   ],
   "metadata": {
    "collapsed": false,
    "ExecuteTime": {
     "end_time": "2024-09-05T11:27:39.214347100Z",
     "start_time": "2024-09-05T11:27:39.189128200Z"
    }
   },
   "id": "e65905f67ceb57c9"
  },
  {
   "cell_type": "code",
   "execution_count": 5,
   "outputs": [
    {
     "data": {
      "text/plain": "bool"
     },
     "execution_count": 5,
     "metadata": {},
     "output_type": "execute_result"
    }
   ],
   "source": [
    "b = True\n",
    "type(b)"
   ],
   "metadata": {
    "collapsed": false,
    "ExecuteTime": {
     "end_time": "2024-09-05T11:28:00.290648600Z",
     "start_time": "2024-09-05T11:28:00.265601800Z"
    }
   },
   "id": "efc6b6da22f4c6f6"
  },
  {
   "cell_type": "code",
   "execution_count": 6,
   "outputs": [
    {
     "name": "stdout",
     "output_type": "stream",
     "text": [
      "String\n"
     ]
    }
   ],
   "source": [
    "s = 'String'\n",
    "print(s)"
   ],
   "metadata": {
    "collapsed": false,
    "ExecuteTime": {
     "end_time": "2024-09-05T11:29:11.540607Z",
     "start_time": "2024-09-05T11:29:11.524343200Z"
    }
   },
   "id": "adfb42a26626b39d"
  },
  {
   "cell_type": "code",
   "execution_count": 7,
   "outputs": [
    {
     "name": "stdout",
     "output_type": "stream",
     "text": [
      "{'foo': 1, 'bar': 2.3, 's': 'my first dict'}\n"
     ]
    }
   ],
   "source": [
    "d = {'foo' : 1, 'bar' : 2.3, 's' : 'my first dict'}\n",
    "print(d)"
   ],
   "metadata": {
    "collapsed": false,
    "ExecuteTime": {
     "end_time": "2024-09-05T11:33:56.658682300Z",
     "start_time": "2024-09-05T11:33:56.633884800Z"
    }
   },
   "id": "60bafee842db6e6d"
  },
  {
   "cell_type": "code",
   "execution_count": 13,
   "outputs": [
    {
     "name": "stdout",
     "output_type": "stream",
     "text": [
      " 3.141592653589793  = a  65536.0  =b   256.0   =c \n"
     ]
    }
   ],
   "source": [
    "import math\n",
    "a = math.pi\n",
    "b = math.pow(4, 8)\n",
    "c = math.sqrt(b)\n",
    "print(f' {a}  = a  {b}  =b   {c}   =c ')"
   ],
   "metadata": {
    "collapsed": false,
    "ExecuteTime": {
     "end_time": "2024-09-05T11:40:37.729568700Z",
     "start_time": "2024-09-05T11:40:37.721298100Z"
    }
   },
   "id": "b4f252e0267bb6ce"
  },
  {
   "cell_type": "code",
   "execution_count": 17,
   "outputs": [
    {
     "name": "stdout",
     "output_type": "stream",
     "text": [
      "Our first value is 5. Our second value equals False.\n"
     ]
    }
   ],
   "source": [
    "i = 5\n",
    "n = False\n",
    "print('Our first value is %s. Our second value equals %s.' %(i, n))"
   ],
   "metadata": {
    "collapsed": false,
    "ExecuteTime": {
     "end_time": "2024-09-05T11:46:56.807831800Z",
     "start_time": "2024-09-05T11:46:56.689403600Z"
    }
   },
   "id": "b6692cc98b51e2c1"
  },
  {
   "cell_type": "code",
   "execution_count": 19,
   "outputs": [
    {
     "name": "stdout",
     "output_type": "stream",
     "text": [
      "a = 6 and f < 15\n"
     ]
    }
   ],
   "source": [
    "a = 6\n",
    "b = 12.5\n",
    "if a == 6 and f > 15:\n",
    "    print(\"a = 6 and f > 15\")\n",
    "elif a== 6 and f < 15:\n",
    "    print('a = 6 and f < 15')\n",
    "else: print(' a = ? and b = ?')"
   ],
   "metadata": {
    "collapsed": false,
    "ExecuteTime": {
     "end_time": "2024-09-05T11:49:49.746082600Z",
     "start_time": "2024-09-05T11:49:49.703730900Z"
    }
   },
   "id": "569efc289aa49aa3"
  },
  {
   "cell_type": "code",
   "execution_count": 22,
   "outputs": [
    {
     "name": "stdout",
     "output_type": "stream",
     "text": [
      "[1, 2, 3]\n",
      "1\n"
     ]
    }
   ],
   "source": [
    "ar = [1, 2, 3]\n",
    "print(ar)\n",
    "for e in ar:\n",
    "    print(e)\n",
    "    break"
   ],
   "metadata": {
    "collapsed": false,
    "ExecuteTime": {
     "end_time": "2024-09-05T11:51:39.284494900Z",
     "start_time": "2024-09-05T11:51:39.129622100Z"
    }
   },
   "id": "c2eff5ac374795a1"
  },
  {
   "cell_type": "code",
   "execution_count": 26,
   "outputs": [
    {
     "name": "stdout",
     "output_type": "stream",
     "text": [
      "Number is 0\n",
      "Number is 1\n",
      "Number is 2\n",
      "Number is 3\n",
      "Number is 4\n",
      "Number is 5\n",
      "Number is 6\n",
      "Number is 7\n",
      "Number is 8\n",
      "Number is 9\n",
      "Number is 10\n",
      "Number is 11\n"
     ]
    }
   ],
   "source": [
    "import time\n",
    "for n in range(12):\n",
    "    time.sleep(1)\n",
    "    print(f'Number is {n}') \n"
   ],
   "metadata": {
    "collapsed": false,
    "ExecuteTime": {
     "end_time": "2024-09-05T11:54:34.277391100Z",
     "start_time": "2024-09-05T11:54:22.109991100Z"
    }
   },
   "id": "b8fa8deebaa7d0bd"
  },
  {
   "cell_type": "code",
   "execution_count": 27,
   "outputs": [
    {
     "name": "stdout",
     "output_type": "stream",
     "text": [
      "6\n",
      "7\n",
      "8\n",
      "9\n"
     ]
    }
   ],
   "source": [
    "i = 6\n",
    "while i < 10:\n",
    "    print(i)\n",
    "    i += 1"
   ],
   "metadata": {
    "collapsed": false,
    "ExecuteTime": {
     "end_time": "2024-09-05T11:55:44.395319700Z",
     "start_time": "2024-09-05T11:55:44.127437400Z"
    }
   },
   "id": "322476c39e2c2924"
  },
  {
   "cell_type": "code",
   "execution_count": 30,
   "outputs": [],
   "source": [
    "def add(x):\n",
    "    y = x + 1\n",
    "    return y\n"
   ],
   "metadata": {
    "collapsed": false,
    "ExecuteTime": {
     "end_time": "2024-09-05T11:57:11.348313300Z",
     "start_time": "2024-09-05T11:57:11.254590Z"
    }
   },
   "id": "b899a07ad7532fce"
  },
  {
   "cell_type": "code",
   "execution_count": 31,
   "outputs": [
    {
     "name": "stdout",
     "output_type": "stream",
     "text": [
      "10\n"
     ]
    }
   ],
   "source": [
    "sum = lambda x: x+x\n",
    "summa = sum(5)\n",
    "print(summa)"
   ],
   "metadata": {
    "collapsed": false,
    "ExecuteTime": {
     "end_time": "2024-09-05T11:58:44.951091900Z",
     "start_time": "2024-09-05T11:58:44.741267500Z"
    }
   },
   "id": "ae8bcb99eab2a9f1"
  },
  {
   "cell_type": "markdown",
   "source": [
    "<h1> Heading 1 </h1>\n",
    "<h2> Heading 2 </h2>\n"
   ],
   "metadata": {
    "collapsed": false
   },
   "id": "541fa8aea4380770"
  },
  {
   "cell_type": "markdown",
   "source": [
    "\\begin{equation*}\n",
    "\\left(sum_{k=1}^1 a_k b_k\\right)^2\n",
    "\\end{equation*}"
   ],
   "metadata": {
    "collapsed": false
   },
   "id": "eb08400c36fb2178"
  },
  {
   "cell_type": "code",
   "execution_count": 34,
   "outputs": [
    {
     "name": "stdout",
     "output_type": "stream",
     "text": [
      "\n",
      "Ќ бва®©Є  Їа®в®Є®«  IP ¤«п Windows\n",
      "\n",
      "\n",
      "Ђ¤ ЇвҐа Ethernet Ethernet 2:\n",
      "\n",
      "   ‘®бв®п­ЁҐ баҐ¤л. . . . . . . . : ‘аҐ¤  ЇҐаҐ¤ зЁ ­Ґ¤®бвгЇ­ .\n",
      "   DNS-бгддЁЄб Ї®¤Є«озҐ­Ёп . . . . . : \n",
      "\n",
      "Ђ¤ ЇвҐа Ethernet Ethernet 3:\n",
      "\n",
      "   DNS-бгддЁЄб Ї®¤Є«озҐ­Ёп . . . . . : \n",
      "   ‹®Є «м­л© IPv6- ¤аҐб Є ­ «  . . . : fe80::afb1:e125:2e2:49b%17\n",
      "   IPv4- ¤аҐб. . . . . . . . . . . . : 192.168.56.1\n",
      "   Њ бЄ  Ї®¤бҐвЁ . . . . . . . . . . : 255.255.255.0\n",
      "   Ћб­®ў­®© и«о§. . . . . . . . . : \n",
      "\n",
      "Ђ¤ ЇвҐа ЎҐбЇа®ў®¤­®© «®Є «м­®© бҐвЁ ЃҐбЇа®ў®¤­ п бҐвм:\n",
      "\n",
      "   DNS-бгддЁЄб Ї®¤Є«озҐ­Ёп . . . . . : \n",
      "   IPv4- ¤аҐб. . . . . . . . . . . . : 192.168.64.157\n",
      "   Њ бЄ  Ї®¤бҐвЁ . . . . . . . . . . : 255.255.255.0\n",
      "   Ћб­®ў­®© и«о§. . . . . . . . . : 192.168.64.14\n"
     ]
    }
   ],
   "source": [
    "!ipconfig"
   ],
   "metadata": {
    "collapsed": false,
    "ExecuteTime": {
     "end_time": "2024-09-05T12:05:07.223442900Z",
     "start_time": "2024-09-05T12:05:07.096568500Z"
    }
   },
   "id": "28a24cf3ee9b6455"
  },
  {
   "cell_type": "code",
   "execution_count": 36,
   "outputs": [],
   "source": [
    "#x = lambda f, t, x: f = ((9 * math.pi * t) + (10 * math.cos(x))) / (math.sqrt(t) - math.sin(x)) * math.pow(math.e, -2t)\n",
    "\n",
    "def x(f,t,x):\n",
    "    f = ((9 * math.pi * t) + (10 * math.cos(x))) / (math.sqrt(t) - math.sin(x)) * math.pow(math.e, -2 * t)\n",
    "    return f\n"
   ],
   "metadata": {
    "collapsed": false,
    "ExecuteTime": {
     "end_time": "2024-09-05T12:14:16.059080500Z",
     "start_time": "2024-09-05T12:14:16.016009900Z"
    }
   },
   "id": "ecf603fcba15447"
  },
  {
   "cell_type": "code",
   "execution_count": 2,
   "outputs": [
    {
     "name": "stdout",
     "output_type": "stream",
     "text": [
      "Числа, принадлежащие интервалу: [15, 12]\n"
     ]
    }
   ],
   "source": [
    "def find_numbers_in_interval(a, b, num1, num2, num3):\n",
    "   \n",
    "    result = []\n",
    "    if a <= num1 <= b:\n",
    "        result.append(num1)\n",
    "    if a <= num2 <= b:\n",
    "        result.append(num2)\n",
    "    if a <= num3 <= b:\n",
    "        result.append(num3)\n",
    "    \n",
    "    return result\n",
    "\n",
    "\n",
    "a = 10\n",
    "b = 20\n",
    "num1 = 15\n",
    "num2 = 25\n",
    "num3 = 12\n",
    "\n",
    "result = find_numbers_in_interval(a, b, num1, num2, num3)\n",
    "print(\"Числа, принадлежащие интервалу:\", result)\n"
   ],
   "metadata": {
    "collapsed": false,
    "ExecuteTime": {
     "end_time": "2024-09-19T15:45:35.942829900Z",
     "start_time": "2024-09-19T15:45:35.927157200Z"
    }
   },
   "id": "76290af34e235be4"
  },
  {
   "cell_type": "code",
   "execution_count": 4,
   "outputs": [
    {
     "name": "stdout",
     "output_type": "stream",
     "text": [
      "0\n",
      "4\n",
      "3\n",
      "8\n",
      "10\n",
      "10\n",
      "6\n",
      "1\n",
      "3\n",
      "4\n",
      "1\n",
      "4\n",
      "5\n",
      "0\n",
      "5\n",
      "10\n",
      "1\n",
      "7\n",
      "8\n",
      "3\n"
     ]
    }
   ],
   "source": [
    "import random\n",
    "\n",
    "def random_numbers_generator():\n",
    "    numbers = []\n",
    "    for _ in range(20):\n",
    "        numbers.append(random.randint(0, 10))\n",
    "    return numbers\n",
    "\n",
    "# Пример использования:\n",
    "numbers = random_numbers_generator()\n",
    "for number in numbers:\n",
    "    print(number)\n"
   ],
   "metadata": {
    "collapsed": false,
    "ExecuteTime": {
     "end_time": "2024-09-19T15:48:30.933236500Z",
     "start_time": "2024-09-19T15:48:30.867756Z"
    }
   },
   "id": "e5c03a568d70e4cd"
  },
  {
   "cell_type": "code",
   "execution_count": 6,
   "outputs": [
    {
     "name": "stdout",
     "output_type": "stream",
     "text": [
      "Сумма 20 элементов последовательности: 14.297125466739482\n"
     ]
    }
   ],
   "source": [
    "def calculate_sum_of_sequence(n):\n",
    "    total_sum = 0\n",
    "    for i in range(1, n + 1):\n",
    "        total_sum += i / (i + 1 + 2)\n",
    "    return total_sum\n",
    "\n",
    "\n",
    "n = 20\n",
    "result = calculate_sum_of_sequence(n)\n",
    "print(f\"Сумма {n} элементов последовательности: {result}\")\n"
   ],
   "metadata": {
    "collapsed": false,
    "ExecuteTime": {
     "end_time": "2024-09-19T15:49:21.979361400Z",
     "start_time": "2024-09-19T15:49:21.916814400Z"
    }
   },
   "id": "80823206713f1ae2"
  },
  {
   "cell_type": "markdown",
   "source": [
    "1.\tПочему для работы с большими данными и для машинного обучения выбирают язык Python? Перечислите не менее трех причин.\n",
    "Ответ:\n",
    "    Python является популярным выбором для работы с большими данными и машинного обучения по следующим причинам:\n",
    "\n",
    "Богатая экосистема библиотек:\n",
    "\n",
    "Python предлагает широкий набор библиотек, специально разработанных для работы с данными и машинным обучением, таких как:\n",
    "NumPy и Pandas для обработки и анализа данных.\n",
    "TensorFlow, PyTorch, Scikit-learn для машинного обучения и глубокого обучения.\n",
    "Matplotlib и Seaborn для визуализации данных.\n",
    "Простота и читаемость кода:\n",
    "\n",
    "Python имеет простой синтаксис, который делает его доступным даже для начинающих разработчиков. Это позволяет быстро писать и понимать код, что особенно важно в сложных проектах с большими объемами данных.\n",
    "Сообщество и поддержка:\n",
    "\n",
    "Python имеет огромное и активное сообщество разработчиков и исследователей, которые создают новые инструменты и делятся решениями. Это обеспечивает быстрый доступ к ресурсам, поддержке и актуальной документации."
   ],
   "metadata": {
    "collapsed": false
   },
   "id": "ac71485087467f45"
  },
  {
   "cell_type": "markdown",
   "source": [
    "2.\tВ чем особенности среды Jupyter Notebook, почему ее выбирают специалисты по Data Science? \n",
    "Ответ:\n",
    "Jupyter Notebook популярен среди специалистов по Data Science благодаря возможности интерактивного выполнения кода и мгновенной визуализации результатов. Он поддерживает текстовые и кодовые блоки, что упрощает документирование и объяснение данных прямо в рабочем процессе. Jupyter также гибок, поддерживает различные языки программирования, и его легко использовать для экспериментов и обмена результатами.\n",
    "3. Перечислите основные библиотеки Python для машинного обучения.\n",
    "Ответ:\n",
    "Numpy, Matplotlib, scikit-learn\n",
    "4.\tКакие типы данных Python вы знаете?\n",
    "Ответ:\n",
    "int — целые числа (например, 5, -10)\n",
    "float — числа с плавающей точкой (например, 3.14, -2.5)\n",
    "str — строки (например, \"Hello\", 'Python')\n",
    "bool — логические значения (например, True, False)\n",
    "list — списки (например, [1, 2, 3], ['a', 'b', 'c'])\n",
    "tuple — кортежи (например, (1, 2, 3), ('x', 'y', 'z'))\n",
    "dict — словари (например, {'key': 'value'}, {1: 'one', 2: 'two'})\n",
    "5.\tНазовите основные языковые конструкции Python.\n",
    "Ответ:\n",
    "Условные операторы: if, elif, else — для выполнения кода в зависимости от условий.\n",
    "Циклы: for, while — для повторного выполнения блока кода.\n",
    "Функции: def — для определения функций, которые могут быть вызваны повторно.\n",
    "Классы: class — для создания объектов и организации кода в объектно-ориентированном стиле.\n",
    "Операторы управления потоком: break, continue, return — для управления выполнением циклов и функций.\n",
    "Обработчик исключений: try, except, finally — для обработки ошибок в программе.\n",
    "6.\tКакое назначение у оператора if … else?\n",
    "Ответ:\n",
    "Оператор if … else в Python используется для выполнения разных блоков кода в зависимости от того, истинно или ложно заданное условие.\n",
    "\n",
    "if: Проверяет условие. Если условие истинно, выполняется соответствующий блок кода.\n",
    "else: Выполняется, если условие в if ложно. Это альтернатива, которая предоставляет код, выполняемый в противном случае.\n",
    "7.\tКогда заканчивается выполнение оператора while?\n",
    "Оператор while в Python завершает своё выполнение, когда условие, указанное в цикле, становится ложным.\n",
    "8. Какие способы задания функций есть в Python?\n",
    "Ответ:\n",
    "В Python есть несколько способов задания функций:\n",
    "\n",
    "1. **Обычная функция**:\n",
    "   Используется для определения стандартных функций с помощью ключевого слова `def`.\n",
    "   ```python\n",
    "   def my_function(x):\n",
    "       return x * 2\n",
    "   ```\n",
    "\n",
    "2. **Анонимная функция (lambda)**:\n",
    "   Позволяет создавать функции без имени, обычно для кратковременного использования.\n",
    "   ```python\n",
    "   square = lambda x: x * x\n",
    "   ```\n",
    "\n",
    "3. **Функция-генератор**:\n",
    "   Использует `yield` для создания генераторов, которые могут возвращать несколько значений по одному.\n",
    "   ```python\n",
    "   def count_up_to(max):\n",
    "       count = 1\n",
    "       while count <= max:\n",
    "           yield count\n",
    "           count += 1\n",
    "   ```\n",
    "\n",
    "4. **Функция как объект (использование функций в качестве параметров)**:\n",
    "   Функции могут передаваться в качестве параметров другим функциям, что позволяет создавать высокоуровневые абстракции и декораторы.\n",
    "   ```python\n",
    "   def apply_function(func, value):\n",
    "       return func(value)\n",
    "   \n",
    "   result = apply_function(lambda x: x + 1, 5)\n",
    "   ```\n",
    "\n",
    "5. **Методы класса (функции внутри классов)**:\n",
    "   Определяются внутри классов и работают с экземплярами объектов этого класса.\n",
    "   ```python\n",
    "   class MyClass:\n",
    "       def method(self, x):\n",
    "           return x * 3\n",
    "   ```\n",
    "\n",
    "Эти способы позволяют использовать функции в различных контекстах, от простых вычислений до сложных структур программирования.\n",
    "9.\tЧто такое Лямбда-функция?\n",
    "Ответ:\n",
    "Лямбда-функция в Python — это небольшая анонимная функция, определяемая с помощью ключевого слова lambda. Она используется для создания функций на лету, когда требуется короткая и простая функция, обычно для временного использования. Лямбда-функции имеют ограничение на одну выражение и не могут содержать сложные конструкции, такие как инструкции if, for, while.\n",
    "10.\tКакая библиотека Python отвечает за выполнение основным математических функций?\n",
    "Ответ:\n",
    "В Python основная библиотека для выполнения математических функций — это math.\n",
    "11.\tНазовите дополнительные возможности использования среды Jupyter Notebook.\n",
    "Ответ:\n",
    "\n",
    "Среда Jupyter Notebook предлагает множество дополнительных возможностей, помимо стандартного выполнения кода и визуализации данных:\n",
    "\n",
    "Создание интерактивных визуализаций:\n",
    "\n",
    "Использование библиотек, таких как Plotly или Bokeh, для создания динамических и интерактивных графиков и визуализаций.\n",
    "Документирование и аннотирование:\n",
    "\n",
    "Вставка текстовых ячеек с использованием Markdown и LaTeX для добавления пояснений, формул и документации прямо в ноутбук.\n",
    "Интерактивные виджеты:\n",
    "\n",
    "Использование ipywidgets для создания интерактивных элементов, таких как слайдеры и кнопки, которые позволяют взаимодействовать с данными и моделями.\n",
    "Запуск кода на разных языках программирования:\n",
    "\n",
    "Поддержка многих языков программирования (через ядра), таких как R, Julia, Scala и другие, что позволяет работать с разными инструментами и языками в одном окружении.\n",
    "Совместная работа и обмен:\n",
    "\n",
    "Возможность совместного редактирования и обмена ноутбуками через платформы, такие как JupyterHub или Google Colab.\n",
    "Использование расширений:\n",
    "\n",
    "Установка и использование расширений, таких как nbextensions, для добавления дополнительного функционала и улучшения интерфейса.\n",
    "Экспорт в различные форматы:\n",
    "\n",
    "Возможность экспорта ноутбуков в форматы, такие как HTML, PDF, Markdown, для удобного представления и публикации результатов.\n",
    "Автоматическое тестирование и отладка:\n",
    "\n",
    "Использование инструментов и библиотек для автоматического тестирования кода и отладки, таких как pytest и debugging tools.\n",
    "Эти возможности делают Jupyter Notebook мощным инструментом для анализа данных, создания отчетов и проведения интерактивных исследований."
   ],
   "metadata": {
    "collapsed": false
   },
   "id": "ca1d2d871c8a295"
  }
 ],
 "metadata": {
  "kernelspec": {
   "display_name": "Python 3",
   "language": "python",
   "name": "python3"
  },
  "language_info": {
   "codemirror_mode": {
    "name": "ipython",
    "version": 2
   },
   "file_extension": ".py",
   "mimetype": "text/x-python",
   "name": "python",
   "nbconvert_exporter": "python",
   "pygments_lexer": "ipython2",
   "version": "2.7.6"
  }
 },
 "nbformat": 4,
 "nbformat_minor": 5
}
